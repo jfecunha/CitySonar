{
 "cells": [
  {
   "cell_type": "markdown",
   "metadata": {},
   "source": [
    "# Publico categories classifier"
   ]
  },
  {
   "cell_type": "markdown",
   "metadata": {},
   "source": []
  },
  {
   "cell_type": "code",
   "execution_count": 1,
   "metadata": {},
   "outputs": [],
   "source": [
    "from pathlib import Path\n",
    "import sys\n",
    "\n",
    "parent = Path().absolute().parents[0].as_posix()\n",
    "\n",
    "sys.path.insert(0, parent)\n"
   ]
  },
  {
   "cell_type": "code",
   "execution_count": 3,
   "metadata": {},
   "outputs": [
    {
     "name": "stderr",
     "output_type": "stream",
     "text": [
      "2022-04-27 09:02:03.433369: W tensorflow/stream_executor/platform/default/dso_loader.cc:64] Could not load dynamic library 'libcudart.so.11.0'; dlerror: libcudart.so.11.0: cannot open shared object file: No such file or directory\n",
      "2022-04-27 09:02:03.433389: I tensorflow/stream_executor/cuda/cudart_stub.cc:29] Ignore above cudart dlerror if you do not have a GPU set up on your machine.\n"
     ]
    }
   ],
   "source": [
    "import numpy as np\n",
    "import pandas as pd\n",
    "import spacy\n",
    "\n",
    "from nlpiper.core import Compose\n",
    "from nlpiper.transformers import cleaners\n",
    "from nlpiper.core import Document\n",
    "\n",
    "from src.cleaners import TextCleaner\n",
    "from resources.stopwords import WORDS\n",
    "import tensorflow as tf"
   ]
  },
  {
   "cell_type": "code",
   "execution_count": 4,
   "metadata": {},
   "outputs": [],
   "source": [
    "data_source = pd.read_csv('../data/processed/docs_cleaned_w_categories.csv.gz', compression='gzip')\n"
   ]
  },
  {
   "cell_type": "code",
   "execution_count": 8,
   "metadata": {},
   "outputs": [
    {
     "data": {
      "text/plain": [
       "Index(['city', 'title', 'content', 'year', 'tstamp', 'link', 'source',\n",
       "       'link_len', 'check', 'content_p', 'title_p', 'category'],\n",
       "      dtype='object')"
      ]
     },
     "execution_count": 8,
     "metadata": {},
     "output_type": "execute_result"
    }
   ],
   "source": [
    "data_source.columns"
   ]
  },
  {
   "cell_type": "code",
   "execution_count": 9,
   "metadata": {},
   "outputs": [],
   "source": [
    "subset_categories = data_source.groupby(['city', 'category' ,'year']).size().reset_index(name='N')\n",
    "subset_articles = data_source.groupby(['city', 'source' ,'year']).size().reset_index(name='N')\n",
    "\n"
   ]
  },
  {
   "cell_type": "code",
   "execution_count": 10,
   "metadata": {},
   "outputs": [
    {
     "data": {
      "text/html": [
       "<div>\n",
       "<style scoped>\n",
       "    .dataframe tbody tr th:only-of-type {\n",
       "        vertical-align: middle;\n",
       "    }\n",
       "\n",
       "    .dataframe tbody tr th {\n",
       "        vertical-align: top;\n",
       "    }\n",
       "\n",
       "    .dataframe thead th {\n",
       "        text-align: right;\n",
       "    }\n",
       "</style>\n",
       "<table border=\"1\" class=\"dataframe\">\n",
       "  <thead>\n",
       "    <tr style=\"text-align: right;\">\n",
       "      <th></th>\n",
       "      <th>city</th>\n",
       "      <th>source</th>\n",
       "      <th>year</th>\n",
       "      <th>N</th>\n",
       "    </tr>\n",
       "  </thead>\n",
       "  <tbody>\n",
       "    <tr>\n",
       "      <th>0</th>\n",
       "      <td>Aveiro</td>\n",
       "      <td>expresso.pt</td>\n",
       "      <td>2019</td>\n",
       "      <td>130</td>\n",
       "    </tr>\n",
       "    <tr>\n",
       "      <th>1</th>\n",
       "      <td>Aveiro</td>\n",
       "      <td>expresso.pt</td>\n",
       "      <td>2020</td>\n",
       "      <td>177</td>\n",
       "    </tr>\n",
       "    <tr>\n",
       "      <th>2</th>\n",
       "      <td>Aveiro</td>\n",
       "      <td>expresso.pt</td>\n",
       "      <td>2021</td>\n",
       "      <td>27</td>\n",
       "    </tr>\n",
       "    <tr>\n",
       "      <th>3</th>\n",
       "      <td>Aveiro</td>\n",
       "      <td>jn.pt</td>\n",
       "      <td>2014</td>\n",
       "      <td>4</td>\n",
       "    </tr>\n",
       "    <tr>\n",
       "      <th>4</th>\n",
       "      <td>Aveiro</td>\n",
       "      <td>observador.pt</td>\n",
       "      <td>2014</td>\n",
       "      <td>9</td>\n",
       "    </tr>\n",
       "    <tr>\n",
       "      <th>...</th>\n",
       "      <td>...</td>\n",
       "      <td>...</td>\n",
       "      <td>...</td>\n",
       "      <td>...</td>\n",
       "    </tr>\n",
       "    <tr>\n",
       "      <th>254</th>\n",
       "      <td>Évora</td>\n",
       "      <td>observador.pt</td>\n",
       "      <td>2019</td>\n",
       "      <td>820</td>\n",
       "    </tr>\n",
       "    <tr>\n",
       "      <th>255</th>\n",
       "      <td>Évora</td>\n",
       "      <td>observador.pt</td>\n",
       "      <td>2020</td>\n",
       "      <td>635</td>\n",
       "    </tr>\n",
       "    <tr>\n",
       "      <th>256</th>\n",
       "      <td>Évora</td>\n",
       "      <td>observador.pt</td>\n",
       "      <td>2021</td>\n",
       "      <td>114</td>\n",
       "    </tr>\n",
       "    <tr>\n",
       "      <th>257</th>\n",
       "      <td>Évora</td>\n",
       "      <td>publico.pt</td>\n",
       "      <td>2014</td>\n",
       "      <td>2</td>\n",
       "    </tr>\n",
       "    <tr>\n",
       "      <th>258</th>\n",
       "      <td>Évora</td>\n",
       "      <td>publico.pt</td>\n",
       "      <td>2019</td>\n",
       "      <td>10</td>\n",
       "    </tr>\n",
       "  </tbody>\n",
       "</table>\n",
       "<p>259 rows × 4 columns</p>\n",
       "</div>"
      ],
      "text/plain": [
       "       city         source  year    N\n",
       "0    Aveiro    expresso.pt  2019  130\n",
       "1    Aveiro    expresso.pt  2020  177\n",
       "2    Aveiro    expresso.pt  2021   27\n",
       "3    Aveiro          jn.pt  2014    4\n",
       "4    Aveiro  observador.pt  2014    9\n",
       "..      ...            ...   ...  ...\n",
       "254   Évora  observador.pt  2019  820\n",
       "255   Évora  observador.pt  2020  635\n",
       "256   Évora  observador.pt  2021  114\n",
       "257   Évora     publico.pt  2014    2\n",
       "258   Évora     publico.pt  2019   10\n",
       "\n",
       "[259 rows x 4 columns]"
      ]
     },
     "execution_count": 10,
     "metadata": {},
     "output_type": "execute_result"
    }
   ],
   "source": [
    "subset_articles"
   ]
  },
  {
   "cell_type": "code",
   "execution_count": 5,
   "metadata": {},
   "outputs": [
    {
     "data": {
      "text/html": [
       "<div>\n",
       "<style scoped>\n",
       "    .dataframe tbody tr th:only-of-type {\n",
       "        vertical-align: middle;\n",
       "    }\n",
       "\n",
       "    .dataframe tbody tr th {\n",
       "        vertical-align: top;\n",
       "    }\n",
       "\n",
       "    .dataframe thead th {\n",
       "        text-align: right;\n",
       "    }\n",
       "</style>\n",
       "<table border=\"1\" class=\"dataframe\">\n",
       "  <thead>\n",
       "    <tr style=\"text-align: right;\">\n",
       "      <th></th>\n",
       "      <th>city</th>\n",
       "      <th>title</th>\n",
       "      <th>content</th>\n",
       "      <th>year</th>\n",
       "      <th>tstamp</th>\n",
       "      <th>link</th>\n",
       "      <th>source</th>\n",
       "      <th>link_len</th>\n",
       "      <th>check</th>\n",
       "      <th>content_p</th>\n",
       "      <th>title_p</th>\n",
       "      <th>category</th>\n",
       "    </tr>\n",
       "  </thead>\n",
       "  <tbody>\n",
       "    <tr>\n",
       "      <th>0</th>\n",
       "      <td>Lisboa</td>\n",
       "      <td>Oceanário de Lisboa vai ter novo edifício \"tra...</td>\n",
       "      <td>Oceanário de Lisboa vai ter novo edifício \"tra...</td>\n",
       "      <td>2014</td>\n",
       "      <td>20140516081533</td>\n",
       "      <td>https://arquivo.pt/wayback/20140516081533/http...</td>\n",
       "      <td>publico.pt</td>\n",
       "      <td>157</td>\n",
       "      <td>True</td>\n",
       "      <td>oceanario lisboa novo edificio tranquilo  anon...</td>\n",
       "      <td>oceanario lisboa novo edificio tranquilo  anon...</td>\n",
       "      <td>Economia</td>\n",
       "    </tr>\n",
       "    <tr>\n",
       "      <th>1</th>\n",
       "      <td>Lisboa</td>\n",
       "      <td>Câmara de Loures paga mais do dobro do que Lis...</td>\n",
       "      <td>Câmara de Loures paga mais do dobro do que Lis...</td>\n",
       "      <td>2014</td>\n",
       "      <td>20141023080605</td>\n",
       "      <td>https://arquivo.pt/wayback/20141023080605/http...</td>\n",
       "      <td>publico.pt</td>\n",
       "      <td>155</td>\n",
       "      <td>True</td>\n",
       "      <td>camara loures paga dobro lisboa refeicoes esco...</td>\n",
       "      <td>camara loures paga dobro lisboa refeicoes esco...</td>\n",
       "      <td>Politica</td>\n",
       "    </tr>\n",
       "    <tr>\n",
       "      <th>2</th>\n",
       "      <td>Lisboa</td>\n",
       "      <td>Deputado Bacelar Gouveia candidata-se à presid...</td>\n",
       "      <td>Deputado Bacelar Gouveia candidata-se à presid...</td>\n",
       "      <td>2014</td>\n",
       "      <td>20141021142620</td>\n",
       "      <td>https://arquivo.pt/wayback/20141021142620/http...</td>\n",
       "      <td>publico.pt</td>\n",
       "      <td>165</td>\n",
       "      <td>True</td>\n",
       "      <td>deputado bacelar gouveia candidatase presidenc...</td>\n",
       "      <td>deputado bacelar gouveia candidatase presidenc...</td>\n",
       "      <td>Politica</td>\n",
       "    </tr>\n",
       "    <tr>\n",
       "      <th>3</th>\n",
       "      <td>Lisboa</td>\n",
       "      <td>“Darth Vaders” do blogue 31 da Armada hasteara...</td>\n",
       "      <td>“Darth Vaders” do blogue 31 da Armada hasteara...</td>\n",
       "      <td>2014</td>\n",
       "      <td>20141021111635</td>\n",
       "      <td>https://arquivo.pt/wayback/20141021111635/http...</td>\n",
       "      <td>publico.pt</td>\n",
       "      <td>172</td>\n",
       "      <td>True</td>\n",
       "      <td>darth vaders blogue armada hastearam bandeira...</td>\n",
       "      <td>darth vaders blogue armada hastearam bandeira...</td>\n",
       "      <td>Politica</td>\n",
       "    </tr>\n",
       "    <tr>\n",
       "      <th>4</th>\n",
       "      <td>Lisboa</td>\n",
       "      <td>Ordem quer que CML esclareça ranking de arquit...</td>\n",
       "      <td>Ordem quer que CML esclareça ranking de arquit...</td>\n",
       "      <td>2014</td>\n",
       "      <td>20141021180751</td>\n",
       "      <td>https://arquivo.pt/wayback/20141021180751/http...</td>\n",
       "      <td>publico.pt</td>\n",
       "      <td>162</td>\n",
       "      <td>True</td>\n",
       "      <td>ordem quer cml esclareca ranking arquitectos a...</td>\n",
       "      <td>ordem quer cml esclareca ranking arquitectos a...</td>\n",
       "      <td>Justica</td>\n",
       "    </tr>\n",
       "  </tbody>\n",
       "</table>\n",
       "</div>"
      ],
      "text/plain": [
       "     city                                              title  \\\n",
       "0  Lisboa  Oceanário de Lisboa vai ter novo edifício \"tra...   \n",
       "1  Lisboa  Câmara de Loures paga mais do dobro do que Lis...   \n",
       "2  Lisboa  Deputado Bacelar Gouveia candidata-se à presid...   \n",
       "3  Lisboa  “Darth Vaders” do blogue 31 da Armada hasteara...   \n",
       "4  Lisboa  Ordem quer que CML esclareça ranking de arquit...   \n",
       "\n",
       "                                             content  year          tstamp  \\\n",
       "0  Oceanário de Lisboa vai ter novo edifício \"tra...  2014  20140516081533   \n",
       "1  Câmara de Loures paga mais do dobro do que Lis...  2014  20141023080605   \n",
       "2  Deputado Bacelar Gouveia candidata-se à presid...  2014  20141021142620   \n",
       "3  “Darth Vaders” do blogue 31 da Armada hasteara...  2014  20141021111635   \n",
       "4  Ordem quer que CML esclareça ranking de arquit...  2014  20141021180751   \n",
       "\n",
       "                                                link      source  link_len  \\\n",
       "0  https://arquivo.pt/wayback/20140516081533/http...  publico.pt       157   \n",
       "1  https://arquivo.pt/wayback/20141023080605/http...  publico.pt       155   \n",
       "2  https://arquivo.pt/wayback/20141021142620/http...  publico.pt       165   \n",
       "3  https://arquivo.pt/wayback/20141021111635/http...  publico.pt       172   \n",
       "4  https://arquivo.pt/wayback/20141021180751/http...  publico.pt       162   \n",
       "\n",
       "   check                                          content_p  \\\n",
       "0   True  oceanario lisboa novo edificio tranquilo  anon...   \n",
       "1   True  camara loures paga dobro lisboa refeicoes esco...   \n",
       "2   True  deputado bacelar gouveia candidatase presidenc...   \n",
       "3   True   darth vaders blogue armada hastearam bandeira...   \n",
       "4   True  ordem quer cml esclareca ranking arquitectos a...   \n",
       "\n",
       "                                             title_p  category  \n",
       "0  oceanario lisboa novo edificio tranquilo  anon...  Economia  \n",
       "1  camara loures paga dobro lisboa refeicoes esco...  Politica  \n",
       "2  deputado bacelar gouveia candidatase presidenc...  Politica  \n",
       "3   darth vaders blogue armada hastearam bandeira...  Politica  \n",
       "4  ordem quer cml esclareca ranking arquitectos a...   Justica  "
      ]
     },
     "execution_count": 5,
     "metadata": {},
     "output_type": "execute_result"
    }
   ],
   "source": [
    "data_source.head()"
   ]
  },
  {
   "cell_type": "code",
   "execution_count": 62,
   "metadata": {},
   "outputs": [
    {
     "data": {
      "text/html": [
       "<div>\n",
       "<style scoped>\n",
       "    .dataframe tbody tr th:only-of-type {\n",
       "        vertical-align: middle;\n",
       "    }\n",
       "\n",
       "    .dataframe tbody tr th {\n",
       "        vertical-align: top;\n",
       "    }\n",
       "\n",
       "    .dataframe thead th {\n",
       "        text-align: right;\n",
       "    }\n",
       "</style>\n",
       "<table border=\"1\" class=\"dataframe\">\n",
       "  <thead>\n",
       "    <tr style=\"text-align: right;\">\n",
       "      <th></th>\n",
       "      <th>city</th>\n",
       "      <th>main_tag</th>\n",
       "      <th>tag</th>\n",
       "      <th>title</th>\n",
       "      <th>sub_title</th>\n",
       "      <th>body</th>\n",
       "      <th>year</th>\n",
       "    </tr>\n",
       "  </thead>\n",
       "  <tbody>\n",
       "    <tr>\n",
       "      <th>0</th>\n",
       "      <td>Lisboa</td>\n",
       "      <td>ciencia</td>\n",
       "      <td>HISTÓRIA</td>\n",
       "      <td>A quinta avenida do século XVI ficava em Lisboa</td>\n",
       "      <td>Dois quadros descobertos em 2009 originaram um...</td>\n",
       "      <td>No século XVI, a Rua Nova dos Mercadores era u...</td>\n",
       "      <td>2015.0</td>\n",
       "    </tr>\n",
       "    <tr>\n",
       "      <th>1</th>\n",
       "      <td>Lisboa</td>\n",
       "      <td>politica</td>\n",
       "      <td>ANTÓNIO COSTA</td>\n",
       "      <td>Costa deixa Câmara de Lisboa para se concentra...</td>\n",
       "      <td>A cinco meses das eleições legislativas, o sec...</td>\n",
       "      <td>Costa fará uma declaração esta quarta-feira po...</td>\n",
       "      <td>2015.0</td>\n",
       "    </tr>\n",
       "    <tr>\n",
       "      <th>2</th>\n",
       "      <td>Lisboa</td>\n",
       "      <td>economia</td>\n",
       "      <td>PRIVATIZAÇÕES</td>\n",
       "      <td>Sociedade Francisco Manuel dos Santos fica com...</td>\n",
       "      <td>Governo concessiona equipamento no Parque das ...</td>\n",
       "      <td>A concessão do equipamento, um dos mais visita...</td>\n",
       "      <td>2015.0</td>\n",
       "    </tr>\n",
       "    <tr>\n",
       "      <th>3</th>\n",
       "      <td>Lisboa</td>\n",
       "      <td>politica</td>\n",
       "      <td>PROVA DOS FACTOS</td>\n",
       "      <td>A dívida da Câmara de Lisboa foi paga pelo Gov...</td>\n",
       "      <td>Na questão das contas da câmara, tanto Passos ...</td>\n",
       "      <td>A frase\\n\\nO contexto\\nCosta afirmou ter reduz...</td>\n",
       "      <td>2015.0</td>\n",
       "    </tr>\n",
       "    <tr>\n",
       "      <th>4</th>\n",
       "      <td>Lisboa</td>\n",
       "      <td>sociedade</td>\n",
       "      <td>LISBOA</td>\n",
       "      <td>Mesquita de Lisboa vandalizada</td>\n",
       "      <td>Durante a madrugada foi pintado o número \"1143...</td>\n",
       "      <td>“Não nos sentimos ameaçados, mas ficamos trist...</td>\n",
       "      <td>2015.0</td>\n",
       "    </tr>\n",
       "    <tr>\n",
       "      <th>5</th>\n",
       "      <td>Lisboa</td>\n",
       "      <td>local</td>\n",
       "      <td>LISBOA</td>\n",
       "      <td>Carros anteriores a 2000 banidos da Baixa de L...</td>\n",
       "      <td>A Câmara de Lisboa diz que a fiscalização vai ...</td>\n",
       "      <td>Aprovada pela Câmara de Lisboa em Outubro de 2...</td>\n",
       "      <td>2015.0</td>\n",
       "    </tr>\n",
       "    <tr>\n",
       "      <th>6</th>\n",
       "      <td>Lisboa</td>\n",
       "      <td>local</td>\n",
       "      <td>LISBOA</td>\n",
       "      <td>Arte urbana de Lisboa é cada vez mais uma atra...</td>\n",
       "      <td>Turistas, sobretudo estrangeiros, são os princ...</td>\n",
       "      <td>\"Sabemos pela dinâmica de actividades turístic...</td>\n",
       "      <td>2015.0</td>\n",
       "    </tr>\n",
       "    <tr>\n",
       "      <th>7</th>\n",
       "      <td>Lisboa</td>\n",
       "      <td>local</td>\n",
       "      <td>CÂMARA DE LISBOA</td>\n",
       "      <td>PSD quer que PGR investigue Associação de Turi...</td>\n",
       "      <td>Deputado municipal Victor Gonçalves fala em re...</td>\n",
       "      <td>O anúncio de que o partido vai recorrer à PGR ...</td>\n",
       "      <td>2015.0</td>\n",
       "    </tr>\n",
       "    <tr>\n",
       "      <th>8</th>\n",
       "      <td>Lisboa</td>\n",
       "      <td>mundo</td>\n",
       "      <td>OPINIÃO</td>\n",
       "      <td>Assistência Mútua sob o Artigo 42.7 do Tratado...</td>\n",
       "      <td>O argumento de que a França está em guerra con...</td>\n",
       "      <td>No rescaldo dos momentosos acontecimentos ocor...</td>\n",
       "      <td>2015.0</td>\n",
       "    </tr>\n",
       "    <tr>\n",
       "      <th>9</th>\n",
       "      <td>Lisboa</td>\n",
       "      <td>local</td>\n",
       "      <td>PS</td>\n",
       "      <td>Lisboa é uma das dez câmaras da AML que não pu...</td>\n",
       "      <td>A divulgação das actas e das deliberações nos ...</td>\n",
       "      <td>Leia os artigos que quiser, até ao fim, sem pu...</td>\n",
       "      <td>2015.0</td>\n",
       "    </tr>\n",
       "  </tbody>\n",
       "</table>\n",
       "</div>"
      ],
      "text/plain": [
       "     city   main_tag               tag  \\\n",
       "0  Lisboa    ciencia          HISTÓRIA   \n",
       "1  Lisboa   politica     ANTÓNIO COSTA   \n",
       "2  Lisboa   economia     PRIVATIZAÇÕES   \n",
       "3  Lisboa   politica  PROVA DOS FACTOS   \n",
       "4  Lisboa  sociedade            LISBOA   \n",
       "5  Lisboa      local            LISBOA   \n",
       "6  Lisboa      local            LISBOA   \n",
       "7  Lisboa      local  CÂMARA DE LISBOA   \n",
       "8  Lisboa      mundo           OPINIÃO   \n",
       "9  Lisboa      local                PS   \n",
       "\n",
       "                                               title  \\\n",
       "0    A quinta avenida do século XVI ficava em Lisboa   \n",
       "1  Costa deixa Câmara de Lisboa para se concentra...   \n",
       "2  Sociedade Francisco Manuel dos Santos fica com...   \n",
       "3  A dívida da Câmara de Lisboa foi paga pelo Gov...   \n",
       "4                     Mesquita de Lisboa vandalizada   \n",
       "5  Carros anteriores a 2000 banidos da Baixa de L...   \n",
       "6  Arte urbana de Lisboa é cada vez mais uma atra...   \n",
       "7  PSD quer que PGR investigue Associação de Turi...   \n",
       "8  Assistência Mútua sob o Artigo 42.7 do Tratado...   \n",
       "9  Lisboa é uma das dez câmaras da AML que não pu...   \n",
       "\n",
       "                                           sub_title  \\\n",
       "0  Dois quadros descobertos em 2009 originaram um...   \n",
       "1  A cinco meses das eleições legislativas, o sec...   \n",
       "2  Governo concessiona equipamento no Parque das ...   \n",
       "3  Na questão das contas da câmara, tanto Passos ...   \n",
       "4  Durante a madrugada foi pintado o número \"1143...   \n",
       "5  A Câmara de Lisboa diz que a fiscalização vai ...   \n",
       "6  Turistas, sobretudo estrangeiros, são os princ...   \n",
       "7  Deputado municipal Victor Gonçalves fala em re...   \n",
       "8  O argumento de que a França está em guerra con...   \n",
       "9  A divulgação das actas e das deliberações nos ...   \n",
       "\n",
       "                                                body    year  \n",
       "0  No século XVI, a Rua Nova dos Mercadores era u...  2015.0  \n",
       "1  Costa fará uma declaração esta quarta-feira po...  2015.0  \n",
       "2  A concessão do equipamento, um dos mais visita...  2015.0  \n",
       "3  A frase\\n\\nO contexto\\nCosta afirmou ter reduz...  2015.0  \n",
       "4  “Não nos sentimos ameaçados, mas ficamos trist...  2015.0  \n",
       "5  Aprovada pela Câmara de Lisboa em Outubro de 2...  2015.0  \n",
       "6  \"Sabemos pela dinâmica de actividades turístic...  2015.0  \n",
       "7  O anúncio de que o partido vai recorrer à PGR ...  2015.0  \n",
       "8  No rescaldo dos momentosos acontecimentos ocor...  2015.0  \n",
       "9  Leia os artigos que quiser, até ao fim, sem pu...  2015.0  "
      ]
     },
     "execution_count": 62,
     "metadata": {},
     "output_type": "execute_result"
    }
   ],
   "source": [
    "d_ = pd.read_csv('../data/raw/publico_scraper.csv.gz', compression='gzip')\n",
    "d_.head(10)"
   ]
  },
  {
   "cell_type": "code",
   "execution_count": 32,
   "metadata": {},
   "outputs": [
    {
     "data": {
      "text/plain": [
       "(13132, 7)"
      ]
     },
     "execution_count": 32,
     "metadata": {},
     "output_type": "execute_result"
    }
   ],
   "source": [
    "d_.shape"
   ]
  },
  {
   "cell_type": "code",
   "execution_count": 33,
   "metadata": {},
   "outputs": [
    {
     "data": {
      "text/plain": [
       "(11347, 7)"
      ]
     },
     "execution_count": 33,
     "metadata": {},
     "output_type": "execute_result"
    }
   ],
   "source": [
    "d_.dropna(inplace=True)\n",
    "d_.shape"
   ]
  },
  {
   "cell_type": "code",
   "execution_count": 41,
   "metadata": {},
   "outputs": [],
   "source": [
    "df = d_.groupby(['city', 'main_tag']).size().reset_index(name='N')\n",
    "df.to_csv('../app/cities.csv', index=False)"
   ]
  },
  {
   "cell_type": "code",
   "execution_count": 45,
   "metadata": {},
   "outputs": [],
   "source": [
    "df = d_.city.value_counts().reset_index(name='N')\n",
    "df.columns = ['city', 'N']\n",
    "df.head()\n",
    "df.to_csv('../app/cities.csv', index=False)"
   ]
  },
  {
   "cell_type": "code",
   "execution_count": 49,
   "metadata": {},
   "outputs": [],
   "source": [
    "df = d_.groupby(['city', 'year']).size().reset_index(name='N')\n",
    "df.to_csv('../app/cities.csv', index=False)"
   ]
  },
  {
   "cell_type": "code",
   "execution_count": 53,
   "metadata": {},
   "outputs": [],
   "source": [
    "from matplotlib.figure import Figure\n",
    "import seaborn as sns"
   ]
  },
  {
   "cell_type": "code",
   "execution_count": 56,
   "metadata": {},
   "outputs": [
    {
     "data": {
      "text/html": [
       "<div>\n",
       "<style scoped>\n",
       "    .dataframe tbody tr th:only-of-type {\n",
       "        vertical-align: middle;\n",
       "    }\n",
       "\n",
       "    .dataframe tbody tr th {\n",
       "        vertical-align: top;\n",
       "    }\n",
       "\n",
       "    .dataframe thead th {\n",
       "        text-align: right;\n",
       "    }\n",
       "</style>\n",
       "<table border=\"1\" class=\"dataframe\">\n",
       "  <thead>\n",
       "    <tr style=\"text-align: right;\">\n",
       "      <th></th>\n",
       "      <th>city</th>\n",
       "      <th>year</th>\n",
       "      <th>N</th>\n",
       "    </tr>\n",
       "  </thead>\n",
       "  <tbody>\n",
       "    <tr>\n",
       "      <th>0</th>\n",
       "      <td>Aveiro</td>\n",
       "      <td>2015.0</td>\n",
       "      <td>62</td>\n",
       "    </tr>\n",
       "    <tr>\n",
       "      <th>8</th>\n",
       "      <td>Beja</td>\n",
       "      <td>2015.0</td>\n",
       "      <td>51</td>\n",
       "    </tr>\n",
       "    <tr>\n",
       "      <th>16</th>\n",
       "      <td>Braga</td>\n",
       "      <td>2015.0</td>\n",
       "      <td>52</td>\n",
       "    </tr>\n",
       "    <tr>\n",
       "      <th>24</th>\n",
       "      <td>Bragança</td>\n",
       "      <td>2015.0</td>\n",
       "      <td>61</td>\n",
       "    </tr>\n",
       "    <tr>\n",
       "      <th>32</th>\n",
       "      <td>Castelo Branco</td>\n",
       "      <td>2015.0</td>\n",
       "      <td>40</td>\n",
       "    </tr>\n",
       "    <tr>\n",
       "      <th>40</th>\n",
       "      <td>Coimbra</td>\n",
       "      <td>2015.0</td>\n",
       "      <td>65</td>\n",
       "    </tr>\n",
       "    <tr>\n",
       "      <th>48</th>\n",
       "      <td>Faro</td>\n",
       "      <td>2015.0</td>\n",
       "      <td>55</td>\n",
       "    </tr>\n",
       "    <tr>\n",
       "      <th>56</th>\n",
       "      <td>Guarda</td>\n",
       "      <td>2015.0</td>\n",
       "      <td>41</td>\n",
       "    </tr>\n",
       "    <tr>\n",
       "      <th>64</th>\n",
       "      <td>Leiria</td>\n",
       "      <td>2015.0</td>\n",
       "      <td>33</td>\n",
       "    </tr>\n",
       "    <tr>\n",
       "      <th>72</th>\n",
       "      <td>Lisboa</td>\n",
       "      <td>2015.0</td>\n",
       "      <td>38</td>\n",
       "    </tr>\n",
       "    <tr>\n",
       "      <th>80</th>\n",
       "      <td>Portalegre</td>\n",
       "      <td>2015.0</td>\n",
       "      <td>52</td>\n",
       "    </tr>\n",
       "    <tr>\n",
       "      <th>88</th>\n",
       "      <td>Porto</td>\n",
       "      <td>2015.0</td>\n",
       "      <td>31</td>\n",
       "    </tr>\n",
       "    <tr>\n",
       "      <th>96</th>\n",
       "      <td>Santarém</td>\n",
       "      <td>2015.0</td>\n",
       "      <td>61</td>\n",
       "    </tr>\n",
       "    <tr>\n",
       "      <th>104</th>\n",
       "      <td>Setúbal</td>\n",
       "      <td>2015.0</td>\n",
       "      <td>53</td>\n",
       "    </tr>\n",
       "    <tr>\n",
       "      <th>112</th>\n",
       "      <td>Viana do Castelo</td>\n",
       "      <td>2015.0</td>\n",
       "      <td>48</td>\n",
       "    </tr>\n",
       "    <tr>\n",
       "      <th>120</th>\n",
       "      <td>Vila Real</td>\n",
       "      <td>2015.0</td>\n",
       "      <td>68</td>\n",
       "    </tr>\n",
       "    <tr>\n",
       "      <th>128</th>\n",
       "      <td>Viseu</td>\n",
       "      <td>2015.0</td>\n",
       "      <td>53</td>\n",
       "    </tr>\n",
       "    <tr>\n",
       "      <th>136</th>\n",
       "      <td>Évora</td>\n",
       "      <td>2015.0</td>\n",
       "      <td>74</td>\n",
       "    </tr>\n",
       "  </tbody>\n",
       "</table>\n",
       "</div>"
      ],
      "text/plain": [
       "                 city    year   N\n",
       "0              Aveiro  2015.0  62\n",
       "8                Beja  2015.0  51\n",
       "16              Braga  2015.0  52\n",
       "24           Bragança  2015.0  61\n",
       "32     Castelo Branco  2015.0  40\n",
       "40            Coimbra  2015.0  65\n",
       "48               Faro  2015.0  55\n",
       "56             Guarda  2015.0  41\n",
       "64             Leiria  2015.0  33\n",
       "72             Lisboa  2015.0  38\n",
       "80         Portalegre  2015.0  52\n",
       "88              Porto  2015.0  31\n",
       "96           Santarém  2015.0  61\n",
       "104           Setúbal  2015.0  53\n",
       "112  Viana do Castelo  2015.0  48\n",
       "120         Vila Real  2015.0  68\n",
       "128             Viseu  2015.0  53\n",
       "136             Évora  2015.0  74"
      ]
     },
     "execution_count": 56,
     "metadata": {},
     "output_type": "execute_result"
    }
   ],
   "source": [
    "df[df.year==2015]"
   ]
  },
  {
   "cell_type": "code",
   "execution_count": 59,
   "metadata": {},
   "outputs": [
    {
     "data": {
      "image/png": "[encoded data removed]",
      "text/plain": [
       "<Figure size 432x288 with 1 Axes>"
      ]
     },
     "execution_count": 59,
     "metadata": {},
     "output_type": "execute_result"
    }
   ],
   "source": [
    "\n",
    "fig = Figure()\n",
    "ax = fig.subplots()\n",
    "d = df[df.year==2015]\n",
    "sns.barplot(x=d['city'],\n",
    "            y=d['N'], color='goldenrod', ax=ax)\n",
    "ax.set_xlabel('Year')\n",
    "ax.set_ylabel('Books Read')\n",
    "#st.pyplot(fig)\n",
    "ax.tick_params(axis='x', rotation=90)\n",
    "fig"
   ]
  },
  {
   "cell_type": "code",
   "execution_count": 10,
   "metadata": {},
   "outputs": [],
   "source": [
    "df = d_.groupby(['main_tag', 'tag']).size().reset_index(name='N')"
   ]
  },
  {
   "cell_type": "code",
   "execution_count": 11,
   "metadata": {},
   "outputs": [
    {
     "data": {
      "text/html": [
       "<div>\n",
       "<style scoped>\n",
       "    .dataframe tbody tr th:only-of-type {\n",
       "        vertical-align: middle;\n",
       "    }\n",
       "\n",
       "    .dataframe tbody tr th {\n",
       "        vertical-align: top;\n",
       "    }\n",
       "\n",
       "    .dataframe thead th {\n",
       "        text-align: right;\n",
       "    }\n",
       "</style>\n",
       "<table border=\"1\" class=\"dataframe\">\n",
       "  <thead>\n",
       "    <tr style=\"text-align: right;\">\n",
       "      <th></th>\n",
       "      <th>main_tag</th>\n",
       "      <th>tag</th>\n",
       "      <th>N</th>\n",
       "    </tr>\n",
       "  </thead>\n",
       "  <tbody>\n",
       "    <tr>\n",
       "      <th>299</th>\n",
       "      <td>edicoes</td>\n",
       "      <td>PERGUNTAS E RESPOSTAS</td>\n",
       "      <td>5</td>\n",
       "    </tr>\n",
       "    <tr>\n",
       "      <th>303</th>\n",
       "      <td>edicoes</td>\n",
       "      <td>SINGULAR</td>\n",
       "      <td>3</td>\n",
       "    </tr>\n",
       "    <tr>\n",
       "      <th>296</th>\n",
       "      <td>edicoes</td>\n",
       "      <td>CRÍTICA</td>\n",
       "      <td>2</td>\n",
       "    </tr>\n",
       "    <tr>\n",
       "      <th>298</th>\n",
       "      <td>edicoes</td>\n",
       "      <td>ENOTURISMO</td>\n",
       "      <td>2</td>\n",
       "    </tr>\n",
       "    <tr>\n",
       "      <th>302</th>\n",
       "      <td>edicoes</td>\n",
       "      <td>REVISTA SOLO</td>\n",
       "      <td>2</td>\n",
       "    </tr>\n",
       "    <tr>\n",
       "      <th>295</th>\n",
       "      <td>edicoes</td>\n",
       "      <td>BARES</td>\n",
       "      <td>1</td>\n",
       "    </tr>\n",
       "    <tr>\n",
       "      <th>297</th>\n",
       "      <td>edicoes</td>\n",
       "      <td>CURIOSIDADE</td>\n",
       "      <td>1</td>\n",
       "    </tr>\n",
       "    <tr>\n",
       "      <th>300</th>\n",
       "      <td>edicoes</td>\n",
       "      <td>PSUPERIOR</td>\n",
       "      <td>1</td>\n",
       "    </tr>\n",
       "    <tr>\n",
       "      <th>301</th>\n",
       "      <td>edicoes</td>\n",
       "      <td>REPORTAGEM PASSEIOS</td>\n",
       "      <td>1</td>\n",
       "    </tr>\n",
       "  </tbody>\n",
       "</table>\n",
       "</div>"
      ],
      "text/plain": [
       "    main_tag                    tag  N\n",
       "299  edicoes  PERGUNTAS E RESPOSTAS  5\n",
       "303  edicoes               SINGULAR  3\n",
       "296  edicoes                CRÍTICA  2\n",
       "298  edicoes             ENOTURISMO  2\n",
       "302  edicoes           REVISTA SOLO  2\n",
       "295  edicoes                  BARES  1\n",
       "297  edicoes            CURIOSIDADE  1\n",
       "300  edicoes              PSUPERIOR  1\n",
       "301  edicoes    REPORTAGEM PASSEIOS  1"
      ]
     },
     "execution_count": 11,
     "metadata": {},
     "output_type": "execute_result"
    }
   ],
   "source": [
    "df[df['main_tag'] == 'edicoes'].sort_values(by=['N'], ascending=False).head(50)"
   ]
  },
  {
   "cell_type": "code",
   "execution_count": 12,
   "metadata": {},
   "outputs": [],
   "source": [
    "tags = ['sociedade', 'local', 'fugas', 'politica', 'desporto', 'p3', 'culturaipsilon', 'economia', 'ciencia', 'tecnologia', 'ecosfera']\n",
    "\n",
    "tags_to_split = ['sociedade', 'local', 'p3']\n",
    "\n",
    "tags_rename = {'fugas': 'Turismo/Lazer', \n",
    "    'desporto': 'Desporto',\n",
    "    'politica': 'Politica',\n",
    "    'economia': 'Economia',\n",
    "    'ciencia': 'Ciencia',\n",
    "    'culturaipsilon': 'Cultura',\n",
    "    'tecnologia' : 'Tecnologia',\n",
    "    'ecosfera': 'Ambiente',\n",
    "}\n",
    "\n",
    "sub_tags = {\n",
    "    'Saude': ['SAÚDE', 'CORONAVÍRUS', 'COVID-19', 'HOSPITAIS', 'SERVIÇO NACIONAL DE SAÚDE', 'NATALIDADE', 'ASAE', 'INEM'],\n",
    "    'Ambiente': ['METEOROLOGIA', 'MAU TEMPO', 'CLIMA', 'IPMA', 'AMBIENTE', 'ÁGUA', 'SUSTENTABILIDADE', 'FLORESTAS'],\n",
    "    'Incendios': ['INCÊNDIOS', 'INCÊNDIO','INCÊNDIOS FLORESTAIS'],\n",
    "    'Forças-Segurança': ['GNR', 'POLÍCIA JUDICIÁRIA', 'PROTECÇÃO CIVIL', 'PSP', 'SERVIÇO DE ESTRANGEIROS E FRONTEIRAS', 'BOMBEIROS'],\n",
    "    'Educacao': ['ENSINO SUPERIOR', 'EDUCAÇÃO'],\n",
    "    'Justica' : ['JUSTIÇA', 'MINISTÉRIO PÚBLICO'],\n",
    "    'Religiao': ['IGREJA CATÓLICA', 'RELIGIÃO'],\n",
    "    'Crime': ['CRIME', 'VIOLÊNCIA DOMÉSTICA', 'PRISÕES', 'TRÁFICO DE SERES HUMANOS', 'TRÁFICO DE DROGA'],\n",
    "    'Acidentes' : ['ACIDENTES', 'SEGURANÇA RODOVIÁRIA', 'ESTRADAS'],\n",
    "    'Transportes' : ['TRANSPORTES', 'COMBOIOS', 'MOBILIDADE', 'BICICLETAS', 'CP', 'MOBILIDADE', 'AVIAÇÃO'],\n",
    "    'Local' : [\n",
    "        'LISBOA', 'COIMBRA', 'AVEIRO', 'SETÚBAL', 'VIANA DO CASTELO', 'PORTO', 'BRAGANÇA', 'BRAGA', 'BEJA', 'VISEU', 'ÉVORA',\n",
    "        'CÂMARA DE VISEU', 'CÂMARA DE LISBOA', 'VILA REAL', 'ALGARVE', 'LEIRIA', 'CASTELO BRANCO', 'FARO', 'SANTARÉM', 'ALENTEJO',\n",
    "        'CÂMARA DO PORTO', 'PORTALEGRE', 'CÂMARA DE COIMBRA', 'CÂMARA DE BRAGA', 'GUARDA', 'AUTARQUIAS'\n",
    "    ],\n",
    "    'Habitacao' : ['HABITAÇÃO', 'PATRIMÓNIO'],\n",
    "    'Cultura': ['ARTES', 'MÚSICA', 'CULTURA', 'FESTIVAL', 'EVENTO', 'ARTE URBANA', 'STREET ART', 'TEATRO', 'MUSEUS'],\n",
    "    'Tecnologia': ['TECNOLOGIA'],\n",
    "    'Opiniao': ['OPINIÃO', 'REPORTAGEM'],\n",
    "    'Turismo/Lazer': ['TURISMO'],\n",
    "    'Sociedade': ['CRIANÇAS', 'SOLIDARIEDADE', 'CIGANOS', 'SEGURANÇA SOCIAL', 'IDOSOS', 'ANIMAIS']\n",
    "}"
   ]
  },
  {
   "cell_type": "code",
   "execution_count": 13,
   "metadata": {},
   "outputs": [
    {
     "data": {
      "text/plain": [
       "(11117, 7)"
      ]
     },
     "execution_count": 13,
     "metadata": {},
     "output_type": "execute_result"
    }
   ],
   "source": [
    "data_ = d_[d_['main_tag'].isin(tags)]\n",
    "data_.shape"
   ]
  },
  {
   "cell_type": "code",
   "execution_count": 14,
   "metadata": {},
   "outputs": [
    {
     "name": "stdout",
     "output_type": "stream",
     "text": [
      "(7025, 7)\n",
      "(4092, 7)\n"
     ]
    }
   ],
   "source": [
    "data_to_split = data_[data_['main_tag'].isin(tags_to_split)]\n",
    "print(data_to_split.shape)\n",
    "data_not_to_split = data_[~data_['main_tag'].isin(tags_to_split)]\n",
    "print(data_not_to_split.shape)"
   ]
  },
  {
   "cell_type": "code",
   "execution_count": 15,
   "metadata": {},
   "outputs": [],
   "source": [
    "def assign_category(val, sub_tags):\n",
    "    for key, values in sub_tags.items():\n",
    "        if val in values:\n",
    "            return(key)\n",
    "    return 'Outros'\n",
    "    "
   ]
  },
  {
   "cell_type": "code",
   "execution_count": 16,
   "metadata": {},
   "outputs": [
    {
     "name": "stderr",
     "output_type": "stream",
     "text": [
      "/tmp/ipykernel_9606/712822739.py:1: SettingWithCopyWarning: \n",
      "A value is trying to be set on a copy of a slice from a DataFrame.\n",
      "Try using .loc[row_indexer,col_indexer] = value instead\n",
      "\n",
      "See the caveats in the documentation: https://pandas.pydata.org/pandas-docs/stable/user_guide/indexing.html#returning-a-view-versus-a-copy\n",
      "  data_to_split['category'] = data_to_split['tag'].apply(lambda val: assign_category(val, sub_tags))\n"
     ]
    }
   ],
   "source": [
    "data_to_split['category'] = data_to_split['tag'].apply(lambda val: assign_category(val, sub_tags))"
   ]
  },
  {
   "cell_type": "code",
   "execution_count": 17,
   "metadata": {},
   "outputs": [
    {
     "data": {
      "text/plain": [
       "Outros              1977\n",
       "Local               1414\n",
       "Ambiente             741\n",
       "Saude                580\n",
       "Incendios            349\n",
       "Crime                284\n",
       "Acidentes            245\n",
       "Transportes          207\n",
       "Justica              196\n",
       "Forças-Segurança     195\n",
       "Cultura              185\n",
       "Educacao             184\n",
       "Sociedade            126\n",
       "Opiniao              112\n",
       "Habitacao            111\n",
       "Religiao              61\n",
       "Turismo/Lazer         48\n",
       "Tecnologia            10\n",
       "Name: category, dtype: int64"
      ]
     },
     "execution_count": 17,
     "metadata": {},
     "output_type": "execute_result"
    }
   ],
   "source": [
    "data_to_split['category'].value_counts()"
   ]
  },
  {
   "cell_type": "code",
   "execution_count": 18,
   "metadata": {},
   "outputs": [
    {
     "name": "stderr",
     "output_type": "stream",
     "text": [
      "/tmp/ipykernel_9606/51685350.py:2: SettingWithCopyWarning: \n",
      "A value is trying to be set on a copy of a slice from a DataFrame.\n",
      "Try using .loc[row_indexer,col_indexer] = value instead\n",
      "\n",
      "See the caveats in the documentation: https://pandas.pydata.org/pandas-docs/stable/user_guide/indexing.html#returning-a-view-versus-a-copy\n",
      "  data_not_to_split['category'] = data_not_to_split['main_tag'].apply(lambda val: tags_rename[val])\n"
     ]
    }
   ],
   "source": [
    "# Apply Renaming\n",
    "data_not_to_split['category'] = data_not_to_split['main_tag'].apply(lambda val: tags_rename[val])"
   ]
  },
  {
   "cell_type": "code",
   "execution_count": 19,
   "metadata": {},
   "outputs": [
    {
     "data": {
      "text/plain": [
       "Turismo/Lazer    934\n",
       "Politica         931\n",
       "Desporto         789\n",
       "Cultura          759\n",
       "Economia         457\n",
       "Ciencia          165\n",
       "Tecnologia        32\n",
       "Ambiente          25\n",
       "Name: category, dtype: int64"
      ]
     },
     "execution_count": 19,
     "metadata": {},
     "output_type": "execute_result"
    }
   ],
   "source": [
    "data_not_to_split['category'].value_counts()"
   ]
  },
  {
   "cell_type": "code",
   "execution_count": 20,
   "metadata": {},
   "outputs": [],
   "source": [
    "df = pd.concat([data_not_to_split, data_to_split], ignore_index=True)"
   ]
  },
  {
   "cell_type": "code",
   "execution_count": 21,
   "metadata": {},
   "outputs": [
    {
     "data": {
      "text/plain": [
       "Outros              1977\n",
       "Local               1414\n",
       "Turismo/Lazer        982\n",
       "Cultura              944\n",
       "Politica             931\n",
       "Desporto             789\n",
       "Ambiente             766\n",
       "Saude                580\n",
       "Economia             457\n",
       "Incendios            349\n",
       "Crime                284\n",
       "Acidentes            245\n",
       "Transportes          207\n",
       "Justica              196\n",
       "Forças-Segurança     195\n",
       "Educacao             184\n",
       "Ciencia              165\n",
       "Sociedade            126\n",
       "Opiniao              112\n",
       "Habitacao            111\n",
       "Religiao              61\n",
       "Tecnologia            42\n",
       "Name: category, dtype: int64"
      ]
     },
     "execution_count": 21,
     "metadata": {},
     "output_type": "execute_result"
    }
   ],
   "source": [
    "df.category.value_counts()"
   ]
  },
  {
   "cell_type": "code",
   "execution_count": 22,
   "metadata": {},
   "outputs": [],
   "source": [
    "from scripts.data_prep import process_stop_words, apply_cleaning"
   ]
  },
  {
   "cell_type": "code",
   "execution_count": 23,
   "metadata": {},
   "outputs": [],
   "source": [
    "model= spacy.load(\"pt_core_news_lg\")\n",
    "\n",
    "tc = TextCleaner(model=model, stop_words=process_stop_words())\n"
   ]
  },
  {
   "cell_type": "code",
   "execution_count": 24,
   "metadata": {},
   "outputs": [],
   "source": [
    "# from joblib import Parallel, delayed \n",
    "# docs = Parallel(n_jobs=2)(delayed(apply_cleaning)(doc, pipeline, tc) for doc in df['title'].to_list()) "
   ]
  },
  {
   "cell_type": "code",
   "execution_count": 24,
   "metadata": {},
   "outputs": [],
   "source": [
    "df = df[~df['category'].isin(['Opiniao', 'Outros'])]"
   ]
  },
  {
   "cell_type": "code",
   "execution_count": 25,
   "metadata": {},
   "outputs": [
    {
     "data": {
      "text/plain": [
       "Local               1414\n",
       "Turismo/Lazer        982\n",
       "Cultura              944\n",
       "Politica             931\n",
       "Desporto             789\n",
       "Ambiente             766\n",
       "Saude                580\n",
       "Economia             457\n",
       "Incendios            349\n",
       "Crime                284\n",
       "Acidentes            245\n",
       "Transportes          207\n",
       "Justica              196\n",
       "Forças-Segurança     195\n",
       "Educacao             184\n",
       "Ciencia              165\n",
       "Sociedade            126\n",
       "Habitacao            111\n",
       "Religiao              61\n",
       "Tecnologia            42\n",
       "Name: category, dtype: int64"
      ]
     },
     "execution_count": 25,
     "metadata": {},
     "output_type": "execute_result"
    }
   ],
   "source": [
    "df.category.value_counts()"
   ]
  },
  {
   "cell_type": "code",
   "execution_count": 27,
   "metadata": {},
   "outputs": [
    {
     "name": "stderr",
     "output_type": "stream",
     "text": [
      "  3%|▎         | 256/9028 [00:15<11:59, 12.19it/s]/home/joao/.cache/pypoetry/virtualenvs/smart_archive-LyPfE8oW-py3.9/lib/python3.9/site-packages/bs4/__init__.py:435: MarkupResemblesLocatorWarning: The input looks more like a filename than markup. You may want to open this file and pass the filehandle into Beautiful Soup.\n",
      "  warnings.warn(\n",
      "100%|██████████| 9028/9028 [07:04<00:00, 21.26it/s]\n",
      "100%|██████████| 9028/9028 [00:42<00:00, 213.45it/s]\n"
     ]
    }
   ],
   "source": [
    "from tqdm import tqdm\n",
    "df['body'] = [apply_cleaning(doc, tc) for doc in tqdm(df['body'].to_list())]\n",
    "df['title'] = [apply_cleaning(doc, tc) for doc in tqdm(df['title'].to_list())]\n",
    "df.to_csv('../data/raw/publico_data_processed.csv.gz', compression='gzip', index=False)"
   ]
  },
  {
   "cell_type": "code",
   "execution_count": 25,
   "metadata": {},
   "outputs": [],
   "source": [
    "df = pd.read_csv('../data/raw/publico_data_processed.csv.gz', compression='gzip')"
   ]
  },
  {
   "cell_type": "code",
   "execution_count": 26,
   "metadata": {},
   "outputs": [
    {
     "ename": "NameError",
     "evalue": "name 'df' is not defined",
     "output_type": "error",
     "traceback": [
      "\u001b[0;31m---------------------------------------------------------------------------\u001b[0m",
      "\u001b[0;31mNameError\u001b[0m                                 Traceback (most recent call last)",
      "\u001b[1;32m/home/joao/Projects/SmartArchive/notebooks/publico_scraper.ipynb Cell 31'\u001b[0m in \u001b[0;36m<cell line: 2>\u001b[0;34m()\u001b[0m\n\u001b[1;32m      <a href='vscode-notebook-cell:/home/joao/Projects/SmartArchive/notebooks/publico_scraper.ipynb#ch0000030?line=0'>1</a>\u001b[0m X \u001b[39m=\u001b[39m np\u001b[39m.\u001b[39marray(data_p[\u001b[39m'\u001b[39m\u001b[39mbody\u001b[39m\u001b[39m'\u001b[39m]\u001b[39m.\u001b[39mto_list())\n\u001b[0;32m----> <a href='vscode-notebook-cell:/home/joao/Projects/SmartArchive/notebooks/publico_scraper.ipynb#ch0000030?line=1'>2</a>\u001b[0m Y \u001b[39m=\u001b[39m np\u001b[39m.\u001b[39marray(df[\u001b[39m'\u001b[39m\u001b[39mcategory\u001b[39m\u001b[39m'\u001b[39m]\u001b[39m.\u001b[39mtolist())\n",
      "\u001b[0;31mNameError\u001b[0m: name 'df' is not defined"
     ]
    }
   ],
   "source": [
    "X = np.array(df['body'].to_list())\n",
    "Y = np.array(df['category'].tolist())"
   ]
  },
  {
   "cell_type": "code",
   "execution_count": 30,
   "metadata": {},
   "outputs": [],
   "source": [
    "from sklearn.feature_extraction.text import TfidfVectorizer\n",
    "from sklearn import linear_model\n",
    "from sklearn.metrics import classification_report, f1_score\n",
    "from sklearn.model_selection import StratifiedShuffleSplit\n"
   ]
  },
  {
   "cell_type": "code",
   "execution_count": null,
   "metadata": {},
   "outputs": [],
   "source": [
    "score = []\n",
    "sss = StratifiedShuffleSplit(n_splits=2, test_size=0.2, random_state=0)\n",
    "for train_index, test_index in sss.split(X, Y ):\n",
    "    X_train, X_test = X[train_index], X[test_index]\n",
    "    y_train, y_test = Y[train_index], Y[test_index]\n",
    "\n",
    "    vectorizer = TfidfVectorizer()\n",
    "    X_train_ = vectorizer.fit_transform(X_train)\n",
    "    X_test_ = vectorizer.transform(X_test)    \n",
    "\n",
    "    print('Training classifier')\n",
    "    svc = linear_model.LogisticRegression()\n",
    "    svc.fit(X_train_,y_train)\n",
    "\n",
    "    print('Testing classifier')\n",
    "    y_pred = svc.predict(X_test_)\n",
    "    print(classification_report(y_test, y_pred))\n",
    "    score.append(f1_score(y_test, y_pred, average=None))\n",
    "\n",
    "print(np.mean(score))"
   ]
  },
  {
   "cell_type": "code",
   "execution_count": null,
   "metadata": {},
   "outputs": [],
   "source": [
    "score = []\n",
    "sss = StratifiedShuffleSplit(n_splits=2, test_size=0.2, random_state=0)\n",
    "for train_index, test_index in sss.split(X, Y ):\n",
    "    X_train, X_test = X[train_index], X[test_index]\n",
    "    y_train, y_test = Y[train_index], Y[test_index]\n",
    "\n",
    "    vectorizer = TfidfVectorizer()\n",
    "    X_train_ = vectorizer.fit_transform(X_train)\n",
    "    X_test_ = vectorizer.transform(X_test)    \n",
    "\n",
    "    print('Training classifier')\n",
    "    svc = linear_model.SGDClassifier(loss='perceptron', class_weight='balanced')\n",
    "    svc.fit(X_train_, y_train)\n",
    "\n",
    "    print('Testing classifier')\n",
    "    y_pred = svc.predict(X_test_)\n",
    "    print(classification_report(y_test, y_pred))\n",
    "    score.append(f1_score(y_test, y_pred, average='macro'))\n",
    "\n",
    "print(np.mean(score))"
   ]
  },
  {
   "cell_type": "code",
   "execution_count": null,
   "metadata": {},
   "outputs": [],
   "source": [
    "from sklearn.ensemble import ExtraTreesClassifier\n",
    "\n",
    "score = []\n",
    "sss = StratifiedShuffleSplit(n_splits=2, test_size=0.2, random_state=0)\n",
    "for train_index, test_index in sss.split(X, Y ):\n",
    "    X_train, X_test = X[train_index], X[test_index]\n",
    "    y_train, y_test = Y[train_index], Y[test_index]\n",
    "\n",
    "    vectorizer = TfidfVectorizer()\n",
    "    X_train_ = vectorizer.fit_transform(X_train)\n",
    "    X_test_ = vectorizer.transform(X_test)    \n",
    "\n",
    "    print('Training classifier')\n",
    "    clf = ExtraTreesClassifier(n_estimators=100, random_state=0)\n",
    "    clf.fit(X_train_, y_train)\n",
    "\n",
    "    print('Testing classifier')\n",
    "    y_pred = clf.predict(X_test_)\n",
    "    print(classification_report(y_test, y_pred))\n",
    "    score.append(f1_score(y_test, y_pred, average='macro'))\n",
    "\n",
    "print(np.mean(score))"
   ]
  },
  {
   "cell_type": "code",
   "execution_count": 44,
   "metadata": {},
   "outputs": [
    {
     "name": "stdout",
     "output_type": "stream",
     "text": [
      "(7222, 2)\n",
      "(1806, 2)\n"
     ]
    }
   ],
   "source": [
    "df_train = pd.DataFrame() \n",
    "df_train['category'] = y_train\n",
    "df_train['title'] = X_train\n",
    "df_train['category'] = df_train['category'].apply(lambda val: f'__label__{val}')\n",
    "\n",
    "np.savetxt('categories-train.txt', df_train.values, fmt = \"%s\")\n",
    "\n",
    "print(df_train.shape)\n",
    "\n",
    "df_test = pd.DataFrame() \n",
    "df_test['category'] = y_test\n",
    "df_test['title'] = X_test\n",
    "df_test['category'] = df_test['category'].apply(lambda val: f'__label__{val}')\n",
    "\n",
    "print(df_test.shape)"
   ]
  },
  {
   "cell_type": "code",
   "execution_count": 45,
   "metadata": {},
   "outputs": [
    {
     "name": "stderr",
     "output_type": "stream",
     "text": [
      "Read 1M words\n",
      "Number of words:  86342\n",
      "Number of labels: 20\n",
      "Progress: 100.0% words/sec/thread:  156322 lr:  0.000000 avg.loss:  0.105302 ETA:   0h 0m 0s\n"
     ]
    },
    {
     "name": "stdout",
     "output_type": "stream",
     "text": [
      "                           precision    recall  f1-score   support\n",
      "\n",
      "       __label__Acidentes       0.75      0.78      0.76        49\n",
      "        __label__Ambiente       0.87      0.88      0.87       153\n",
      "         __label__Ciencia       0.72      0.70      0.71        33\n",
      "           __label__Crime       0.64      0.67      0.66        57\n",
      "         __label__Cultura       0.84      0.92      0.88       189\n",
      "        __label__Desporto       0.97      0.97      0.97       158\n",
      "        __label__Economia       0.70      0.82      0.75        92\n",
      "        __label__Educacao       0.85      0.76      0.80        37\n",
      "__label__Forças-Segurança       0.63      0.56      0.59        39\n",
      "       __label__Habitacao       0.55      0.27      0.36        22\n",
      "       __label__Incendios       0.87      0.87      0.87        70\n",
      "         __label__Justica       0.55      0.62      0.58        39\n",
      "           __label__Local       0.70      0.65      0.67       283\n",
      "        __label__Politica       0.89      0.84      0.86       186\n",
      "        __label__Religiao       0.73      0.92      0.81        12\n",
      "           __label__Saude       0.85      0.84      0.85       116\n",
      "       __label__Sociedade       0.78      0.72      0.75        25\n",
      "      __label__Tecnologia       1.00      0.38      0.55         8\n",
      "     __label__Transportes       0.76      0.76      0.76        41\n",
      "   __label__Turismo/Lazer       0.80      0.87      0.84       197\n",
      "\n",
      "                 accuracy                           0.80      1806\n",
      "                macro avg       0.77      0.74      0.74      1806\n",
      "             weighted avg       0.80      0.80      0.80      1806\n",
      "\n"
     ]
    }
   ],
   "source": [
    "import fasttext\n",
    "model = fasttext.train_supervised(input=\"categories-train.txt\", lr=1, epoch=100, wordNgrams=5)\n",
    "df_test['Pred'] = df_test['title'].apply(lambda val: model.predict(val)[0][0])\n",
    "print(classification_report(df_test['category'], df_test['Pred']))"
   ]
  },
  {
   "cell_type": "markdown",
   "metadata": {},
   "source": [
    "## Neural Net (RNN)"
   ]
  },
  {
   "cell_type": "code",
   "execution_count": 1,
   "metadata": {},
   "outputs": [
    {
     "name": "stderr",
     "output_type": "stream",
     "text": [
      "2022-04-24 21:11:06.283116: W tensorflow/stream_executor/platform/default/dso_loader.cc:64] Could not load dynamic library 'libcudart.so.11.0'; dlerror: libcudart.so.11.0: cannot open shared object file: No such file or directory\n",
      "2022-04-24 21:11:06.283134: I tensorflow/stream_executor/cuda/cudart_stub.cc:29] Ignore above cudart dlerror if you do not have a GPU set up on your machine.\n"
     ]
    },
    {
     "ename": "NameError",
     "evalue": "name 'y_train' is not defined",
     "output_type": "error",
     "traceback": [
      "\u001b[0;31m---------------------------------------------------------------------------\u001b[0m",
      "\u001b[0;31mNameError\u001b[0m                                 Traceback (most recent call last)",
      "\u001b[1;32m/home/joao/Projects/SmartArchive/notebooks/publico_scraper.ipynb Cell 39'\u001b[0m in \u001b[0;36m<cell line: 5>\u001b[0;34m()\u001b[0m\n\u001b[1;32m      <a href='vscode-notebook-cell:/home/joao/Projects/SmartArchive/notebooks/publico_scraper.ipynb#ch0000038?line=1'>2</a>\u001b[0m \u001b[39mfrom\u001b[39;00m \u001b[39msklearn\u001b[39;00m \u001b[39mimport\u001b[39;00m preprocessing\n\u001b[1;32m      <a href='vscode-notebook-cell:/home/joao/Projects/SmartArchive/notebooks/publico_scraper.ipynb#ch0000038?line=3'>4</a>\u001b[0m le \u001b[39m=\u001b[39m preprocessing\u001b[39m.\u001b[39mLabelEncoder()\n\u001b[0;32m----> <a href='vscode-notebook-cell:/home/joao/Projects/SmartArchive/notebooks/publico_scraper.ipynb#ch0000038?line=4'>5</a>\u001b[0m le\u001b[39m.\u001b[39mfit(y_train)\n\u001b[1;32m      <a href='vscode-notebook-cell:/home/joao/Projects/SmartArchive/notebooks/publico_scraper.ipynb#ch0000038?line=6'>7</a>\u001b[0m n_classes \u001b[39m=\u001b[39m \u001b[39mlen\u001b[39m(np\u001b[39m.\u001b[39munique(y_train))\n\u001b[1;32m      <a href='vscode-notebook-cell:/home/joao/Projects/SmartArchive/notebooks/publico_scraper.ipynb#ch0000038?line=8'>9</a>\u001b[0m train_dataset \u001b[39m=\u001b[39m tf\u001b[39m.\u001b[39mdata\u001b[39m.\u001b[39mDataset\u001b[39m.\u001b[39mfrom_tensor_slices((X_train, to_categorical(le\u001b[39m.\u001b[39mtransform(y_train), num_classes\u001b[39m=\u001b[39mn_classes)))\n",
      "\u001b[0;31mNameError\u001b[0m: name 'y_train' is not defined"
     ]
    }
   ],
   "source": [
    "from tensorflow.keras.utils import to_categorical\n",
    "from sklearn import preprocessing\n",
    "\n",
    "le = preprocessing.LabelEncoder()\n",
    "le.fit(y_train)\n",
    "\n",
    "n_classes = len(np.unique(y_train))\n",
    "\n",
    "train_dataset = tf.data.Dataset.from_tensor_slices((X_train, to_categorical(le.transform(y_train), num_classes=n_classes)))\n",
    "test_dataset = tf.data.Dataset.from_tensor_slices((X_test, to_categorical(le.transform(y_test), num_classes=n_classes)))\n",
    "\n",
    "BATCH_SIZE = 64\n",
    "SHUFFLE_BUFFER_SIZE = 100\n",
    "\n",
    "train_dataset = train_dataset.shuffle(SHUFFLE_BUFFER_SIZE).batch(BATCH_SIZE)\n",
    "test_dataset = test_dataset.batch(BATCH_SIZE)\n",
    "\n",
    "\n",
    "VOCAB_SIZE = 100000\n",
    "encoder = tf.keras.layers.TextVectorization(\n",
    "    max_tokens=VOCAB_SIZE)\n",
    "encoder.adapt(train_dataset.map(lambda text, label: text))\n",
    "\n",
    "\n",
    "model = tf.keras.Sequential([\n",
    "    encoder,\n",
    "    tf.keras.layers.Embedding(\n",
    "        input_dim=len(encoder.get_vocabulary()),\n",
    "        output_dim=100,\n",
    "        # Use masking to handle the variable sequence lengths\n",
    "        mask_zero=True),\n",
    "    tf.keras.layers.Bidirectional(tf.keras.layers.LSTM(64)),\n",
    "    tf.keras.layers.Dense(64, activation='relu'),\n",
    "    tf.keras.layers.Dense(n_classes, activation='softmax')\n",
    "])\n",
    "callback = tf.keras.callbacks.EarlyStopping(\n",
    "    monitor='val_loss', \n",
    "    patience=3, \n",
    "    restore_best_weights=True, \n",
    "    mode='min'\n",
    ")\n",
    "\n",
    "# Hyperparameters\n",
    "epochs = 10\n",
    "learning_rate = 0.001\n",
    "decay_rate = learning_rate / epochs\n",
    "\n",
    "opt = tf.keras.optimizers.Adam(\n",
    "    learning_rate=learning_rate,\n",
    "    #decay=decay_rate \n",
    "    )\n",
    "\n",
    "model.compile(\n",
    "    optimizer=opt, \n",
    "    loss=tf.keras.losses.CategoricalCrossentropy(),\n",
    "    metrics=[tf.metrics.Precision()]\n",
    ")"
   ]
  },
  {
   "cell_type": "code",
   "execution_count": 47,
   "metadata": {},
   "outputs": [
    {
     "name": "stdout",
     "output_type": "stream",
     "text": [
      "Epoch 1/10\n"
     ]
    },
    {
     "name": "stderr",
     "output_type": "stream",
     "text": [
      "2022-04-24 20:17:25.024259: W tensorflow/core/framework/cpu_allocator_impl.cc:82] Allocation of 27521200 exceeds 10% of free system memory.\n",
      "2022-04-24 20:17:25.031985: W tensorflow/core/framework/cpu_allocator_impl.cc:82] Allocation of 27521200 exceeds 10% of free system memory.\n"
     ]
    },
    {
     "name": "stdout",
     "output_type": "stream",
     "text": [
      "113/113 [==============================] - 192s 2s/step - loss: 2.3559 - precision: 0.8448 - val_loss: 1.6142 - val_precision: 0.8859\n",
      "Epoch 2/10\n",
      " 84/113 [=====================>........] - ETA: 45s - loss: 1.3420 - precision: 0.8373"
     ]
    }
   ],
   "source": [
    "\n",
    "model.fit(\n",
    "    train_dataset,\n",
    "    validation_data=test_dataset,\n",
    "    epochs=epochs,\n",
    "    callbacks=callback\n",
    " )\n"
   ]
  },
  {
   "cell_type": "code",
   "execution_count": null,
   "metadata": {},
   "outputs": [],
   "source": [
    "model.evaluate(test_dataset)"
   ]
  },
  {
   "cell_type": "code",
   "execution_count": null,
   "metadata": {},
   "outputs": [],
   "source": [
    "preds = model.predict(test_dataset)\n",
    "preds = [le.inverse_transform([np.argmax(pred)])[0] for pred in preds]"
   ]
  },
  {
   "cell_type": "code",
   "execution_count": null,
   "metadata": {},
   "outputs": [],
   "source": [
    "print(classification_report(y_test, preds))"
   ]
  },
  {
   "cell_type": "markdown",
   "metadata": {},
   "source": [
    "## Sentiment\n"
   ]
  },
  {
   "cell_type": "code",
   "execution_count": 47,
   "metadata": {},
   "outputs": [
    {
     "name": "stderr",
     "output_type": "stream",
     "text": [
      "Warning : `load_model` does not return WordVectorModel or SupervisedModel any more, but a `FastText` object which is very similar.\n"
     ]
    }
   ],
   "source": [
    "import fasttext\n",
    "model = fasttext.load_model('../models/trained/fasttext-sentiment.bin')"
   ]
  },
  {
   "cell_type": "code",
   "execution_count": 48,
   "metadata": {},
   "outputs": [
    {
     "data": {
      "text/plain": [
       "('__label__Positive',)"
      ]
     },
     "execution_count": 48,
     "metadata": {},
     "output_type": "execute_result"
    }
   ],
   "source": [
    "model.predict(df['title'].iloc[0])[0]"
   ]
  },
  {
   "cell_type": "code",
   "execution_count": 35,
   "metadata": {},
   "outputs": [
    {
     "data": {
      "text/plain": [
       "'quinta avenida seculo xvi ficava lisboa'"
      ]
     },
     "execution_count": 35,
     "metadata": {},
     "output_type": "execute_result"
    }
   ],
   "source": [
    "df['title'].iloc[0]"
   ]
  },
  {
   "cell_type": "code",
   "execution_count": 81,
   "metadata": {},
   "outputs": [
    {
     "name": "stdout",
     "output_type": "stream",
     "text": [
      "nan\n",
      "nan\n"
     ]
    }
   ],
   "source": [
    "sent = []\n",
    "indexes = []\n",
    "for i, val in enumerate(df['title'].to_list()):\n",
    "    try:\n",
    "        sent.append(model.predict(val.replace('\\n', '')))\n",
    "        indexes.append(i)\n",
    "    except:\n",
    "        print(val)\n",
    "        continue"
   ]
  },
  {
   "cell_type": "code",
   "execution_count": 66,
   "metadata": {},
   "outputs": [
    {
     "data": {
      "text/html": [
       "<div>\n",
       "<style scoped>\n",
       "    .dataframe tbody tr th:only-of-type {\n",
       "        vertical-align: middle;\n",
       "    }\n",
       "\n",
       "    .dataframe tbody tr th {\n",
       "        vertical-align: top;\n",
       "    }\n",
       "\n",
       "    .dataframe thead th {\n",
       "        text-align: right;\n",
       "    }\n",
       "</style>\n",
       "<table border=\"1\" class=\"dataframe\">\n",
       "  <thead>\n",
       "    <tr style=\"text-align: right;\">\n",
       "      <th></th>\n",
       "      <th>body</th>\n",
       "      <th>title</th>\n",
       "    </tr>\n",
       "  </thead>\n",
       "  <tbody>\n",
       "    <tr>\n",
       "      <th>0</th>\n",
       "      <td>seculo xvi rua nova mercadores pequena babel. ...</td>\n",
       "      <td>quinta avenida seculo xvi ficava lisboa</td>\n",
       "    </tr>\n",
       "    <tr>\n",
       "      <th>1</th>\n",
       "      <td>costa fara declaracao quartafeira volta meiodi...</td>\n",
       "      <td>costa deixa camara lisboa concentrar apenas ps</td>\n",
       "    </tr>\n",
       "    <tr>\n",
       "      <th>2</th>\n",
       "      <td>concessao equipamento visitados cidade lisboa ...</td>\n",
       "      <td>sociedade francisco manuel santos fica oceanar...</td>\n",
       "    </tr>\n",
       "    <tr>\n",
       "      <th>3</th>\n",
       "      <td>frase contexto costa afirmou reduzido divida c...</td>\n",
       "      <td>divida camara lisboa paga governo</td>\n",
       "    </tr>\n",
       "    <tr>\n",
       "      <th>4</th>\n",
       "      <td>seculo xvi rua nova mercadores pequena babel. ...</td>\n",
       "      <td>quinta avenida seculo xvi ficava lisboa</td>\n",
       "    </tr>\n",
       "    <tr>\n",
       "      <th>...</th>\n",
       "      <td>...</td>\n",
       "      <td>...</td>\n",
       "    </tr>\n",
       "    <tr>\n",
       "      <th>9023</th>\n",
       "      <td>numero nascimentos portugal recuperou primeiro...</td>\n",
       "      <td>numero nascimentos recuperou.o trimestre bebes</td>\n",
       "    </tr>\n",
       "    <tr>\n",
       "      <th>9024</th>\n",
       "      <td>servico veterinaria municipio pombal detectou ...</td>\n",
       "      <td>gatos morrem pombal doenca altamente contagiosa</td>\n",
       "    </tr>\n",
       "    <tr>\n",
       "      <th>9025</th>\n",
       "      <td>manha tercafeira ceu pais ganhou tom alaranjad...</td>\n",
       "      <td>tempestade celia empurra poeira sara portugal</td>\n",
       "    </tr>\n",
       "    <tr>\n",
       "      <th>9026</th>\n",
       "      <td>portal agendamento vacina internet deixou aces...</td>\n",
       "      <td>covid portal agendamento vacinacao deixa exist...</td>\n",
       "    </tr>\n",
       "    <tr>\n",
       "      <th>9027</th>\n",
       "      <td>portal agendamento vacina internet deixou aces...</td>\n",
       "      <td>covid portal agendamento vacinacao deixa exist...</td>\n",
       "    </tr>\n",
       "  </tbody>\n",
       "</table>\n",
       "<p>9026 rows × 2 columns</p>\n",
       "</div>"
      ],
      "text/plain": [
       "                                                   body  \\\n",
       "0     seculo xvi rua nova mercadores pequena babel. ...   \n",
       "1     costa fara declaracao quartafeira volta meiodi...   \n",
       "2     concessao equipamento visitados cidade lisboa ...   \n",
       "3     frase contexto costa afirmou reduzido divida c...   \n",
       "4     seculo xvi rua nova mercadores pequena babel. ...   \n",
       "...                                                 ...   \n",
       "9023  numero nascimentos portugal recuperou primeiro...   \n",
       "9024  servico veterinaria municipio pombal detectou ...   \n",
       "9025  manha tercafeira ceu pais ganhou tom alaranjad...   \n",
       "9026  portal agendamento vacina internet deixou aces...   \n",
       "9027  portal agendamento vacina internet deixou aces...   \n",
       "\n",
       "                                                  title  \n",
       "0               quinta avenida seculo xvi ficava lisboa  \n",
       "1        costa deixa camara lisboa concentrar apenas ps  \n",
       "2     sociedade francisco manuel santos fica oceanar...  \n",
       "3                    divida camara lisboa paga governo   \n",
       "4               quinta avenida seculo xvi ficava lisboa  \n",
       "...                                                 ...  \n",
       "9023     numero nascimentos recuperou.o trimestre bebes  \n",
       "9024    gatos morrem pombal doenca altamente contagiosa  \n",
       "9025      tempestade celia empurra poeira sara portugal  \n",
       "9026  covid portal agendamento vacinacao deixa exist...  \n",
       "9027  covid portal agendamento vacinacao deixa exist...  \n",
       "\n",
       "[9026 rows x 2 columns]"
      ]
     },
     "execution_count": 66,
     "metadata": {},
     "output_type": "execute_result"
    }
   ],
   "source": [
    "data_p.iloc[indexes]"
   ]
  },
  {
   "cell_type": "code",
   "execution_count": 67,
   "metadata": {},
   "outputs": [
    {
     "name": "stderr",
     "output_type": "stream",
     "text": [
      "/tmp/ipykernel_5026/4056973279.py:2: SettingWithCopyWarning: \n",
      "A value is trying to be set on a copy of a slice from a DataFrame.\n",
      "Try using .loc[row_indexer,col_indexer] = value instead\n",
      "\n",
      "See the caveats in the documentation: https://pandas.pydata.org/pandas-docs/stable/user_guide/indexing.html#returning-a-view-versus-a-copy\n",
      "  results['sentiment'] = [val[0][0] for val in sent]\n",
      "/tmp/ipykernel_5026/4056973279.py:3: SettingWithCopyWarning: \n",
      "A value is trying to be set on a copy of a slice from a DataFrame.\n",
      "Try using .loc[row_indexer,col_indexer] = value instead\n",
      "\n",
      "See the caveats in the documentation: https://pandas.pydata.org/pandas-docs/stable/user_guide/indexing.html#returning-a-view-versus-a-copy\n",
      "  results['score'] = [val[1][0] for val in sent]\n"
     ]
    }
   ],
   "source": [
    "results = data_p.iloc[indexes]\n",
    "results['sentiment'] = [val[0][0] for val in sent]\n",
    "results['score'] = [val[1][0] for val in sent]"
   ]
  },
  {
   "cell_type": "code",
   "execution_count": null,
   "metadata": {},
   "outputs": [],
   "source": [
    "results[['title', 'sentiment']].head(50)"
   ]
  },
  {
   "cell_type": "code",
   "execution_count": null,
   "metadata": {},
   "outputs": [],
   "source": [
    "results.score.hist()"
   ]
  },
  {
   "cell_type": "code",
   "execution_count": null,
   "metadata": {},
   "outputs": [],
   "source": [
    "results[(results.sentiment == '__label__Negative') & (results.score > 0.80)].head(50)"
   ]
  },
  {
   "cell_type": "code",
   "execution_count": 31,
   "metadata": {},
   "outputs": [],
   "source": [
    "nlp = spacy.load(\"pt_core_news_lg\")"
   ]
  },
  {
   "cell_type": "code",
   "execution_count": null,
   "metadata": {},
   "outputs": [],
   "source": [
    "aspects = []\n",
    "\n",
    "for sentence in d_.iloc[-1].body.split('.'):\n",
    "  doc = nlp(sentence)\n",
    "  descriptive_term = ''\n",
    "  target = ''\n",
    "  for token in doc:\n",
    "    if token.dep_ == 'nsubj' and token.pos_ == 'NOUN':\n",
    "      target = token.text\n",
    "    if token.pos_ == 'ADJ':\n",
    "      prepend = ''\n",
    "      for child in token.children:\n",
    "        if child.pos_ != 'ADV':\n",
    "          continue\n",
    "        prepend += child.text + ' '\n",
    "      descriptive_term = prepend + token.text\n",
    "  if target and descriptive_term:    \n",
    "    aspects.append({'aspect': target,\n",
    "      'description': descriptive_term, 'sentence': sentence})\n",
    "print(aspects)"
   ]
  },
  {
   "cell_type": "code",
   "execution_count": 29,
   "metadata": {},
   "outputs": [
    {
     "ename": "AttributeError",
     "evalue": "'float' object has no attribute 'split'",
     "output_type": "error",
     "traceback": [
      "\u001b[0;31m---------------------------------------------------------------------------\u001b[0m",
      "\u001b[0;31mAttributeError\u001b[0m                            Traceback (most recent call last)",
      "\u001b[1;32m/home/joao/Projects/SmartArchive/notebooks/publico_scraper.ipynb Cell 56'\u001b[0m in \u001b[0;36m<cell line: 1>\u001b[0;34m()\u001b[0m\n\u001b[0;32m----> <a href='vscode-notebook-cell:/home/joao/Projects/SmartArchive/notebooks/publico_scraper.ipynb#ch0000055?line=0'>1</a>\u001b[0m \u001b[39mfor\u001b[39;00m sentence \u001b[39min\u001b[39;00m d_\u001b[39m.\u001b[39;49miloc[\u001b[39m-\u001b[39;49m\u001b[39m2\u001b[39;49m]\u001b[39m.\u001b[39;49mbody\u001b[39m.\u001b[39;49msplit(\u001b[39m'\u001b[39m\u001b[39m.\u001b[39m\u001b[39m'\u001b[39m):\n\u001b[1;32m      <a href='vscode-notebook-cell:/home/joao/Projects/SmartArchive/notebooks/publico_scraper.ipynb#ch0000055?line=1'>2</a>\u001b[0m   doc \u001b[39m=\u001b[39m nlp(sentence)\n\u001b[1;32m      <a href='vscode-notebook-cell:/home/joao/Projects/SmartArchive/notebooks/publico_scraper.ipynb#ch0000055?line=2'>3</a>\u001b[0m   \u001b[39mfor\u001b[39;00m token \u001b[39min\u001b[39;00m doc:\n",
      "\u001b[0;31mAttributeError\u001b[0m: 'float' object has no attribute 'split'"
     ]
    }
   ],
   "source": [
    "for sentence in d_.iloc[-2].body.split('.'):\n",
    "  doc = nlp(sentence)\n",
    "  for token in doc:\n",
    "    print(token.text, token.dep_, token.head.text, token.head.pos_,\n",
    "      token.pos_,[child for child in token.children])"
   ]
  },
  {
   "cell_type": "code",
   "execution_count": null,
   "metadata": {},
   "outputs": [],
   "source": [
    "for sentence in data_p.iloc[-4].body.split('.'):\n",
    "  doc = nlp(sentence)\n",
    "  descriptive_term = ''\n",
    "  for token in doc:\n",
    "    if token.pos_ == 'ADJ':\n",
    "      descriptive_term = token\n",
    "      print(sentence)\n",
    "      print(token.text)\n",
    "      print(model.predict(sentence.replace('\\n', '')))\n",
    "  #print(sentence)\n",
    "  #print(descriptive_term)"
   ]
  },
  {
   "cell_type": "code",
   "execution_count": 37,
   "metadata": {},
   "outputs": [
    {
     "name": "stdout",
     "output_type": "stream",
     "text": [
      "manha tercafeira ceu pais ganhou tom alaranjado estranho poeiras sara volta portugal empurradas tempestade celia\n",
      "TerM: estranho\n",
      "Sentiment: (('__label__Negative',), array([0.5325433]))\n",
      " ventos fortes levantam poeira deserto sara pode subir tres metros altitude\n",
      "TerM: tres\n",
      "Sentiment: (('__label__Positive',), array([0.94151944]))\n",
      " tempestade celia ajudou poeira deslocarse continente europeu\n",
      "TerM: europeu\n",
      "Sentiment: (('__label__Neutral',), array([1.00001001]))\n",
      " ocorrer transporte poeiras territorio continental devido fluxo sul induzido depressao celia\n",
      "TerM: sul\n",
      "Sentiment: (('__label__Positive',), array([1.00000882]))\n",
      " poeiras suspensao oriundas norte africa atingiram peninsula iberica  lese comunicado site instituto portugues mar atmosfera ipma\n",
      "TerM: ipma\n",
      "Sentiment: (('__label__Negative',), array([0.98088437]))\n",
      " ipma explica sitios maior concentracao poeiras poderao registarse mudancas qualidade ar impactos saude\n",
      "TerM: maior\n",
      "Sentiment: (('__label__Positive',), array([1.00000978]))\n",
      " problemas respiratorios aconselhavel usar mascara ficar casa\n",
      "TerM: respiratorios\n",
      "Sentiment: (('__label__Positive',), array([0.60364467]))\n",
      " agencia portuguesa ambiente sublinhou comunicado natural qualidade ar piore semana  elevados niveis particulas inalaveis devido nuvens poeira\n",
      "TerM: poeira\n",
      "Sentiment: (('__label__Neutral',), array([0.99966848]))\n",
      " quartafeira dia maior intensidade fenomeno\n",
      "TerM: fenomeno\n",
      "Sentiment: (('__label__Positive',), array([1.00001001]))\n",
      " imagem satelite divulgada ipma concentracao poeira evidente regioes norte centro territorio continental\n",
      "TerM: continental\n",
      "Sentiment: (('__label__Negative',), array([0.99690998]))\n",
      " altitude chegara solo atraves chuva prevista hoje amanha regiao centro sul\n",
      "TerM: sul\n",
      "Sentiment: (('__label__Positive',), array([1.00000882]))\n",
      " caso regressara chamada chuva lama\n",
      "TerM: lama\n",
      "Sentiment: (('__label__Positive',), array([1.00001001]))\n",
      " imagem satelite localizacao maximos concentracao poeira zonas identificadas cor rosa magenta — regioes norte centro portugal continental ipma manha sextafeira marco ceu devera voltar tom habitual\n",
      "TerM: habitual\n",
      "Sentiment: (('__label__Positive',), array([1.00001001]))\n"
     ]
    }
   ],
   "source": [
    "for sentence in data_p.iloc[-3].body.split('.'):\n",
    "  doc = nlp(sentence)\n",
    "  descriptive_term = ''\n",
    "  for token in doc:\n",
    "    if token.pos_ == 'ADJ':\n",
    "      prepend = ''\n",
    "      for child in token.children:\n",
    "        if child.pos_ != 'ADV':\n",
    "          continue\n",
    "        prepend += child.text + ' '\n",
    "      descriptive_term = prepend + token.text\n",
    "\n",
    "  if descriptive_term:\n",
    "    print(sentence)\n",
    "    print('TerM:', descriptive_term)\n",
    "    print('Sentiment:', model.predict(descriptive_term))\n"
   ]
  },
  {
   "cell_type": "code",
   "execution_count": null,
   "metadata": {},
   "outputs": [],
   "source": [
    "d_.iloc[0].body.split('.')"
   ]
  },
  {
   "cell_type": "code",
   "execution_count": 23,
   "metadata": {},
   "outputs": [
    {
     "data": {
      "text/plain": [
       "(('__label__Positive',), array([1.00001001]))"
      ]
     },
     "execution_count": 23,
     "metadata": {},
     "output_type": "execute_result"
    }
   ],
   "source": [
    "model.predict('diminuir')"
   ]
  },
  {
   "cell_type": "code",
   "execution_count": 38,
   "metadata": {},
   "outputs": [
    {
     "data": {
      "text/html": [
       "<div>\n",
       "<style scoped>\n",
       "    .dataframe tbody tr th:only-of-type {\n",
       "        vertical-align: middle;\n",
       "    }\n",
       "\n",
       "    .dataframe tbody tr th {\n",
       "        vertical-align: top;\n",
       "    }\n",
       "\n",
       "    .dataframe thead th {\n",
       "        text-align: right;\n",
       "    }\n",
       "</style>\n",
       "<table border=\"1\" class=\"dataframe\">\n",
       "  <thead>\n",
       "    <tr style=\"text-align: right;\">\n",
       "      <th></th>\n",
       "      <th>body</th>\n",
       "      <th>title</th>\n",
       "    </tr>\n",
       "  </thead>\n",
       "  <tbody>\n",
       "    <tr>\n",
       "      <th>0</th>\n",
       "      <td>seculo xvi rua nova mercadores pequena babel. ...</td>\n",
       "      <td>quinta avenida seculo xvi ficava lisboa</td>\n",
       "    </tr>\n",
       "    <tr>\n",
       "      <th>1</th>\n",
       "      <td>costa fara declaracao quartafeira volta meiodi...</td>\n",
       "      <td>costa deixa camara lisboa concentrar apenas ps</td>\n",
       "    </tr>\n",
       "    <tr>\n",
       "      <th>2</th>\n",
       "      <td>concessao equipamento visitados cidade lisboa ...</td>\n",
       "      <td>sociedade francisco manuel santos fica oceanar...</td>\n",
       "    </tr>\n",
       "    <tr>\n",
       "      <th>3</th>\n",
       "      <td>frase contexto costa afirmou reduzido divida c...</td>\n",
       "      <td>divida camara lisboa paga governo</td>\n",
       "    </tr>\n",
       "    <tr>\n",
       "      <th>4</th>\n",
       "      <td>seculo xvi rua nova mercadores pequena babel. ...</td>\n",
       "      <td>quinta avenida seculo xvi ficava lisboa</td>\n",
       "    </tr>\n",
       "    <tr>\n",
       "      <th>...</th>\n",
       "      <td>...</td>\n",
       "      <td>...</td>\n",
       "    </tr>\n",
       "    <tr>\n",
       "      <th>9023</th>\n",
       "      <td>numero nascimentos portugal recuperou primeiro...</td>\n",
       "      <td>numero nascimentos recuperou.o trimestre bebes</td>\n",
       "    </tr>\n",
       "    <tr>\n",
       "      <th>9024</th>\n",
       "      <td>servico veterinaria municipio pombal detectou ...</td>\n",
       "      <td>gatos morrem pombal doenca altamente contagiosa</td>\n",
       "    </tr>\n",
       "    <tr>\n",
       "      <th>9025</th>\n",
       "      <td>manha tercafeira ceu pais ganhou tom alaranjad...</td>\n",
       "      <td>tempestade celia empurra poeira sara portugal</td>\n",
       "    </tr>\n",
       "    <tr>\n",
       "      <th>9026</th>\n",
       "      <td>portal agendamento vacina internet deixou aces...</td>\n",
       "      <td>covid portal agendamento vacinacao deixa exist...</td>\n",
       "    </tr>\n",
       "    <tr>\n",
       "      <th>9027</th>\n",
       "      <td>portal agendamento vacina internet deixou aces...</td>\n",
       "      <td>covid portal agendamento vacinacao deixa exist...</td>\n",
       "    </tr>\n",
       "  </tbody>\n",
       "</table>\n",
       "<p>9028 rows × 2 columns</p>\n",
       "</div>"
      ],
      "text/plain": [
       "                                                   body  \\\n",
       "0     seculo xvi rua nova mercadores pequena babel. ...   \n",
       "1     costa fara declaracao quartafeira volta meiodi...   \n",
       "2     concessao equipamento visitados cidade lisboa ...   \n",
       "3     frase contexto costa afirmou reduzido divida c...   \n",
       "4     seculo xvi rua nova mercadores pequena babel. ...   \n",
       "...                                                 ...   \n",
       "9023  numero nascimentos portugal recuperou primeiro...   \n",
       "9024  servico veterinaria municipio pombal detectou ...   \n",
       "9025  manha tercafeira ceu pais ganhou tom alaranjad...   \n",
       "9026  portal agendamento vacina internet deixou aces...   \n",
       "9027  portal agendamento vacina internet deixou aces...   \n",
       "\n",
       "                                                  title  \n",
       "0               quinta avenida seculo xvi ficava lisboa  \n",
       "1        costa deixa camara lisboa concentrar apenas ps  \n",
       "2     sociedade francisco manuel santos fica oceanar...  \n",
       "3                    divida camara lisboa paga governo   \n",
       "4               quinta avenida seculo xvi ficava lisboa  \n",
       "...                                                 ...  \n",
       "9023     numero nascimentos recuperou.o trimestre bebes  \n",
       "9024    gatos morrem pombal doenca altamente contagiosa  \n",
       "9025      tempestade celia empurra poeira sara portugal  \n",
       "9026  covid portal agendamento vacinacao deixa exist...  \n",
       "9027  covid portal agendamento vacinacao deixa exist...  \n",
       "\n",
       "[9028 rows x 2 columns]"
      ]
     },
     "execution_count": 38,
     "metadata": {},
     "output_type": "execute_result"
    }
   ],
   "source": [
    "data_p"
   ]
  },
  {
   "cell_type": "code",
   "execution_count": null,
   "metadata": {},
   "outputs": [],
   "source": []
  }
 ],
 "metadata": {
  "interpreter": {
   "hash": "57e5980710ed742cfe72a4be488a9d6f7ea4c6a6f4082a5d701045bcd350c891"
  },
  "kernelspec": {
   "display_name": "Python 3.9.7 ('smart_archive-LyPfE8oW-py3.9')",
   "language": "python",
   "name": "python3"
  },
  "language_info": {
   "codemirror_mode": {
    "name": "ipython",
    "version": 3
   },
   "file_extension": ".py",
   "mimetype": "text/x-python",
   "name": "python",
   "nbconvert_exporter": "python",
   "pygments_lexer": "ipython3",
   "version": "3.9.7"
  },
  "orig_nbformat": 4
 },
 "nbformat": 4,
 "nbformat_minor": 2
}
