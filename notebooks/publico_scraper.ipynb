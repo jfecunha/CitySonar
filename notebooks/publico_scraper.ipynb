{
 "cells": [
  {
   "cell_type": "markdown",
   "metadata": {},
   "source": [
    "# Publico scraper"
   ]
  },
  {
   "cell_type": "markdown",
   "metadata": {},
   "source": []
  },
  {
   "cell_type": "code",
   "execution_count": 2,
   "metadata": {},
   "outputs": [],
   "source": [
    "import requests\n",
    "import json\n",
    "\n",
    "import pandas as pd\n",
    "\n",
    "from selenium import webdriver\n",
    "from selenium.webdriver.common.by import By\n",
    "from selenium.webdriver.support.ui import WebDriverWait\n",
    "from selenium.webdriver.support import expected_conditions as EC\n",
    "import time\n",
    "PATH = '/home/joao/Projects/SmartArchive/selenium/chromedriver'\n"
   ]
  },
  {
   "cell_type": "code",
   "execution_count": 146,
   "metadata": {},
   "outputs": [],
   "source": [
    "keyword= 'lisboa'\n",
    "starting_date = '01-01-2018'\n",
    "ending_date = '31-12-2018'\n",
    "page_number = 0\n",
    "counter = 0\n",
    "articles = []\n",
    "while not isinstance(counter, list):\n",
    "    link = f\"https://www.publico.pt/api/list/search/?query={keyword}&start={starting_date}&end={ending_date}&page={page_number}\"\n",
    "    f = requests.get(link)\n",
    "    content = json.loads(f.text)\n",
    "    articles.append(content)\n",
    "    if not content:\n",
    "        counter = []\n",
    "    page_number += 1\n",
    "\n",
    "articles = [item for sublist in articles for item in sublist]\n"
   ]
  },
  {
   "cell_type": "code",
   "execution_count": 147,
   "metadata": {},
   "outputs": [],
   "source": [
    "articles_url = [f['fullUrl'] for f in articles]"
   ]
  },
  {
   "cell_type": "code",
   "execution_count": 148,
   "metadata": {},
   "outputs": [
    {
     "data": {
      "text/plain": [
       "110"
      ]
     },
     "execution_count": 148,
     "metadata": {},
     "output_type": "execute_result"
    }
   ],
   "source": [
    "len(articles_url)"
   ]
  },
  {
   "cell_type": "code",
   "execution_count": 151,
   "metadata": {},
   "outputs": [
    {
     "name": "stdout",
     "output_type": "stream",
     "text": [
      "2015\n",
      "2016\n",
      "2017\n",
      "2018\n",
      "2019\n",
      "2020\n",
      "2021\n",
      "2022\n"
     ]
    }
   ],
   "source": [
    " for y in range(2015, 2023): print(y)"
   ]
  },
  {
   "cell_type": "code",
   "execution_count": 96,
   "metadata": {},
   "outputs": [
    {
     "data": {
      "text/plain": [
       "['culturaipsilon']"
      ]
     },
     "execution_count": 96,
     "metadata": {},
     "output_type": "execute_result"
    }
   ],
   "source": [
    "import re\n",
    "re.findall(r\"(?<=\\d\\d\\d\\d/\\d\\d/\\d\\d/)\\w+\", articles_url[0:1][0])"
   ]
  },
  {
   "cell_type": "code",
   "execution_count": 73,
   "metadata": {},
   "outputs": [],
   "source": [
    "def extract_info_from_url(url):\n",
    "    driver = webdriver.Chrome(PATH)\n",
    "    driver.get(url)\n",
    "\n",
    "    tag = driver.find_element(by=By.XPATH, value='//*[@id=\"story-header\"]/div/div[1]')\n",
    "    title = driver.find_element(by=By.XPATH, value='//*[@id=\"story-header\"]/div/h1')\n",
    "    sub_title = driver.find_element(by=By.XPATH, value='//*[@id=\"story-header\"]/div/div[2]')\n",
    "    body = driver.find_element(by=By.XPATH, value='//*[@id=\"story-body\"]')\n",
    "\n",
    "    data = {'tag': tag.text, 'title': title.text, 'sub_title': sub_title.text, 'body': body.text}\n",
    "    driver.quit()\n",
    "    return data "
   ]
  },
  {
   "cell_type": "code",
   "execution_count": 7,
   "metadata": {},
   "outputs": [
    {
     "data": {
      "text/html": [
       "<div>\n",
       "<style scoped>\n",
       "    .dataframe tbody tr th:only-of-type {\n",
       "        vertical-align: middle;\n",
       "    }\n",
       "\n",
       "    .dataframe tbody tr th {\n",
       "        vertical-align: top;\n",
       "    }\n",
       "\n",
       "    .dataframe thead th {\n",
       "        text-align: right;\n",
       "    }\n",
       "</style>\n",
       "<table border=\"1\" class=\"dataframe\">\n",
       "  <thead>\n",
       "    <tr style=\"text-align: right;\">\n",
       "      <th></th>\n",
       "      <th>city</th>\n",
       "      <th>main_tag</th>\n",
       "      <th>tag</th>\n",
       "      <th>title</th>\n",
       "      <th>sub_title</th>\n",
       "      <th>body</th>\n",
       "      <th>year</th>\n",
       "    </tr>\n",
       "  </thead>\n",
       "  <tbody>\n",
       "    <tr>\n",
       "      <th>0</th>\n",
       "      <td>Lisboa</td>\n",
       "      <td>local</td>\n",
       "      <td>LISBOA</td>\n",
       "      <td>Tribunal de Contas recusa visto prévio a renda...</td>\n",
       "      <td>O Tribunal de Contasdiz que há \"vantagens cont...</td>\n",
       "      <td>O Tribunal de Contas recusou o visto prévio ao...</td>\n",
       "      <td>2019</td>\n",
       "    </tr>\n",
       "    <tr>\n",
       "      <th>1</th>\n",
       "      <td>Lisboa</td>\n",
       "      <td>p3</td>\n",
       "      <td>REPORTAGEM</td>\n",
       "      <td>Naky percorre a Lisboa africana que a história...</td>\n",
       "      <td>Do Togo para Portugal, Naky veio ensinar aos d...</td>\n",
       "      <td>Sob um sol quente de Inverno que aquece as per...</td>\n",
       "      <td>2019</td>\n",
       "    </tr>\n",
       "    <tr>\n",
       "      <th>2</th>\n",
       "      <td>Lisboa</td>\n",
       "      <td>local</td>\n",
       "      <td>TRANSPORTES</td>\n",
       "      <td>Já pode viajar nos transportes de Lisboa e pag...</td>\n",
       "      <td>Serviço chama-se Viva Go e quer facilitar a vi...</td>\n",
       "      <td>A partir desta terça-feira, será possível viaj...</td>\n",
       "      <td>2019</td>\n",
       "    </tr>\n",
       "    <tr>\n",
       "      <th>3</th>\n",
       "      <td>Lisboa</td>\n",
       "      <td>politica</td>\n",
       "      <td>SEGURANÇA</td>\n",
       "      <td>PSD-Lisboa responsabiliza Joana Mortágua por d...</td>\n",
       "      <td>Deputada do Bloco partilhou vídeo a criticar a...</td>\n",
       "      <td>A concelhia lisboeta do PSD “exige responsabil...</td>\n",
       "      <td>2019</td>\n",
       "    </tr>\n",
       "    <tr>\n",
       "      <th>4</th>\n",
       "      <td>Lisboa</td>\n",
       "      <td>local</td>\n",
       "      <td>METRO DE LISBOA</td>\n",
       "      <td>Uma linha circular no metro em Lisboa? “Era o ...</td>\n",
       "      <td>Está lançado o concurso público para a constru...</td>\n",
       "      <td>O ponto de encontro era a estação Baixa-Chiado...</td>\n",
       "      <td>2019</td>\n",
       "    </tr>\n",
       "  </tbody>\n",
       "</table>\n",
       "</div>"
      ],
      "text/plain": [
       "     city  main_tag              tag  \\\n",
       "0  Lisboa     local           LISBOA   \n",
       "1  Lisboa        p3       REPORTAGEM   \n",
       "2  Lisboa     local      TRANSPORTES   \n",
       "3  Lisboa  politica        SEGURANÇA   \n",
       "4  Lisboa     local  METRO DE LISBOA   \n",
       "\n",
       "                                               title  \\\n",
       "0  Tribunal de Contas recusa visto prévio a renda...   \n",
       "1  Naky percorre a Lisboa africana que a história...   \n",
       "2  Já pode viajar nos transportes de Lisboa e pag...   \n",
       "3  PSD-Lisboa responsabiliza Joana Mortágua por d...   \n",
       "4  Uma linha circular no metro em Lisboa? “Era o ...   \n",
       "\n",
       "                                           sub_title  \\\n",
       "0  O Tribunal de Contasdiz que há \"vantagens cont...   \n",
       "1  Do Togo para Portugal, Naky veio ensinar aos d...   \n",
       "2  Serviço chama-se Viva Go e quer facilitar a vi...   \n",
       "3  Deputada do Bloco partilhou vídeo a criticar a...   \n",
       "4  Está lançado o concurso público para a constru...   \n",
       "\n",
       "                                                body  year  \n",
       "0  O Tribunal de Contas recusou o visto prévio ao...  2019  \n",
       "1  Sob um sol quente de Inverno que aquece as per...  2019  \n",
       "2  A partir desta terça-feira, será possível viaj...  2019  \n",
       "3  A concelhia lisboeta do PSD “exige responsabil...  2019  \n",
       "4  O ponto de encontro era a estação Baixa-Chiado...  2019  "
      ]
     },
     "execution_count": 7,
     "metadata": {},
     "output_type": "execute_result"
    }
   ],
   "source": [
    "d_ = pd.read_csv('../data/raw/publico_scraper.csv.gz', compression='gzip')\n",
    "d_.head()"
   ]
  },
  {
   "cell_type": "code",
   "execution_count": 8,
   "metadata": {},
   "outputs": [
    {
     "data": {
      "text/plain": [
       "local             19\n",
       "fugas              9\n",
       "p3                 6\n",
       "desporto           6\n",
       "culturaipsilon     5\n",
       "sociedade          4\n",
       "politica           2\n",
       "economia           2\n",
       "Name: main_tag, dtype: int64"
      ]
     },
     "execution_count": 8,
     "metadata": {},
     "output_type": "execute_result"
    }
   ],
   "source": [
    "d_.main_tag.value_counts()"
   ]
  },
  {
   "cell_type": "code",
   "execution_count": 10,
   "metadata": {},
   "outputs": [
    {
     "data": {
      "text/plain": [
       "Porto     34\n",
       "Lisboa    19\n",
       "Name: city, dtype: int64"
      ]
     },
     "execution_count": 10,
     "metadata": {},
     "output_type": "execute_result"
    }
   ],
   "source": [
    "d_.city.value_counts()"
   ]
  },
  {
   "cell_type": "code",
   "execution_count": 9,
   "metadata": {},
   "outputs": [
    {
     "data": {
      "text/plain": [
       "(53, 7)"
      ]
     },
     "execution_count": 9,
     "metadata": {},
     "output_type": "execute_result"
    }
   ],
   "source": [
    "d_.shape"
   ]
  },
  {
   "cell_type": "code",
   "execution_count": 6,
   "metadata": {},
   "outputs": [
    {
     "name": "stdout",
     "output_type": "stream",
     "text": [
      "2019\n"
     ]
    }
   ],
   "source": [
    "for y in range(2019, 2020): print(y)"
   ]
  },
  {
   "cell_type": "code",
   "execution_count": 135,
   "metadata": {},
   "outputs": [
    {
     "data": {
      "text/plain": [
       "0.14759461759781126"
      ]
     },
     "execution_count": 135,
     "metadata": {},
     "output_type": "execute_result"
    }
   ],
   "source": [
    "import numpy as np\n",
    "float(abs(np.random.normal(0, 0.1, 1)))"
   ]
  },
  {
   "cell_type": "code",
   "execution_count": 109,
   "metadata": {},
   "outputs": [
    {
     "name": "stderr",
     "output_type": "stream",
     "text": [
      "/tmp/ipykernel_183188/4000191398.py:2: DeprecationWarning: executable_path has been deprecated, please pass in a Service object\n",
      "  driver = webdriver.Chrome(PATH)\n"
     ]
    },
    {
     "data": {
      "text/plain": [
       "{'tag': <selenium.webdriver.remote.webelement.WebElement (session=\"e4e41ea13ebd98964f372453cc37e413\", element=\"ebc89d27-6704-4471-aadb-5546bbb3a382\")>,\n",
       " 'title': 'Viana do Castelo e a abolição das touradas',\n",
       " 'sub_title': <selenium.webdriver.remote.webelement.WebElement (session=\"e4e41ea13ebd98964f372453cc37e413\", element=\"7d037a92-e12d-48f4-b754-d72eb5dc7162\")>,\n",
       " 'body': <selenium.webdriver.remote.webelement.WebElement (session=\"e4e41ea13ebd98964f372453cc37e413\", element=\"c24939ef-a7bc-43d3-8835-583eff270515\")>}"
      ]
     },
     "execution_count": 109,
     "metadata": {},
     "output_type": "execute_result"
    }
   ],
   "source": [
    "extract_info_from_url(articles_url[1])"
   ]
  },
  {
   "cell_type": "code",
   "execution_count": 46,
   "metadata": {},
   "outputs": [
    {
     "name": "stderr",
     "output_type": "stream",
     "text": [
      "/tmp/ipykernel_183188/2721808585.py:1: DeprecationWarning: executable_path has been deprecated, please pass in a Service object\n",
      "  driver = webdriver.Chrome(PATH)\n"
     ]
    },
    {
     "name": "stdout",
     "output_type": "stream",
     "text": [
      "ANIMAIS\n",
      "Viana do Castelo cria Linha SOS para ocorrências com animais selvagens\n",
      "Quando encontrarem um animal selvagem ferido ou morto, as pessoas podem ligar para a Linha SOS Biodiversidade. Serviço quer dar “uma resposta cirúrgica” a “ocorrências frequentes em espaço público”.\n",
      "A Câmara de Viana do Castelo criou uma Linha SOS (258 819 391) para ocorrências que envolvam animais selvagens, para “aliviar a pressão” nas organizações de socorro a pessoas e bens no concelho, até agora accionadas para atender àquelas situações. “O que pretendemos com a Linha SOS Biodiversidade é diminuir ao máximo o número de ocorrências que envolvam animais selvagens reportados às entidades que prestam socorro a pessoas e bens. Sem querer, as pessoas podem pôr em causa o socorro em casos de emergência, como acidentes, incêndios ou outras situações”, explicou esta sexta-feira à agência Lusa o vereador do Ambiente na Câmara de Viana do Castelo.\n",
      "Ricardo Carvalhido justificou a criação daquele serviço, já em funcionamento, 24 horas por dia, com a necessidade de dar “uma resposta cirúrgica” a “ocorrências frequentes em espaço público, como o arrojamento de animais marinhos (golfinhos e tartarugas), gaivotas, cavalos e javalis mortos, moribundos ou feridos, entre outros animais selvagens”. “Quando encontravam um animal selvagem ferido ou morto, as pessoas não sabiam bem para onde ligar e acabam por accionar várias entidades, como os bombeiros, PSP, GNR, Autoridade Marítima, que são entidades que têm por missão o socorro e salvamento de pessoas e bens. Agora devem ligar para a Linha SOS Biodiversidade e o operador contacta, cirurgicamente, a entidade que tem a competência para a resolver”, especificou.\n",
      "Durante o dia, “as chamadas são atendidas pelo Centro de Monitorização e Interpretação Ambiental (CMIA) e, no período nocturno, por uma equipa de resgate e salvamento animal dos Bombeiros Sapadores de Viana do Castelo, que dispõe de formação e de equipamento específico, nomeadamente uma célula sanitária ventilada de transporte”.\n",
      "O vereador do Ambiente explicou que a criação daquele serviço resultou de uma avaliação que envolveu diversas entidades, entre elas o Instituto de Conservação da Natureza e Florestas (ICNF), face à “frequência” daquelas ocorrências. O objectivo é actuar ao nível do “impacto na saúde pública, evitando o trabalho desnecessário que toma as várias entidades que são contactadas pelos cidadãos na procura da solução do problema”.\n",
      "“Verificou-se a ocupação desnecessária de meios humanos, técnicos e logísticos (como a ocupação do operador de atendimento telefónico), podendo pôr em causa o tempo de resposta a emergências”, reforçou. Por outro lado, acrescentou Ricardo Carvalhido, “o cidadão também não estava a obter a resposta célere e concreta que procurava para que a situação dos animais em causa (com interferência na saúde pública) fosse atendida sem objectividade”. No período diurno, “as chamadas para a Linha SOS Biodiversidade (258 819 391) são atendidas por um operador do CMIA e, à noite, por um operador dos Bombeiros Sapadores”.\n"
     ]
    }
   ],
   "source": [
    "driver = webdriver.Chrome(PATH)\n",
    "driver.get('https://www.publico.pt/2020/10/23/p3/noticia/viana-castelo-cria-linha-sos-ocorrencias-animais-selvagens-1936437')\n",
    "\n",
    "tag = driver.find_element(by=By.XPATH, value='//*[@id=\"story-header\"]/div/div[1]')\n",
    "print(tag.text)\n",
    "\n",
    "title = driver.find_element(by=By.XPATH, value='//*[@id=\"story-header\"]/div/h1')\n",
    "print(title.text)\n",
    "\n",
    "sub_title = driver.find_element(by=By.XPATH, value='//*[@id=\"story-header\"]/div/div[2]')\n",
    "print(sub_title.text)\n",
    "\n",
    "body = driver.find_element(by=By.XPATH, value='//*[@id=\"story-body\"]')\n",
    "print(body.text)\n",
    "\n",
    "driver.quit()"
   ]
  },
  {
   "cell_type": "code",
   "execution_count": null,
   "metadata": {},
   "outputs": [],
   "source": []
  }
 ],
 "metadata": {
  "interpreter": {
   "hash": "57e5980710ed742cfe72a4be488a9d6f7ea4c6a6f4082a5d701045bcd350c891"
  },
  "kernelspec": {
   "display_name": "Python 3.9.7 ('smart_archive-LyPfE8oW-py3.9')",
   "language": "python",
   "name": "python3"
  },
  "language_info": {
   "codemirror_mode": {
    "name": "ipython",
    "version": 3
   },
   "file_extension": ".py",
   "mimetype": "text/x-python",
   "name": "python",
   "nbconvert_exporter": "python",
   "pygments_lexer": "ipython3",
   "version": "3.9.7"
  },
  "orig_nbformat": 4
 },
 "nbformat": 4,
 "nbformat_minor": 2
}
