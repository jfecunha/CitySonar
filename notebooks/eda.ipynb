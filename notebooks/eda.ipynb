{
 "cells": [
  {
   "cell_type": "markdown",
   "metadata": {},
   "source": [
    "# Analise exploratória"
   ]
  },
  {
   "cell_type": "code",
   "execution_count": 1,
   "metadata": {},
   "outputs": [],
   "source": [
    "import pandas as pd\n",
    "\n",
    "import yake\n",
    "import spacy\n",
    "\n",
    "from spacytextblob.spacytextblob import SpacyTextBlob\n"
   ]
  },
  {
   "cell_type": "code",
   "execution_count": 2,
   "metadata": {},
   "outputs": [
    {
     "data": {
      "text/plain": [
       "'3.2.4'"
      ]
     },
     "execution_count": 2,
     "metadata": {},
     "output_type": "execute_result"
    }
   ],
   "source": [
    "spacy.__version__"
   ]
  },
  {
   "cell_type": "code",
   "execution_count": 3,
   "metadata": {},
   "outputs": [],
   "source": [
    "data = pd.read_csv('../data/scraping_data.csv.gz', compression='gzip')"
   ]
  },
  {
   "cell_type": "code",
   "execution_count": 4,
   "metadata": {},
   "outputs": [
    {
     "data": {
      "text/html": [
       "<div>\n",
       "<style scoped>\n",
       "    .dataframe tbody tr th:only-of-type {\n",
       "        vertical-align: middle;\n",
       "    }\n",
       "\n",
       "    .dataframe tbody tr th {\n",
       "        vertical-align: top;\n",
       "    }\n",
       "\n",
       "    .dataframe thead th {\n",
       "        text-align: right;\n",
       "    }\n",
       "</style>\n",
       "<table border=\"1\" class=\"dataframe\">\n",
       "  <thead>\n",
       "    <tr style=\"text-align: right;\">\n",
       "      <th></th>\n",
       "      <th>Unnamed: 0</th>\n",
       "      <th>city</th>\n",
       "      <th>title</th>\n",
       "      <th>content</th>\n",
       "      <th>year</th>\n",
       "      <th>tstamp</th>\n",
       "      <th>link</th>\n",
       "    </tr>\n",
       "  </thead>\n",
       "  <tbody>\n",
       "    <tr>\n",
       "      <th>0</th>\n",
       "      <td>0</td>\n",
       "      <td>Lisboa</td>\n",
       "      <td>POL | Local Lisboa</td>\n",
       "      <td>POL | Local Lisboa SECÇÕES 1ª Página Destaque ...</td>\n",
       "      <td>1999</td>\n",
       "      <td>19991111042737</td>\n",
       "      <td>https://arquivo.pt/wayback/19991111042737/http...</td>\n",
       "    </tr>\n",
       "    <tr>\n",
       "      <th>1</th>\n",
       "      <td>1</td>\n",
       "      <td>Lisboa</td>\n",
       "      <td>JN Editorial - Text57</td>\n",
       "      <td>JN Editorial - Text57 26 milhões para dar casa...</td>\n",
       "      <td>1999</td>\n",
       "      <td>19990822002536</td>\n",
       "      <td>https://arquivo.pt/wayback/19990822002536/http...</td>\n",
       "    </tr>\n",
       "    <tr>\n",
       "      <th>2</th>\n",
       "      <td>2</td>\n",
       "      <td>Lisboa</td>\n",
       "      <td>Outras Paginas</td>\n",
       "      <td>Outras Paginas 11 de Novembro de 1999 Igreja d...</td>\n",
       "      <td>1999</td>\n",
       "      <td>19991117215651</td>\n",
       "      <td>https://arquivo.pt/wayback/19991117215651/http...</td>\n",
       "    </tr>\n",
       "    <tr>\n",
       "      <th>3</th>\n",
       "      <td>3</td>\n",
       "      <td>Lisboa</td>\n",
       "      <td>JN Editorial - Texult1</td>\n",
       "      <td>JN Editorial - Texult1 Macau: Rão Kyao é o aut...</td>\n",
       "      <td>1999</td>\n",
       "      <td>19991118004529</td>\n",
       "      <td>https://arquivo.pt/wayback/19991118004529/http...</td>\n",
       "    </tr>\n",
       "    <tr>\n",
       "      <th>4</th>\n",
       "      <td>4</td>\n",
       "      <td>Lisboa</td>\n",
       "      <td>PÚBLICONLINE-Os Destaques da Primeira Página</td>\n",
       "      <td>PÚBLICONLINE-Os Destaques da Primeira Página S...</td>\n",
       "      <td>1999</td>\n",
       "      <td>19991012235908</td>\n",
       "      <td>https://arquivo.pt/wayback/19991012235908/http...</td>\n",
       "    </tr>\n",
       "  </tbody>\n",
       "</table>\n",
       "</div>"
      ],
      "text/plain": [
       "   Unnamed: 0    city                                         title  \\\n",
       "0           0  Lisboa                            POL | Local Lisboa   \n",
       "1           1  Lisboa                         JN Editorial - Text57   \n",
       "2           2  Lisboa                                Outras Paginas   \n",
       "3           3  Lisboa                        JN Editorial - Texult1   \n",
       "4           4  Lisboa  PÚBLICONLINE-Os Destaques da Primeira Página   \n",
       "\n",
       "                                             content  year          tstamp  \\\n",
       "0  POL | Local Lisboa SECÇÕES 1ª Página Destaque ...  1999  19991111042737   \n",
       "1  JN Editorial - Text57 26 milhões para dar casa...  1999  19990822002536   \n",
       "2  Outras Paginas 11 de Novembro de 1999 Igreja d...  1999  19991117215651   \n",
       "3  JN Editorial - Texult1 Macau: Rão Kyao é o aut...  1999  19991118004529   \n",
       "4  PÚBLICONLINE-Os Destaques da Primeira Página S...  1999  19991012235908   \n",
       "\n",
       "                                                link  \n",
       "0  https://arquivo.pt/wayback/19991111042737/http...  \n",
       "1  https://arquivo.pt/wayback/19990822002536/http...  \n",
       "2  https://arquivo.pt/wayback/19991117215651/http...  \n",
       "3  https://arquivo.pt/wayback/19991118004529/http...  \n",
       "4  https://arquivo.pt/wayback/19991012235908/http...  "
      ]
     },
     "execution_count": 4,
     "metadata": {},
     "output_type": "execute_result"
    }
   ],
   "source": [
    "data.head()"
   ]
  },
  {
   "cell_type": "code",
   "execution_count": 5,
   "metadata": {},
   "outputs": [
    {
     "data": {
      "text/plain": [
       "Lisboa              5363\n",
       "Porto               3835\n",
       "Coimbra             2080\n",
       "Braga               2047\n",
       "Guarda              1969\n",
       "Setúbal             1792\n",
       "Aveiro              1471\n",
       "Beja                1403\n",
       "Leiria              1344\n",
       "Bragança            1215\n",
       "Faro                1208\n",
       "Viseu               1188\n",
       "Vila Real           1104\n",
       "Santarém            1072\n",
       "Castelo Branco       958\n",
       "Viana do Castelo     943\n",
       "Évora                908\n",
       "Portalegre           859\n",
       "Name: city, dtype: int64"
      ]
     },
     "execution_count": 5,
     "metadata": {},
     "output_type": "execute_result"
    }
   ],
   "source": [
    "data.city.value_counts()"
   ]
  },
  {
   "cell_type": "code",
   "execution_count": 6,
   "metadata": {},
   "outputs": [
    {
     "data": {
      "text/plain": [
       "year  city            \n",
       "1999  Aveiro               4\n",
       "      Beja                 3\n",
       "      Braga                4\n",
       "      Bragança             6\n",
       "      Castelo Branco       3\n",
       "                          ..\n",
       "2021  Setúbal             47\n",
       "      Viana do Castelo    34\n",
       "      Vila Real           40\n",
       "      Viseu               36\n",
       "      Évora               50\n",
       "Length: 336, dtype: int64"
      ]
     },
     "execution_count": 6,
     "metadata": {},
     "output_type": "execute_result"
    }
   ],
   "source": [
    "data.groupby(['year', 'city']).size()"
   ]
  },
  {
   "cell_type": "markdown",
   "metadata": {},
   "source": [
    "## Keyword Detection"
   ]
  },
  {
   "cell_type": "code",
   "execution_count": 7,
   "metadata": {},
   "outputs": [
    {
     "data": {
      "text/plain": [
       "'JN Editorial - Text57 26 milhões para dar casa a dez mil Ana Fonseca \"É impressionante a obra que a Câmara Municipal de Lisboa está a desenvolver na vertente habitacional\" disse, ontem, o ministro João Cravinho, durante a cerimónia de assinatura do 3º contrato do Programa Especial de Realojamento (PER), que contou com a presença do Primeiro Ministro. Na sua intervenção, após a assinatura do documento pelos presidentes da edilidade lisboeta e do Instituto Nacional da Habitação, o ministro do Equipamento, Planeamento e Administração do Território adiantou que \"o Município de Lisboa está a combater o flagelo da exclusão social, opondo-lhe com lucidez e inteligência a requalificação urbana\". Cravinho fez igualmente questão de salientar que foi a secretária de Estado da Habitação, Leonor Coutinho, \"que relançou a política da habitação começando pelo lado mais ingrato, nomeadamente, o de afinamento dos regulamentos existentes e na eliminação dos obstáculos\". Numa tenda improvisada no Alto do Lumiar, local onde no total serão construídos 20 mil fogos, entre os quais três mil para habitação social, António Guterres enalteceu também o trabalho camarário: \"Estes quatro anos não tiveram paralelo no desenvolvimento da política habitacional. Além disso, dentro de uma lógica de integração, está a acabar-se com os guetos alguns dos quais eram piores do que os bairros de barracas\". Considerou ainda \"extremamente importante o processo de reabilitação dos bairros históricos da cidade\" da responsabilidade do vereador António Abreu, também presente na cerimónia. \"A realização deste conjunto de objectivos, que visa dar casas a quem delas precisa\", rematou António Guterres, \"resulta de uma colaboração exemplar entre a autarquia e o Governo\". O 3º contrato do PER abrange um total de 3300 fogos e um investimento total de cerca de 26 milhões de contos, comparticipado em 50 por cento pelo Instituto Nacional da Habitação, sendo os restantes 50 por cento financiados pela Caixa Geral de Depósitos no âmbito de um contrato assinado entre aquela entidade e a CML. \"A década de 90 marcou o fim da cultura das barracas, num processo de reacção ao que parecia inevitável\", disse o vereador da habitação, Vasco Franco, que adiantou: \"Durante este período não se construiu uma única barraca e foi demolida mais de metade das 20 mil existentes na cidade\". Depois de falar da importância das parcerias que têm sido realizadas com entidades privadas, de que é exemplo o projecto da Alto de Lisboa, aquele vereador considerou \"bastante positiva a inserção social das famílias realojadas\". Aliás, exemplificou, \"o projecto em curso visa precisamente a integração no seio das 17 mil habitações, que serão comercializadas por privados, dos três mil fogos para realojamento das famílias que ainda vivem em barracas\". Num espaço, com cerca de 300 hectares - sensivelmente o mesmo do da Expo -, \"as casas serão vendidas a preços mais baixos do que em alguns locais da periferia de Lisboa\", finalizou Vasco Franco\". Com o desafio pela frente de remodelação total dos 300 hectares destinados ao empreendimento da Alta de Lisboa e construção dos respectivos 17 mil fogos para venda livre, \"estaremos aqui pelo menos mais 20 anos\", disse, por sua vez, Carvalho Fernandes, presidente da Sociedade Gestora do Alto do Lumiar (SGAL). Além disso, \"está já a decorrer a demolição dos bairros degradados existentes na zona, prevendo-se que até ao ano 2001 esses agregados estejam totalmente erradicados\". Uma meta cujo cumprimento João Soares garantiu durante uma intervenção onde ressaltou a importância da colaboração entre os poderes Central e Local. De acordo com aquele edil, \"Lisboa, uma cidade em movimento e em constante modernização, já assumiu a dignidade mínima exigível a uma urbe capital da União Europeia\". Estiveram presentes a secretária de Estado, Leonor Coutinho, o vereador das Finanças, Fontão de Carvalho e João Salgueiro, presidente da Caixa Geral de depósitos. Copyright © 1999 Empresa do Jornal de Notícias S.A. Reservados todos os Direitos.'"
      ]
     },
     "execution_count": 7,
     "metadata": {},
     "output_type": "execute_result"
    }
   ],
   "source": [
    "data.content.iloc[1]"
   ]
  },
  {
   "cell_type": "code",
   "execution_count": 8,
   "metadata": {},
   "outputs": [
    {
     "name": "stdout",
     "output_type": "stream",
     "text": [
      "('Ana Fonseca', 0.0038407678490116988)\n",
      "('Câmara Municipal', 0.003978555269459013)\n",
      "('Programa Especial', 0.003978555269459013)\n",
      "('ministro João Cravinho', 0.008668324735027152)\n",
      "('Municipal de Lisboa', 0.01572009438684224)\n",
      "('Habitação', 0.028366783262467544)\n",
      "('Nacional da Habitação', 0.028753077992326757)\n",
      "('desenvolver na vertente', 0.030171465142072706)\n",
      "('Lisboa', 0.030715864992870243)\n",
      "('António Guterres', 0.032833672166677284)\n",
      "('Instituto Nacional', 0.03360846799203783)\n",
      "('Planeamento e Administração', 0.03596424370203167)\n",
      "('Administração do Território', 0.03711750557651457)\n",
      "('contrato do Programa', 0.037535659382879095)\n",
      "('vereador António Abreu', 0.03980619685567849)\n",
      "('ministro João', 0.0411577149827416)\n",
      "('ministro', 0.0425564171335201)\n",
      "('António Guterres enalteceu', 0.047508223170825474)\n",
      "('Município de Lisboa', 0.04757942103361036)\n",
      "('Especial de Realojamento', 0.04932804478431916)\n"
     ]
    }
   ],
   "source": [
    "language = \"pt\"\n",
    "max_ngram_size = 3\n",
    "deduplication_thresold = 0.9\n",
    "deduplication_algo = 'seqm'\n",
    "windowSize = 1\n",
    "numOfKeywords = 20\n",
    "\n",
    "custom_kw_extractor = yake.KeywordExtractor(lan=language, n=max_ngram_size, dedupLim=deduplication_thresold, dedupFunc=deduplication_algo, windowsSize=windowSize, top=numOfKeywords, features=None)\n",
    "keywords = custom_kw_extractor.extract_keywords(data.content.iloc[1])\n",
    "\n",
    "for kw in keywords:\n",
    "    print(kw)"
   ]
  },
  {
   "cell_type": "markdown",
   "metadata": {},
   "source": [
    "## Sentiment Analysis"
   ]
  },
  {
   "cell_type": "code",
   "execution_count": 10,
   "metadata": {},
   "outputs": [
    {
     "name": "stdout",
     "output_type": "stream",
     "text": [
      "showing info https://raw.githubusercontent.com/nltk/nltk_data/gh-pages/index.xml\n"
     ]
    },
    {
     "data": {
      "text/plain": [
       "True"
      ]
     },
     "execution_count": 10,
     "metadata": {},
     "output_type": "execute_result"
    }
   ],
   "source": [
    "import nltk\n",
    "import ssl\n",
    "\n",
    "try:\n",
    "    _create_unverified_https_context = ssl._create_unverified_context\n",
    "except AttributeError:\n",
    "    pass\n",
    "else:\n",
    "    ssl._create_default_https_context = _create_unverified_https_context\n",
    "\n",
    "nltk.download()"
   ]
  },
  {
   "cell_type": "code",
   "execution_count": 16,
   "metadata": {},
   "outputs": [
    {
     "data": {
      "text/plain": [
       "Sentiment(polarity=0.01, subjectivity=0.34500000000000003, assessments=[(['social'], 0.03333333333333333, 0.06666666666666667, None), (['local'], 0.0, 0.0, None), (['no', 'total'], -0.0, 0.75, None), (['social'], 0.03333333333333333, 0.06666666666666667, None), (['total'], 0.0, 0.75, None), (['total'], 0.0, 0.75, None), (['social'], 0.03333333333333333, 0.06666666666666667, None), (['total'], 0.0, 0.75, None), (['central'], 0.0, 0.25, None), (['local'], 0.0, 0.0, None)])"
      ]
     },
     "execution_count": 16,
     "metadata": {},
     "output_type": "execute_result"
    }
   ],
   "source": [
    "nlp = spacy.load(\"pt_core_news_lg\")\n",
    "nlp.add_pipe('spacytextblob')\n",
    "#text = \"I had a really horrible day. It was the worst day ever! But every now and then I have a really good day that makes me happy.\"\n",
    "text = data.content.iloc[1]\n",
    "doc = nlp(text)\n",
    "doc._.blob.polarity                            \n",
    "#doc._.blob.subjectivity                        \n",
    "doc._.blob.sentiment_assessments\n",
    "#doc._.blob.ngrams()"
   ]
  },
  {
   "cell_type": "code",
   "execution_count": null,
   "metadata": {},
   "outputs": [],
   "source": []
  }
 ],
 "metadata": {
  "interpreter": {
   "hash": "5ced3be9d1c63e918c342e50044be0791acd9298dca62153cfbef56e0b5c2b15"
  },
  "kernelspec": {
   "display_name": "Python 3.9.12 ('smart_archive-_uPZh7PR-py3.9')",
   "language": "python",
   "name": "python3"
  },
  "language_info": {
   "codemirror_mode": {
    "name": "ipython",
    "version": 3
   },
   "file_extension": ".py",
   "mimetype": "text/x-python",
   "name": "python",
   "nbconvert_exporter": "python",
   "pygments_lexer": "ipython3",
   "version": "3.9.12"
  },
  "orig_nbformat": 4
 },
 "nbformat": 4,
 "nbformat_minor": 2
}
