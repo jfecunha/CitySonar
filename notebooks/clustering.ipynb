{
 "cells": [
  {
   "cell_type": "markdown",
   "metadata": {},
   "source": [
    "# Document Clustering and Concept extraction"
   ]
  },
  {
   "cell_type": "code",
   "execution_count": 5,
   "metadata": {},
   "outputs": [],
   "source": [
    "from pathlib import Path\n",
    "import sys\n",
    "\n",
    "parent = Path().absolute().parents[0].as_posix()\n",
    "\n",
    "sys.path.insert(0, parent)\n",
    "\n",
    "from tqdm import tqdm\n",
    "from collections import Counter\n",
    "\n",
    "import pandas as pd\n",
    "import numpy as np\n",
    "\n",
    "import pickle\n",
    "import gensim\n",
    "import matplotlib.pyplot as plt\n",
    "\n",
    "from sklearn.feature_extraction.text import TfidfVectorizer\n",
    "from sklearn.cluster import KMeans\n",
    "from sklearn.metrics import silhouette_score\n",
    "from scipy.spatial.distance import cdist\n",
    "\n"
   ]
  },
  {
   "cell_type": "code",
   "execution_count": 6,
   "metadata": {},
   "outputs": [],
   "source": [
    "with open('../data/processed/words_embedded.pickle', 'rb') as handle:\n",
    "    words_emb = pickle.load(handle)"
   ]
  },
  {
   "cell_type": "code",
   "execution_count": 7,
   "metadata": {},
   "outputs": [
    {
     "name": "stdout",
     "output_type": "stream",
     "text": [
      "30712\n"
     ]
    }
   ],
   "source": [
    "with open('../data/processed/docs_cleaned.pickle', 'rb') as handle:\n",
    "    docs_cleaned = pickle.load(handle)\n",
    "print(len(docs_cleaned))"
   ]
  },
  {
   "cell_type": "code",
   "execution_count": 8,
   "metadata": {},
   "outputs": [],
   "source": [
    "model = gensim.models.Word2Vec.load('../models/trained/word2vec.model')"
   ]
  },
  {
   "cell_type": "code",
   "execution_count": 9,
   "metadata": {},
   "outputs": [
    {
     "name": "stderr",
     "output_type": "stream",
     "text": [
      "/home/joao/.cache/pypoetry/virtualenvs/smart_archive-LyPfE8oW-py3.9/lib/python3.9/site-packages/sklearn/utils/deprecation.py:87: FutureWarning: Function get_feature_names is deprecated; get_feature_names is deprecated in 1.0 and will be removed in 1.2. Please use get_feature_names_out instead.\n",
      "  warnings.warn(msg, category=FutureWarning)\n"
     ]
    }
   ],
   "source": [
    "vectorizer = TfidfVectorizer()\n",
    "X = vectorizer.fit_transform(docs_cleaned)\n",
    "feature_array = vectorizer.get_feature_names()\n",
    "\n",
    "tf_idf_values = dict(list(zip(feature_array,vectorizer.idf_,)))"
   ]
  },
  {
   "cell_type": "code",
   "execution_count": 4,
   "metadata": {},
   "outputs": [
    {
     "ename": "NameError",
     "evalue": "name 'tf_idf_values' is not defined",
     "output_type": "error",
     "traceback": [
      "\u001b[0;31m---------------------------------------------------------------------------\u001b[0m",
      "\u001b[0;31mNameError\u001b[0m                                 Traceback (most recent call last)",
      "\u001b[1;32m/home/joao/Projects/SmartArchive/notebooks/clustering.ipynb Cell 7'\u001b[0m in \u001b[0;36m<cell line: 1>\u001b[0;34m()\u001b[0m\n\u001b[0;32m----> <a href='vscode-notebook-cell:/home/joao/Projects/SmartArchive/notebooks/clustering.ipynb#ch0000006?line=0'>1</a>\u001b[0m tf_idf_values\n",
      "\u001b[0;31mNameError\u001b[0m: name 'tf_idf_values' is not defined"
     ]
    }
   ],
   "source": [
    "tf_idf_values"
   ]
  },
  {
   "cell_type": "code",
   "execution_count": 10,
   "metadata": {},
   "outputs": [],
   "source": [
    "X = [val[0] for val in words_emb]"
   ]
  },
  {
   "cell_type": "code",
   "execution_count": 20,
   "metadata": {},
   "outputs": [
    {
     "ename": "KeyboardInterrupt",
     "evalue": "",
     "output_type": "error",
     "traceback": [
      "\u001b[0;31m---------------------------------------------------------------------------\u001b[0m",
      "\u001b[0;31mKeyboardInterrupt\u001b[0m                         Traceback (most recent call last)",
      "File \u001b[0;32m<__array_function__ internals>:177\u001b[0m, in \u001b[0;36mwhere\u001b[0;34m(*args, **kwargs)\u001b[0m\n",
      "\u001b[0;31mKeyboardInterrupt\u001b[0m: "
     ]
    },
    {
     "name": "stderr",
     "output_type": "stream",
     "text": [
      "Exception ignored in: 'sklearn.cluster._k_means_common._relocate_empty_clusters_dense'\n",
      "Traceback (most recent call last):\n",
      "  File \"<__array_function__ internals>\", line 177, in where\n",
      "KeyboardInterrupt: \n"
     ]
    },
    {
     "ename": "KeyboardInterrupt",
     "evalue": "",
     "output_type": "error",
     "traceback": [
      "\u001b[0;31m---------------------------------------------------------------------------\u001b[0m",
      "\u001b[0;31mKeyboardInterrupt\u001b[0m                         Traceback (most recent call last)",
      "File \u001b[0;32m<__array_function__ internals>:177\u001b[0m, in \u001b[0;36mwhere\u001b[0;34m(*args, **kwargs)\u001b[0m\n",
      "\u001b[0;31mKeyboardInterrupt\u001b[0m: "
     ]
    },
    {
     "name": "stderr",
     "output_type": "stream",
     "text": [
      "Exception ignored in: 'sklearn.cluster._k_means_common._relocate_empty_clusters_dense'\n",
      "Traceback (most recent call last):\n",
      "  File \"<__array_function__ internals>\", line 177, in where\n",
      "KeyboardInterrupt: \n"
     ]
    }
   ],
   "source": [
    "distortions = []\n",
    "cluster_numbers = range(2, 20)\n",
    "for k in cluster_numbers:\n",
    "    k_means = KMeans(n_clusters=k, random_state=0)\n",
    "    k_means.fit(X)\n",
    "    distortions.append(sum(np.min(cdist(X, k_means.cluster_centers_, 'euclidean'), axis=1)) / len(X))\n",
    "\n",
    "\n",
    "X_line = [cluster_numbers[0], cluster_numbers[-1]]\n",
    "Y_line = [distortions[0], distortions[-1]]\n",
    "\n",
    "plt.figure(figsize=(10,10))\n",
    "plt.plot(cluster_numbers, distortions, 'b-')\n",
    "plt.plot(X_line, Y_line, 'r')\n",
    "plt.xlabel('k')\n",
    "plt.ylabel('Distortion')\n",
    "plt.title('The Elbow Method showing the optimal k')\n",
    "plt.show()\n"
   ]
  },
  {
   "cell_type": "code",
   "execution_count": 11,
   "metadata": {},
   "outputs": [
    {
     "data": {
      "text/plain": [
       "KMeans(n_clusters=10, random_state=0)"
      ]
     },
     "execution_count": 11,
     "metadata": {},
     "output_type": "execute_result"
    }
   ],
   "source": [
    "kmeans = KMeans(n_clusters=10, random_state=0)\n",
    "kmeans.fit(X)"
   ]
  },
  {
   "cell_type": "code",
   "execution_count": 12,
   "metadata": {},
   "outputs": [
    {
     "data": {
      "text/plain": [
       "array([0, 1, 2, 3, 4, 5, 6, 7, 8, 9], dtype=int32)"
      ]
     },
     "execution_count": 12,
     "metadata": {},
     "output_type": "execute_result"
    }
   ],
   "source": [
    "np.unique(kmeans.labels_)"
   ]
  },
  {
   "cell_type": "code",
   "execution_count": 13,
   "metadata": {},
   "outputs": [],
   "source": [
    "concept_mapping = dict(list(zip([val[1] for val in words_emb], kmeans.labels_)))"
   ]
  },
  {
   "cell_type": "code",
   "execution_count": null,
   "metadata": {},
   "outputs": [],
   "source": [
    "concept_mapping"
   ]
  },
  {
   "cell_type": "code",
   "execution_count": 15,
   "metadata": {},
   "outputs": [],
   "source": [
    "res = pd.DataFrame()\n",
    "res['Word'] = [val[1] for val in words_emb]\n",
    "res['Emb'] = [val[0] for val in words_emb]\n",
    "res['Concept'] = kmeans.labels_"
   ]
  },
  {
   "cell_type": "code",
   "execution_count": 16,
   "metadata": {},
   "outputs": [
    {
     "data": {
      "text/plain": [
       "3    73714\n",
       "2     3969\n",
       "0     2390\n",
       "7     2310\n",
       "9     2069\n",
       "1     1962\n",
       "5     1832\n",
       "8     1753\n",
       "4     1730\n",
       "6     1192\n",
       "Name: Concept, dtype: int64"
      ]
     },
     "execution_count": 16,
     "metadata": {},
     "output_type": "execute_result"
    }
   ],
   "source": [
    "res.Concept.value_counts()"
   ]
  },
  {
   "cell_type": "code",
   "execution_count": 17,
   "metadata": {},
   "outputs": [
    {
     "name": "stdout",
     "output_type": "stream",
     "text": [
      "Concept: 0\n",
      "[('argumentista', 0.6818162202835083), ('atriz', 0.6619501113891602), ('trilogia', 0.6498917937278748), ('pianista', 0.6482418179512024), ('compositor', 0.637350857257843), ('trompetista', 0.6336904168128967), ('cantores', 0.6227751970291138), ('guitarrista', 0.6222512722015381), ('editou', 0.6219135522842407), ('romancista', 0.6213992834091187)]\n",
      "Concept: 1\n",
      "[('formal', 0.659369170665741), ('rejeitou', 0.6560016870498657), ('assumida', 0.6420570015907288), ('judicial.', 0.6219436526298523), ('demissao', 0.6132233142852783), ('questionado', 0.6036558151245117), ('relator', 0.5992388725280762), ('parlamento', 0.5944909453392029), ('governo', 0.5912910103797913), ('parlamentar', 0.5898439884185791)]\n",
      "Concept: 2\n",
      "[('informadas', 0.6677165031433105), ('reguladoras', 0.64616858959198), ('crediveis', 0.645114541053772), ('organizarem', 0.6147018074989319), ('agredidas', 0.5967496633529663), ('beneficiam', 0.5966504812240601), ('constituidas', 0.596274733543396), ('existirao', 0.5924716591835022), ('controladas', 0.5904783010482788), ('estabeleceram', 0.5881202816963196)]\n",
      "Concept: 3\n",
      "[('issiaga.', 0.8947464823722839), ('leandrine.', 0.8882006406784058), ('mahdi.', 0.8874974846839905), ('girgis..', 0.8867378830909729), ('saman.', 0.884148120880127), ('this.', 0.8839471340179443), ('elliot.', 0.8830394148826599), ('omid.', 0.8825489282608032), ('inesca', 0.88249671459198), ('sefaride', 0.8821805119514465)]\n",
      "Concept: 4\n",
      "[('garantir', 0.6119701862335205), ('haver', 0.6108014583587646), ('nomeadamente', 0.6094367504119873), ('necessidade', 0.6043313145637512), ('viabilidade', 0.593900203704834), ('desenvolvimento', 0.5920226573944092), ('materia', 0.5827769041061401), ('implicacoes', 0.5814270973205566), ('sublinhando', 0.5811411142349243), ('adotar', 0.5810837745666504)]\n",
      "Concept: 5\n",
      "[('cereais', 0.7125710844993591), ('textura', 0.7025389075279236), ('termoacumulador', 0.6618402004241943), ('saladas', 0.6562926173210144), ('embalagem', 0.6560870409011841), ('aromas', 0.6536314487457275), ('finos', 0.6487440466880798), ('vacuo', 0.6487184762954712), ('legumes', 0.6441638469696045), ('detergente', 0.64308762550354)]\n",
      "Concept: 6\n",
      "[('aumento', 0.6171311736106873), ('faturacao', 0.6130545735359192), ('diminuicao', 0.6088130474090576), ('valor', 0.6010469198226929), ('passageiros', 0.5773330330848694), ('toneladas.', 0.5736324191093445), ('total', 0.5706380009651184), ('precos', 0.5696351528167725), ('aumento.', 0.5672642588615417), ('reducao', 0.5645539164543152)]\n",
      "Concept: 7\n",
      "[('fafe..', 0.842096745967865), ('ovarensemarco', 0.8401912450790405), ('ovarenseespinho', 0.8379807472229004), ('imortalpenafiel', 0.836617648601532), ('varzimmarco', 0.8341847062110901), ('noira', 0.8305590748786926), ('varzimpenafiel', 0.8251006007194519), ('ovarensenaval', 0.8248734474182129), ('travanca', 0.8224259614944458), ('lecamarco', 0.8208274245262146)]\n",
      "Concept: 8\n",
      "[('madrugada', 0.6643220782279968), ('tripoli', 0.663443922996521), ('explosao', 0.6538055539131165), ('intercetado', 0.6532068848609924), ('cabul', 0.646366536617279), ('beirute', 0.6397562623023987), ('disparado', 0.6271145343780518), ('viajavam', 0.6225221157073975), ('esquadra', 0.6179773211479187), ('bombardeamentos', 0.607858419418335)]\n",
      "Concept: 9\n",
      "[('senti', 0.6635099053382874), ('sentime', 0.6512657999992371), ('deus.', 0.6462924480438232), ('imenso.', 0.6458449959754944), ('sei', 0.63889080286026), ('esquecer.', 0.6379058957099915), ('sabe', 0.6337787508964539), ('sinto', 0.6233789920806885), ('calhar', 0.6215659976005554), ('percebeu', 0.6196033358573914)]\n"
     ]
    }
   ],
   "source": [
    "for concept in np.unique(kmeans.labels_):\n",
    "    print('Concept:', concept)\n",
    "    print(model.wv.most_similar(positive=[np.mean(res[res.Concept==concept]['Emb'])], topn=10))"
   ]
  },
  {
   "cell_type": "code",
   "execution_count": 21,
   "metadata": {},
   "outputs": [],
   "source": [
    "from collections import defaultdict"
   ]
  },
  {
   "cell_type": "code",
   "execution_count": 34,
   "metadata": {},
   "outputs": [],
   "source": [
    "t = {key: [] for key in range(0, 10)}\n"
   ]
  },
  {
   "cell_type": "code",
   "execution_count": null,
   "metadata": {},
   "outputs": [],
   "source": [
    "t"
   ]
  },
  {
   "cell_type": "code",
   "execution_count": 39,
   "metadata": {},
   "outputs": [],
   "source": [
    "for word in docs_cleaned[0].split(' '):\n",
    "    try:\n",
    "        t[concept_mapping[word]].append(tf_idf_values[word])\n",
    "    except KeyError:\n",
    "        continue"
   ]
  },
  {
   "cell_type": "code",
   "execution_count": null,
   "metadata": {},
   "outputs": [],
   "source": [
    "t"
   ]
  },
  {
   "cell_type": "code",
   "execution_count": null,
   "metadata": {},
   "outputs": [],
   "source": []
  }
 ],
 "metadata": {
  "interpreter": {
   "hash": "57e5980710ed742cfe72a4be488a9d6f7ea4c6a6f4082a5d701045bcd350c891"
  },
  "kernelspec": {
   "display_name": "Python 3.9.7 ('smart_archive-LyPfE8oW-py3.9')",
   "language": "python",
   "name": "python3"
  },
  "language_info": {
   "codemirror_mode": {
    "name": "ipython",
    "version": 3
   },
   "file_extension": ".py",
   "mimetype": "text/x-python",
   "name": "python",
   "nbconvert_exporter": "python",
   "pygments_lexer": "ipython3",
   "version": "3.9.7"
  },
  "orig_nbformat": 4
 },
 "nbformat": 4,
 "nbformat_minor": 2
}
