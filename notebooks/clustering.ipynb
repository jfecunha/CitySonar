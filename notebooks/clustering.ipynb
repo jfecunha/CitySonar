{
 "cells": [
  {
   "cell_type": "markdown",
   "metadata": {},
   "source": [
    "# Document Clustering and Concept extraction"
   ]
  },
  {
   "cell_type": "code",
   "execution_count": 1,
   "metadata": {},
   "outputs": [],
   "source": [
    "from pathlib import Path\n",
    "import sys\n",
    "import re\n",
    "\n",
    "parent = Path().absolute().parents[0].as_posix()\n",
    "\n",
    "sys.path.insert(0, parent)\n",
    "\n",
    "from tqdm import tqdm\n",
    "from collections import Counter\n",
    "\n",
    "import pandas as pd\n",
    "import numpy as np\n",
    "\n",
    "import pickle\n",
    "import gensim\n",
    "import matplotlib.pyplot as plt\n",
    "\n",
    "from sklearn.feature_extraction.text import TfidfVectorizer, CountVectorizer\n",
    "from sklearn.cluster import KMeans\n",
    "from sklearn.metrics import silhouette_score\n",
    "from scipy.spatial.distance import cdist\n",
    "from sklearn.preprocessing import StandardScaler\n",
    "%matplotlib inline"
   ]
  },
  {
   "cell_type": "markdown",
   "metadata": {},
   "source": [
    "## Load data"
   ]
  },
  {
   "cell_type": "code",
   "execution_count": 2,
   "metadata": {},
   "outputs": [],
   "source": [
    "articles = pd.read_csv('../data/scraping_data.csv.gz', compression='gzip')\n",
    "articles['source'] = articles['link'].apply(lambda val: re.findall(r\"(?<=[http|s:]//)\\w+\", val)[1])"
   ]
  },
  {
   "cell_type": "code",
   "execution_count": 3,
   "metadata": {},
   "outputs": [],
   "source": [
    "with open('../data/processed/words_embedded.pickle', 'rb') as handle:\n",
    "    words_emb = pickle.load(handle)"
   ]
  },
  {
   "cell_type": "code",
   "execution_count": 4,
   "metadata": {},
   "outputs": [],
   "source": [
    "with open('../data/processed/docs_cleaned.pickle', 'rb') as handle:\n",
    "    docs_cleaned = pickle.load(handle)"
   ]
  },
  {
   "cell_type": "code",
   "execution_count": 5,
   "metadata": {},
   "outputs": [],
   "source": [
    "with open('../data/processed/docs_keywords_sentiment.pickle', 'rb') as handle:\n",
    "    docs_keywords_w_sentiment = pickle.load(handle)"
   ]
  },
  {
   "cell_type": "code",
   "execution_count": 6,
   "metadata": {},
   "outputs": [],
   "source": [
    "with open('../data/processed/docs_keywords.pickle', 'rb') as handle:\n",
    "    docs_keywords = pickle.load(handle)"
   ]
  },
  {
   "cell_type": "code",
   "execution_count": 7,
   "metadata": {},
   "outputs": [],
   "source": [
    "model = gensim.models.Word2Vec.load('../models/trained/word2vec.model')"
   ]
  },
  {
   "cell_type": "code",
   "execution_count": 8,
   "metadata": {},
   "outputs": [
    {
     "name": "stderr",
     "output_type": "stream",
     "text": [
      "/home/joao/.cache/pypoetry/virtualenvs/smart_archive-LyPfE8oW-py3.9/lib/python3.9/site-packages/sklearn/utils/deprecation.py:87: FutureWarning: Function get_feature_names is deprecated; get_feature_names is deprecated in 1.0 and will be removed in 1.2. Please use get_feature_names_out instead.\n",
      "  warnings.warn(msg, category=FutureWarning)\n"
     ]
    }
   ],
   "source": [
    "vectorizer = TfidfVectorizer()\n",
    "X = vectorizer.fit_transform(docs_cleaned)\n",
    "feature_array = vectorizer.get_feature_names()\n",
    "\n",
    "tf_idf_values = dict(list(zip(feature_array,vectorizer.idf_,)))"
   ]
  },
  {
   "cell_type": "code",
   "execution_count": 9,
   "metadata": {},
   "outputs": [],
   "source": [
    "vectorizer = CountVectorizer()\n",
    "X = vectorizer.fit_transform(docs_cleaned)\n",
    "feature_array = vectorizer.get_feature_names()\n",
    "freq_values = dict(zip(vectorizer.get_feature_names(), X.sum(0).getA1()))\n",
    "                           "
   ]
  },
  {
   "cell_type": "code",
   "execution_count": null,
   "metadata": {},
   "outputs": [],
   "source": [
    "tf_idf_values"
   ]
  },
  {
   "cell_type": "code",
   "execution_count": 9,
   "metadata": {},
   "outputs": [],
   "source": [
    "X = [val[0] for val in words_emb]"
   ]
  },
  {
   "cell_type": "code",
   "execution_count": null,
   "metadata": {},
   "outputs": [],
   "source": [
    "distortions = []\n",
    "cluster_numbers = range(2, 20)\n",
    "for k in cluster_numbers:\n",
    "    k_means = KMeans(n_clusters=k, random_state=0)\n",
    "    k_means.fit(X)\n",
    "    distortions.append(sum(np.min(cdist(X, k_means.cluster_centers_, 'euclidean'), axis=1)) / len(X))\n",
    "\n",
    "\n",
    "X_line = [cluster_numbers[0], cluster_numbers[-1]]\n",
    "Y_line = [distortions[0], distortions[-1]]\n",
    "\n",
    "plt.figure(figsize=(10,10))\n",
    "plt.plot(cluster_numbers, distortions, 'b-')\n",
    "plt.plot(X_line, Y_line, 'r')\n",
    "plt.xlabel('k')\n",
    "plt.ylabel('Distortion')\n",
    "plt.title('The Elbow Method showing the optimal k')\n",
    "plt.show()\n"
   ]
  },
  {
   "cell_type": "code",
   "execution_count": 10,
   "metadata": {},
   "outputs": [
    {
     "data": {
      "text/plain": [
       "KMeans(max_iter=1000, n_clusters=12, random_state=0)"
      ]
     },
     "execution_count": 10,
     "metadata": {},
     "output_type": "execute_result"
    }
   ],
   "source": [
    "kmeans = KMeans(n_clusters=12, random_state=0, max_iter=1000)\n",
    "kmeans.fit(X)"
   ]
  },
  {
   "cell_type": "code",
   "execution_count": 11,
   "metadata": {},
   "outputs": [],
   "source": [
    "concept_mapping = dict(list(zip([val[1] for val in words_emb], kmeans.labels_)))"
   ]
  },
  {
   "cell_type": "code",
   "execution_count": null,
   "metadata": {},
   "outputs": [],
   "source": [
    "concept_mapping"
   ]
  },
  {
   "cell_type": "code",
   "execution_count": 12,
   "metadata": {},
   "outputs": [
    {
     "data": {
      "text/plain": [
       "92921"
      ]
     },
     "execution_count": 12,
     "metadata": {},
     "output_type": "execute_result"
    }
   ],
   "source": [
    "len(kmeans.labels_)"
   ]
  },
  {
   "cell_type": "code",
   "execution_count": 13,
   "metadata": {},
   "outputs": [],
   "source": [
    "res = pd.DataFrame()\n",
    "res['Word'] = [val[1] for val in words_emb]\n",
    "res['Emb'] = [val[0] for val in words_emb]\n",
    "res['Concept'] = kmeans.labels_"
   ]
  },
  {
   "cell_type": "code",
   "execution_count": 14,
   "metadata": {},
   "outputs": [
    {
     "data": {
      "text/plain": [
       "3     72554\n",
       "2      3847\n",
       "7      3743\n",
       "0      2165\n",
       "9      1902\n",
       "4      1612\n",
       "8      1608\n",
       "1      1575\n",
       "6      1499\n",
       "5      1320\n",
       "11     1004\n",
       "10       92\n",
       "Name: Concept, dtype: int64"
      ]
     },
     "execution_count": 14,
     "metadata": {},
     "output_type": "execute_result"
    }
   ],
   "source": [
    "res.Concept.value_counts()"
   ]
  },
  {
   "cell_type": "code",
   "execution_count": 26,
   "metadata": {},
   "outputs": [
    {
     "name": "stdout",
     "output_type": "stream",
     "text": [
      "Concept: 0\n",
      "[('argumentista', 0.6774632334709167), ('atriz', 0.6601378917694092), ('pianista', 0.6515897512435913), ('trilogia', 0.6514281630516052), ('compositor', 0.64143306016922), ('trompetista', 0.6307846307754517), ('cantores', 0.6246402263641357), ('dramaturgo', 0.6176615953445435), ('romancista', 0.6173108220100403), ('guitarrista', 0.6170833110809326), ('editou', 0.614407479763031), ('gotico', 0.6125814914703369), ('escritor', 0.6119500994682312), ('literario', 0.6096832752227783), ('cineasta', 0.6081852316856384), ('cantora', 0.6072835922241211), ('ilustrador', 0.6071503162384033), ('coreografa', 0.6070607900619507), ('ator', 0.6025753021240234), ('contrabaixista', 0.6020599007606506)]\n",
      "Concept: 1\n",
      "[('socialista', 0.6637467741966248), ('assumida', 0.6458436250686646), ('secretariogeral', 0.6401174664497375), ('rejeitou', 0.6326475143432617), ('acaloradamente', 0.6259049773216248), ('socialista.', 0.6255477070808411), ('assumiu', 0.6236230134963989), ('criticou', 0.6219638586044312), ('reagiu', 0.6173402070999146), ('parlamento', 0.6173238754272461), ('lider', 0.6142459511756897), ('reconducao', 0.6127885580062866), ('primeiroministro', 0.6117962598800659), ('parlamentar', 0.6095327734947205), ('oposicao', 0.6093056201934814), ('insistiu', 0.6089404225349426), ('formal', 0.6033328175544739), ('oposicao.', 0.601198136806488), ('criticar', 0.6010830402374268), ('presidente', 0.5922833681106567)]\n",
      "Concept: 2\n",
      "[('informadas', 0.6682808995246887), ('organizarem', 0.6356751322746277), ('agredidas', 0.6230266094207764), ('crediveis', 0.6198749542236328), ('reguladoras', 0.6004096865653992), ('meros', 0.6001657247543335), ('vendelos', 0.5932720899581909), ('managers', 0.5901779532432556), ('modificadas', 0.5819740891456604), ('estabeleceram', 0.5782009363174438), ('tornarem', 0.5756096243858337), ('suportem', 0.5743919014930725), ('existirao', 0.5743512511253357), ('transportam', 0.5724953413009644), ('constituidas', 0.5721231698989868), ('assimetricos', 0.5703696608543396), ('existem', 0.5703084468841553), ('lidam', 0.5692965984344482), ('relatarem', 0.5662354826927185), ('beneficiam', 0.5609658360481262)]\n",
      "Concept: 3\n",
      "[('issiaga.', 0.8885901570320129), ('mahdi.', 0.8830497860908508), ('leandrine.', 0.8826159834861755), ('girgis..', 0.8810970783233643), ('saman.', 0.8799440860748291), ('omid.', 0.8787617087364197), ('this.', 0.8782912492752075), ('inesca', 0.8781253099441528), ('elliot.', 0.8774164319038391), ('sefaride', 0.8770469427108765), ('twentysecond', 0.8759951591491699), ('rostam.', 0.874293863773346), ('milad.', 0.8737066984176636), ('neghar.', 0.8727483749389648), ('tuias', 0.8725215196609497), ('penascais', 0.8719300627708435), ('daryos.', 0.8704461455345154), ('gen', 0.8697752356529236), ('sajad.', 0.8662192225456238), ('fraud', 0.865742027759552)]\n",
      "Concept: 4\n",
      "[('haver', 0.6068224906921387), ('garantir', 0.6001865863800049), ('necessidade', 0.5997860431671143), ('desenvolvimento', 0.5960309505462646), ('nomeadamente', 0.5892757773399353), ('viabilidade', 0.5891920924186707), ('materia', 0.5864147543907166), ('sublinhando', 0.5827149152755737), ('estabilidade', 0.5812543034553528), ('melhorar', 0.5776583552360535), ('aspetos', 0.575313150882721), ('implicacoes', 0.5701099634170532), ('essencial', 0.564435601234436), ('determinante', 0.5643385648727417), ('adotar', 0.5639584064483643), ('depende', 0.5631634593009949), ('defendendo', 0.5630751252174377), ('mecanismos', 0.5630727410316467), ('competitividade', 0.5624896883964539), ('dimensao', 0.5601010918617249)]\n",
      "Concept: 5\n",
      "[('textura', 0.689903199672699), ('cereais', 0.6839730143547058), ('embalagem', 0.6580939292907715), ('termoacumulador', 0.6454024314880371), ('vacuo', 0.6401442885398865), ('saladas', 0.6351078152656555), ('legumes', 0.6322630643844604), ('detergente', 0.6322011947631836), ('recipientes', 0.6302179098129272), ('smoothies', 0.6295445561408997), ('panos', 0.6289930939674377), ('nylon', 0.6275515556335449), ('toalhetes', 0.6272715926170349), ('finos', 0.6266495585441589), ('spray', 0.6262620687484741), ('sumos', 0.6251004338264465), ('aromas', 0.6227620244026184), ('polipropileno', 0.6197770237922668), ('castanha', 0.6182058453559875), ('aplique', 0.6163389682769775)]\n",
      "Concept: 6\n",
      "[('incumprimento', 0.6749438047409058), ('contrapartidas', 0.6525530219078064), ('referidas', 0.6276664733886719), ('contratos', 0.6199613213539124), ('contratacao', 0.6104309558868408), ('regularizacao', 0.6088519096374512), ('licenciamento', 0.6042160391807556), ('transferencia', 0.5899765491485596), ('cessacao', 0.5842902660369873), ('reembolso', 0.579773485660553), ('idoneidade', 0.5775195360183716), ('remuneracao', 0.5730686783790588), ('ilicita', 0.5721403360366821), ('credores', 0.5704030394554138), ('contrato', 0.5683021545410156), ('remuneracoes', 0.5650572776794434), ('requerida', 0.5615183711051941), ('cobranca', 0.5544804334640503), ('aetpl', 0.5510624051094055), ('impugnou', 0.5506157279014587)]\n",
      "Concept: 7\n",
      "[('noira', 0.8362112641334534), ('ovarensemarco', 0.8356389999389648), ('ovarenseespinho', 0.8345109820365906), ('fafe..', 0.8286760449409485), ('imortalpenafiel', 0.828452467918396), ('varzimmarco', 0.824966549873352), ('paradela', 0.8207390308380127), ('lecamarco', 0.8185625076293945), ('ovarensenaval', 0.8182818293571472), ('imortalu.', 0.817664384841919), ('espinhoacademica', 0.8173143267631531), ('imortalmarco', 0.8171069025993347), ('navalfreamunde', 0.8159184455871582), ('marcoacademica', 0.8144457936286926), ('felgueirasnaval', 0.8137927651405334), ('imortalespinho', 0.8134828805923462), ('travanca', 0.8129786849021912), ('felgueirasmaia', 0.8128512501716614), ('varzimpenafiel', 0.8122106194496155), ('maiavarzim', 0.8090771436691284)]\n",
      "Concept: 8\n",
      "[('disparado', 0.6883730292320251), ('cabul', 0.6799335479736328), ('intercetado', 0.653458833694458), ('assassinado', 0.6530987620353699), ('sequestro', 0.6494327783584595), ('fugiu.', 0.6465842723846436), ('tripoli', 0.6429291367530823), ('beirute', 0.6418814063072205), ('policia', 0.633046567440033), ('detido', 0.6297187209129333), ('paquistanes', 0.6285756826400757), ('bombardeamentos', 0.6229376196861267), ('detidos', 0.6216244101524353), ('explosivos', 0.6212120056152344), ('capturado', 0.6173624992370605), ('naufragio', 0.6168147325515747), ('ucraniano', 0.6165851354598999), ('bombardeamento', 0.6153938174247742), ('atropelar', 0.6141480803489685), ('afeganistao', 0.6117522716522217)]\n",
      "Concept: 9\n",
      "[('senti', 0.6655237078666687), ('sentime', 0.6600443720817566), ('deus.', 0.6520645022392273), ('imenso.', 0.6441144943237305), ('sei', 0.643455445766449), ('esquecer.', 0.6343771815299988), ('sabe', 0.6335616707801819), ('sinto', 0.6278359293937683), ('saudades', 0.6263830065727234), ('calhar', 0.6206892728805542), ('percebeu', 0.614958643913269), ('acho', 0.6133710741996765), ('disseramme', 0.6089759469032288), ('coisa.', 0.6053825616836548), ('sentia', 0.603513240814209), ('fico', 0.6032217741012573), ('risos', 0.6016291379928589), ('patricia.', 0.6010679602622986), ('pareciame', 0.5922665596008301), ('tentei', 0.5901411771774292)]\n",
      "Concept: 10\n",
      "[('pararam..', 0.7152073383331299), ('xarem', 0.7108849287033081), ('revlon', 0.7079612612724304), ('seydoux', 0.7064018249511719), ('s’eveille', 0.7056654095649719), ('dinamarca..', 0.7045780420303345), ('syndicate..', 0.7035883069038391), ('economicofinanceira..', 0.7007590532302856), ('icsuniversidade', 0.7000907063484192), ('circulo..', 0.6996409893035889), ('consumado..', 0.6983133554458618), ('vaiados', 0.6970093846321106), ('scalzo', 0.6963455080986023), ('corona.', 0.6954147815704346), ('cvra', 0.693437397480011), ('rodes.', 0.6927622556686401), ('carvalhinho', 0.6919591426849365), ('carrapato', 0.6907543540000916), ('cochicho', 0.690031111240387), ('dv', 0.6897645592689514)]\n",
      "Concept: 11\n",
      "[('registaram', 0.610434353351593), ('passageiros', 0.5930604338645935), ('verificouse', 0.5875086188316345), ('quedas', 0.5771201252937317), ('bacias', 0.5770868062973022), ('toneladas.', 0.5769477486610413), ('diminuicao', 0.569869875907898), ('elevadas', 0.5676648020744324), ('azoto', 0.566412091255188), ('inundacoes.', 0.5505362153053284), ('infecoes', 0.5480067729949951), ('polenes', 0.5446045994758606), ('atingindo', 0.5437782406806946), ('regista', 0.5435855984687805), ('sul', 0.5407490134239197), ('cerca', 0.5397920608520508), ('aumento', 0.5385980606079102), ('reactivacao', 0.538472056388855), ('cairam', 0.5381534099578857), ('quebra.', 0.5380890965461731)]\n"
     ]
    }
   ],
   "source": [
    "for concept in np.unique(kmeans.labels_):\n",
    "    print('Concept:', concept)\n",
    "    print(model.wv.most_similar(positive=[np.mean(res[res.Concept==concept]['Emb'])], topn=20))"
   ]
  },
  {
   "cell_type": "code",
   "execution_count": 15,
   "metadata": {},
   "outputs": [
    {
     "name": "stderr",
     "output_type": "stream",
     "text": [
      "/home/joao/.cache/pypoetry/virtualenvs/smart_archive-LyPfE8oW-py3.9/lib/python3.9/site-packages/numpy/core/fromnumeric.py:3474: RuntimeWarning: Mean of empty slice.\n",
      "  return _methods._mean(a, axis=axis, dtype=dtype,\n",
      "/home/joao/.cache/pypoetry/virtualenvs/smart_archive-LyPfE8oW-py3.9/lib/python3.9/site-packages/numpy/core/_methods.py:189: RuntimeWarning: invalid value encountered in double_scalars\n",
      "  ret = ret.dtype.type(ret / rcount)\n"
     ]
    }
   ],
   "source": [
    "n_concepts = 12\n",
    "tf_idf_concepts = []\n",
    "for doc in docs_cleaned:\n",
    "    temp = {key: [] for key in range(0, n_concepts)}\n",
    "    for word in doc.split(' '):\n",
    "        try:\n",
    "            temp[concept_mapping[word]].append(tf_idf_values[word])\n",
    "        except KeyError:\n",
    "            continue\n",
    "    tf_idf_concepts.append({k:np.mean(v) for k,v in temp.items()})"
   ]
  },
  {
   "cell_type": "code",
   "execution_count": 16,
   "metadata": {},
   "outputs": [],
   "source": [
    "docs_concepts = pd.DataFrame(tf_idf_concepts)\n",
    "docs_concepts.fillna(0, inplace=True)"
   ]
  },
  {
   "cell_type": "code",
   "execution_count": 17,
   "metadata": {},
   "outputs": [
    {
     "data": {
      "text/html": [
       "<div>\n",
       "<style scoped>\n",
       "    .dataframe tbody tr th:only-of-type {\n",
       "        vertical-align: middle;\n",
       "    }\n",
       "\n",
       "    .dataframe tbody tr th {\n",
       "        vertical-align: top;\n",
       "    }\n",
       "\n",
       "    .dataframe thead th {\n",
       "        text-align: right;\n",
       "    }\n",
       "</style>\n",
       "<table border=\"1\" class=\"dataframe\">\n",
       "  <thead>\n",
       "    <tr style=\"text-align: right;\">\n",
       "      <th></th>\n",
       "      <th>0</th>\n",
       "      <th>1</th>\n",
       "      <th>2</th>\n",
       "      <th>3</th>\n",
       "      <th>4</th>\n",
       "      <th>5</th>\n",
       "      <th>6</th>\n",
       "      <th>7</th>\n",
       "      <th>8</th>\n",
       "      <th>9</th>\n",
       "      <th>10</th>\n",
       "      <th>11</th>\n",
       "    </tr>\n",
       "  </thead>\n",
       "  <tbody>\n",
       "    <tr>\n",
       "      <th>0</th>\n",
       "      <td>4.227586</td>\n",
       "      <td>3.866104</td>\n",
       "      <td>7.019558</td>\n",
       "      <td>7.933520</td>\n",
       "      <td>3.548455</td>\n",
       "      <td>4.751178</td>\n",
       "      <td>4.435950</td>\n",
       "      <td>6.119298</td>\n",
       "      <td>4.955144</td>\n",
       "      <td>3.694541</td>\n",
       "      <td>2.348786</td>\n",
       "      <td>4.572175</td>\n",
       "    </tr>\n",
       "    <tr>\n",
       "      <th>1</th>\n",
       "      <td>4.910398</td>\n",
       "      <td>4.095354</td>\n",
       "      <td>5.730766</td>\n",
       "      <td>8.676509</td>\n",
       "      <td>4.005181</td>\n",
       "      <td>6.480411</td>\n",
       "      <td>4.795413</td>\n",
       "      <td>7.206609</td>\n",
       "      <td>3.980406</td>\n",
       "      <td>3.641122</td>\n",
       "      <td>2.198344</td>\n",
       "      <td>4.429381</td>\n",
       "    </tr>\n",
       "    <tr>\n",
       "      <th>2</th>\n",
       "      <td>5.323303</td>\n",
       "      <td>4.190256</td>\n",
       "      <td>5.967059</td>\n",
       "      <td>8.470373</td>\n",
       "      <td>3.957898</td>\n",
       "      <td>5.170066</td>\n",
       "      <td>5.114350</td>\n",
       "      <td>6.811530</td>\n",
       "      <td>4.203864</td>\n",
       "      <td>3.967080</td>\n",
       "      <td>0.000000</td>\n",
       "      <td>4.113963</td>\n",
       "    </tr>\n",
       "    <tr>\n",
       "      <th>3</th>\n",
       "      <td>6.251882</td>\n",
       "      <td>4.233328</td>\n",
       "      <td>5.602932</td>\n",
       "      <td>8.819256</td>\n",
       "      <td>4.640020</td>\n",
       "      <td>0.000000</td>\n",
       "      <td>3.703077</td>\n",
       "      <td>6.651636</td>\n",
       "      <td>4.880003</td>\n",
       "      <td>4.781878</td>\n",
       "      <td>1.967922</td>\n",
       "      <td>3.297878</td>\n",
       "    </tr>\n",
       "    <tr>\n",
       "      <th>4</th>\n",
       "      <td>4.740547</td>\n",
       "      <td>3.858763</td>\n",
       "      <td>6.325240</td>\n",
       "      <td>8.298091</td>\n",
       "      <td>3.925220</td>\n",
       "      <td>3.650748</td>\n",
       "      <td>4.087613</td>\n",
       "      <td>7.747382</td>\n",
       "      <td>4.772175</td>\n",
       "      <td>4.284123</td>\n",
       "      <td>2.463260</td>\n",
       "      <td>4.128317</td>\n",
       "    </tr>\n",
       "  </tbody>\n",
       "</table>\n",
       "</div>"
      ],
      "text/plain": [
       "         0         1         2         3         4         5         6   \\\n",
       "0  4.227586  3.866104  7.019558  7.933520  3.548455  4.751178  4.435950   \n",
       "1  4.910398  4.095354  5.730766  8.676509  4.005181  6.480411  4.795413   \n",
       "2  5.323303  4.190256  5.967059  8.470373  3.957898  5.170066  5.114350   \n",
       "3  6.251882  4.233328  5.602932  8.819256  4.640020  0.000000  3.703077   \n",
       "4  4.740547  3.858763  6.325240  8.298091  3.925220  3.650748  4.087613   \n",
       "\n",
       "         7         8         9         10        11  \n",
       "0  6.119298  4.955144  3.694541  2.348786  4.572175  \n",
       "1  7.206609  3.980406  3.641122  2.198344  4.429381  \n",
       "2  6.811530  4.203864  3.967080  0.000000  4.113963  \n",
       "3  6.651636  4.880003  4.781878  1.967922  3.297878  \n",
       "4  7.747382  4.772175  4.284123  2.463260  4.128317  "
      ]
     },
     "execution_count": 17,
     "metadata": {},
     "output_type": "execute_result"
    }
   ],
   "source": [
    "docs_concepts.head()"
   ]
  },
  {
   "cell_type": "code",
   "execution_count": 18,
   "metadata": {},
   "outputs": [],
   "source": [
    "concepts = pd.DataFrame(columns=['Concept'])\n",
    "concepts['Concept'] = docs_concepts.idxmax(axis=1)"
   ]
  },
  {
   "cell_type": "code",
   "execution_count": 19,
   "metadata": {},
   "outputs": [
    {
     "data": {
      "text/html": [
       "<div>\n",
       "<style scoped>\n",
       "    .dataframe tbody tr th:only-of-type {\n",
       "        vertical-align: middle;\n",
       "    }\n",
       "\n",
       "    .dataframe tbody tr th {\n",
       "        vertical-align: top;\n",
       "    }\n",
       "\n",
       "    .dataframe thead th {\n",
       "        text-align: right;\n",
       "    }\n",
       "</style>\n",
       "<table border=\"1\" class=\"dataframe\">\n",
       "  <thead>\n",
       "    <tr style=\"text-align: right;\">\n",
       "      <th></th>\n",
       "      <th>Concept</th>\n",
       "    </tr>\n",
       "  </thead>\n",
       "  <tbody>\n",
       "    <tr>\n",
       "      <th>0</th>\n",
       "      <td>3</td>\n",
       "    </tr>\n",
       "    <tr>\n",
       "      <th>1</th>\n",
       "      <td>3</td>\n",
       "    </tr>\n",
       "    <tr>\n",
       "      <th>2</th>\n",
       "      <td>3</td>\n",
       "    </tr>\n",
       "    <tr>\n",
       "      <th>3</th>\n",
       "      <td>3</td>\n",
       "    </tr>\n",
       "    <tr>\n",
       "      <th>4</th>\n",
       "      <td>3</td>\n",
       "    </tr>\n",
       "  </tbody>\n",
       "</table>\n",
       "</div>"
      ],
      "text/plain": [
       "   Concept\n",
       "0        3\n",
       "1        3\n",
       "2        3\n",
       "3        3\n",
       "4        3"
      ]
     },
     "execution_count": 19,
     "metadata": {},
     "output_type": "execute_result"
    }
   ],
   "source": [
    "concepts.head()"
   ]
  },
  {
   "cell_type": "code",
   "execution_count": 20,
   "metadata": {},
   "outputs": [
    {
     "data": {
      "text/plain": [
       "3     17640\n",
       "7      4630\n",
       "2      3937\n",
       "1       754\n",
       "8       720\n",
       "5       698\n",
       "9       665\n",
       "0       585\n",
       "11      575\n",
       "6       385\n",
       "4       123\n",
       "Name: Concept, dtype: int64"
      ]
     },
     "execution_count": 20,
     "metadata": {},
     "output_type": "execute_result"
    }
   ],
   "source": [
    "concepts.Concept.value_counts()"
   ]
  },
  {
   "cell_type": "code",
   "execution_count": 112,
   "metadata": {},
   "outputs": [
    {
     "data": {
      "image/png": "[encoded data removed]",
      "text/plain": [
       "<Figure size 720x720 with 1 Axes>"
      ]
     },
     "metadata": {
      "needs_background": "light"
     },
     "output_type": "display_data"
    }
   ],
   "source": [
    "distortions = []\n",
    "cluster_numbers = range(2, 20)\n",
    "scaler = StandardScaler()\n",
    "docs_concepts_scaled = scaler.fit_transform(docs_concepts)\n",
    "for k in cluster_numbers:\n",
    "    k_means = KMeans(n_clusters=k, random_state=0)\n",
    "    k_means.fit(docs_concepts_scaled)\n",
    "    distortions.append(sum(np.min(cdist(docs_concepts_scaled, k_means.cluster_centers_, 'euclidean'), axis=1)) / len(docs_concepts_scaled))\n",
    "\n",
    "\n",
    "X_line = [cluster_numbers[0], cluster_numbers[-1]]\n",
    "Y_line = [distortions[0], distortions[-1]]\n",
    "\n",
    "plt.figure(figsize=(10,10))\n",
    "plt.plot(cluster_numbers, distortions, 'b-')\n",
    "plt.plot(X_line, Y_line, 'r')\n",
    "plt.xlabel('k')\n",
    "plt.ylabel('Distortion')\n",
    "plt.title('The Elbow Method showing the optimal k')\n",
    "plt.show()"
   ]
  },
  {
   "cell_type": "code",
   "execution_count": 92,
   "metadata": {},
   "outputs": [
    {
     "name": "stdout",
     "output_type": "stream",
     "text": [
      "{2: 0.3340066958357645}\n",
      "{2: 0.3340066958357645, 3: 0.22729697814831942}\n",
      "{2: 0.3340066958357645, 3: 0.22729697814831942, 4: 0.20883761465587766}\n",
      "{2: 0.3340066958357645, 3: 0.22729697814831942, 4: 0.20883761465587766, 5: 0.2188760146287086}\n",
      "{2: 0.3340066958357645, 3: 0.22729697814831942, 4: 0.20883761465587766, 5: 0.2188760146287086, 6: 0.22868826896333413}\n",
      "{2: 0.3340066958357645, 3: 0.22729697814831942, 4: 0.20883761465587766, 5: 0.2188760146287086, 6: 0.22868826896333413, 7: 0.21456827477248358}\n",
      "{2: 0.3340066958357645, 3: 0.22729697814831942, 4: 0.20883761465587766, 5: 0.2188760146287086, 6: 0.22868826896333413, 7: 0.21456827477248358, 8: 0.20254582014788639}\n",
      "{2: 0.3340066958357645, 3: 0.22729697814831942, 4: 0.20883761465587766, 5: 0.2188760146287086, 6: 0.22868826896333413, 7: 0.21456827477248358, 8: 0.20254582014788639, 9: 0.18027063959497064}\n",
      "{2: 0.3340066958357645, 3: 0.22729697814831942, 4: 0.20883761465587766, 5: 0.2188760146287086, 6: 0.22868826896333413, 7: 0.21456827477248358, 8: 0.20254582014788639, 9: 0.18027063959497064, 10: 0.17756095734902588}\n",
      "{2: 0.3340066958357645, 3: 0.22729697814831942, 4: 0.20883761465587766, 5: 0.2188760146287086, 6: 0.22868826896333413, 7: 0.21456827477248358, 8: 0.20254582014788639, 9: 0.18027063959497064, 10: 0.17756095734902588, 11: 0.17021861354026577}\n"
     ]
    }
   ],
   "source": [
    "ks = range(2, 12)\n",
    "results = {}\n",
    "for k in ks: \n",
    "    kmeans = KMeans(n_clusters=k, random_state=0)\n",
    "    kmeans.fit(docs_concepts)\n",
    "    results[k] = silhouette_score(docs_concepts, kmeans.labels_)\n",
    "    print(results)"
   ]
  },
  {
   "cell_type": "code",
   "execution_count": 21,
   "metadata": {},
   "outputs": [
    {
     "data": {
      "text/plain": [
       "KMeans(max_iter=1000, n_clusters=7, random_state=0)"
      ]
     },
     "execution_count": 21,
     "metadata": {},
     "output_type": "execute_result"
    }
   ],
   "source": [
    "scaler = StandardScaler()\n",
    "kmeans = KMeans(n_clusters=7, random_state=0, max_iter=1000)\n",
    "kmeans.fit(scaler.fit_transform(docs_concepts))"
   ]
  },
  {
   "cell_type": "code",
   "execution_count": 22,
   "metadata": {},
   "outputs": [],
   "source": [
    "w = pd.DataFrame(kmeans.labels_, columns=['cluster'])"
   ]
  },
  {
   "cell_type": "code",
   "execution_count": 23,
   "metadata": {},
   "outputs": [
    {
     "data": {
      "text/html": [
       "<div>\n",
       "<style scoped>\n",
       "    .dataframe tbody tr th:only-of-type {\n",
       "        vertical-align: middle;\n",
       "    }\n",
       "\n",
       "    .dataframe tbody tr th {\n",
       "        vertical-align: top;\n",
       "    }\n",
       "\n",
       "    .dataframe thead th {\n",
       "        text-align: right;\n",
       "    }\n",
       "</style>\n",
       "<table border=\"1\" class=\"dataframe\">\n",
       "  <thead>\n",
       "    <tr style=\"text-align: right;\">\n",
       "      <th></th>\n",
       "      <th>cluster</th>\n",
       "    </tr>\n",
       "  </thead>\n",
       "  <tbody>\n",
       "    <tr>\n",
       "      <th>0</th>\n",
       "      <td>0</td>\n",
       "    </tr>\n",
       "    <tr>\n",
       "      <th>1</th>\n",
       "      <td>0</td>\n",
       "    </tr>\n",
       "    <tr>\n",
       "      <th>2</th>\n",
       "      <td>0</td>\n",
       "    </tr>\n",
       "    <tr>\n",
       "      <th>3</th>\n",
       "      <td>0</td>\n",
       "    </tr>\n",
       "    <tr>\n",
       "      <th>4</th>\n",
       "      <td>0</td>\n",
       "    </tr>\n",
       "  </tbody>\n",
       "</table>\n",
       "</div>"
      ],
      "text/plain": [
       "   cluster\n",
       "0        0\n",
       "1        0\n",
       "2        0\n",
       "3        0\n",
       "4        0"
      ]
     },
     "execution_count": 23,
     "metadata": {},
     "output_type": "execute_result"
    }
   ],
   "source": [
    "w.head()"
   ]
  },
  {
   "cell_type": "code",
   "execution_count": 24,
   "metadata": {},
   "outputs": [
    {
     "data": {
      "text/plain": [
       "6    6093\n",
       "3    6040\n",
       "1    5963\n",
       "5    4570\n",
       "0    4414\n",
       "2    3363\n",
       "4     269\n",
       "Name: cluster, dtype: int64"
      ]
     },
     "execution_count": 24,
     "metadata": {},
     "output_type": "execute_result"
    }
   ],
   "source": [
    "w.cluster.value_counts()"
   ]
  },
  {
   "cell_type": "code",
   "execution_count": 25,
   "metadata": {},
   "outputs": [],
   "source": [
    "res = pd.merge(articles[['city', 'year', 'title', 'content']], w, left_index=True, right_index=True)\n",
    "res['keywords'] = docs_keywords\n",
    "res['concepts'] = concepts['Concept']\n"
   ]
  },
  {
   "cell_type": "code",
   "execution_count": 35,
   "metadata": {},
   "outputs": [
    {
     "data": {
      "text/html": [
       "<div>\n",
       "<style scoped>\n",
       "    .dataframe tbody tr th:only-of-type {\n",
       "        vertical-align: middle;\n",
       "    }\n",
       "\n",
       "    .dataframe tbody tr th {\n",
       "        vertical-align: top;\n",
       "    }\n",
       "\n",
       "    .dataframe thead th {\n",
       "        text-align: right;\n",
       "    }\n",
       "</style>\n",
       "<table border=\"1\" class=\"dataframe\">\n",
       "  <thead>\n",
       "    <tr style=\"text-align: right;\">\n",
       "      <th></th>\n",
       "      <th>city</th>\n",
       "      <th>year</th>\n",
       "      <th>title</th>\n",
       "      <th>content</th>\n",
       "      <th>cluster</th>\n",
       "      <th>keywords</th>\n",
       "      <th>concepts</th>\n",
       "    </tr>\n",
       "  </thead>\n",
       "  <tbody>\n",
       "    <tr>\n",
       "      <th>0</th>\n",
       "      <td>Lisboa</td>\n",
       "      <td>1999</td>\n",
       "      <td>POL | Local Lisboa</td>\n",
       "      <td>POL | Local Lisboa SECÇÕES 1ª Página Destaque ...</td>\n",
       "      <td>0</td>\n",
       "      <td>[(pagina ficha tecnica, 0.006355170236059001),...</td>\n",
       "      <td>3</td>\n",
       "    </tr>\n",
       "    <tr>\n",
       "      <th>1</th>\n",
       "      <td>Lisboa</td>\n",
       "      <td>1999</td>\n",
       "      <td>JN Editorial - Text57</td>\n",
       "      <td>JN Editorial - Text57 26 milhões para dar casa...</td>\n",
       "      <td>0</td>\n",
       "      <td>[(desenvolver vertente habitacional, 0.0382880...</td>\n",
       "      <td>3</td>\n",
       "    </tr>\n",
       "    <tr>\n",
       "      <th>2</th>\n",
       "      <td>Lisboa</td>\n",
       "      <td>1999</td>\n",
       "      <td>Outras Paginas</td>\n",
       "      <td>Outras Paginas 11 de Novembro de 1999 Igreja d...</td>\n",
       "      <td>0</td>\n",
       "      <td>[(aberta comunidade declarado, 0.0089504002322...</td>\n",
       "      <td>3</td>\n",
       "    </tr>\n",
       "    <tr>\n",
       "      <th>3</th>\n",
       "      <td>Lisboa</td>\n",
       "      <td>1999</td>\n",
       "      <td>JN Editorial - Texult1</td>\n",
       "      <td>JN Editorial - Texult1 Macau: Rão Kyao é o aut...</td>\n",
       "      <td>0</td>\n",
       "      <td>[(influencias orientais autor, 0.0123850332999...</td>\n",
       "      <td>3</td>\n",
       "    </tr>\n",
       "    <tr>\n",
       "      <th>4</th>\n",
       "      <td>Lisboa</td>\n",
       "      <td>1999</td>\n",
       "      <td>PÚBLICONLINE-Os Destaques da Primeira Página</td>\n",
       "      <td>PÚBLICONLINE-Os Destaques da Primeira Página S...</td>\n",
       "      <td>0</td>\n",
       "      <td>[(pagina seccoes pagina, 0.003380441747381107)...</td>\n",
       "      <td>3</td>\n",
       "    </tr>\n",
       "  </tbody>\n",
       "</table>\n",
       "</div>"
      ],
      "text/plain": [
       "     city  year                                         title  \\\n",
       "0  Lisboa  1999                            POL | Local Lisboa   \n",
       "1  Lisboa  1999                         JN Editorial - Text57   \n",
       "2  Lisboa  1999                                Outras Paginas   \n",
       "3  Lisboa  1999                        JN Editorial - Texult1   \n",
       "4  Lisboa  1999  PÚBLICONLINE-Os Destaques da Primeira Página   \n",
       "\n",
       "                                             content  cluster  \\\n",
       "0  POL | Local Lisboa SECÇÕES 1ª Página Destaque ...        0   \n",
       "1  JN Editorial - Text57 26 milhões para dar casa...        0   \n",
       "2  Outras Paginas 11 de Novembro de 1999 Igreja d...        0   \n",
       "3  JN Editorial - Texult1 Macau: Rão Kyao é o aut...        0   \n",
       "4  PÚBLICONLINE-Os Destaques da Primeira Página S...        0   \n",
       "\n",
       "                                            keywords  concepts  \n",
       "0  [(pagina ficha tecnica, 0.006355170236059001),...         3  \n",
       "1  [(desenvolver vertente habitacional, 0.0382880...         3  \n",
       "2  [(aberta comunidade declarado, 0.0089504002322...         3  \n",
       "3  [(influencias orientais autor, 0.0123850332999...         3  \n",
       "4  [(pagina seccoes pagina, 0.003380441747381107)...         3  "
      ]
     },
     "execution_count": 35,
     "metadata": {},
     "output_type": "execute_result"
    }
   ],
   "source": [
    "res.head()"
   ]
  },
  {
   "cell_type": "code",
   "execution_count": null,
   "metadata": {},
   "outputs": [],
   "source": [
    "res[res.year == 2020].head(50)"
   ]
  },
  {
   "cell_type": "code",
   "execution_count": 37,
   "metadata": {},
   "outputs": [
    {
     "data": {
      "text/plain": [
       "True"
      ]
     },
     "execution_count": 37,
     "metadata": {},
     "output_type": "execute_result"
    }
   ],
   "source": [
    "'portalegre' in res.tail(50).content.iloc[10].lower().split(' ')"
   ]
  },
  {
   "cell_type": "code",
   "execution_count": 38,
   "metadata": {},
   "outputs": [
    {
     "data": {
      "text/plain": [
       "'expresso | urbanismo pode ser fator diferenciador nas regiões'"
      ]
     },
     "execution_count": 38,
     "metadata": {},
     "output_type": "execute_result"
    }
   ],
   "source": [
    "res.tail(50).title.iloc[10].lower()"
   ]
  },
  {
   "cell_type": "code",
   "execution_count": 39,
   "metadata": {},
   "outputs": [
    {
     "data": {
      "text/html": [
       "<div>\n",
       "<style scoped>\n",
       "    .dataframe tbody tr th:only-of-type {\n",
       "        vertical-align: middle;\n",
       "    }\n",
       "\n",
       "    .dataframe tbody tr th {\n",
       "        vertical-align: top;\n",
       "    }\n",
       "\n",
       "    .dataframe thead th {\n",
       "        text-align: right;\n",
       "    }\n",
       "</style>\n",
       "<table border=\"1\" class=\"dataframe\">\n",
       "  <thead>\n",
       "    <tr style=\"text-align: right;\">\n",
       "      <th></th>\n",
       "      <th>city</th>\n",
       "      <th>year</th>\n",
       "      <th>title</th>\n",
       "      <th>content</th>\n",
       "      <th>cluster</th>\n",
       "      <th>keywords</th>\n",
       "      <th>concepts</th>\n",
       "    </tr>\n",
       "  </thead>\n",
       "  <tbody>\n",
       "    <tr>\n",
       "      <th>4097</th>\n",
       "      <td>Lisboa</td>\n",
       "      <td>2020</td>\n",
       "      <td>Expresso | Lisboa</td>\n",
       "      <td>Expresso | Lisboa Loja Siga-nos Facebook Twitt...</td>\n",
       "      <td>3</td>\n",
       "      <td>[(semanario atualidade recebe, 0.0377123788679...</td>\n",
       "      <td>3</td>\n",
       "    </tr>\n",
       "    <tr>\n",
       "      <th>4098</th>\n",
       "      <td>Lisboa</td>\n",
       "      <td>2020</td>\n",
       "      <td>Expresso | Lisboa bate recorde em cruzeiros</td>\n",
       "      <td>Expresso | Lisboa bate recorde em cruzeiros Lo...</td>\n",
       "      <td>2</td>\n",
       "      <td>[(ganharia maioria absoluta., 0.03219179260590...</td>\n",
       "      <td>3</td>\n",
       "    </tr>\n",
       "    <tr>\n",
       "      <th>4099</th>\n",
       "      <td>Lisboa</td>\n",
       "      <td>2020</td>\n",
       "      <td>Expresso | Fórmula 1 vai 'parar' Lisboa</td>\n",
       "      <td>Expresso | Fórmula 1 vai 'parar' Lisboa Loja S...</td>\n",
       "      <td>2</td>\n",
       "      <td>[(atualidade apresentar cosmopolis., 0.0102441...</td>\n",
       "      <td>3</td>\n",
       "    </tr>\n",
       "    <tr>\n",
       "      <th>4100</th>\n",
       "      <td>Lisboa</td>\n",
       "      <td>2020</td>\n",
       "      <td>Expresso | Que Lisboa é esta?</td>\n",
       "      <td>Expresso | Que Lisboa é esta? Loja Siga-nos Fa...</td>\n",
       "      <td>5</td>\n",
       "      <td>[(atualidade arquivo manifestantes, 0.02921389...</td>\n",
       "      <td>2</td>\n",
       "    </tr>\n",
       "    <tr>\n",
       "      <th>4101</th>\n",
       "      <td>Lisboa</td>\n",
       "      <td>2020</td>\n",
       "      <td>Expresso | 2017 – uma odisseia em Lisboa</td>\n",
       "      <td>Expresso | 2017 – uma odisseia em Lisboa Loja ...</td>\n",
       "      <td>2</td>\n",
       "      <td>[(avenida naus reabriu., 0.03461371156732152),...</td>\n",
       "      <td>7</td>\n",
       "    </tr>\n",
       "  </tbody>\n",
       "</table>\n",
       "</div>"
      ],
      "text/plain": [
       "        city  year                                        title  \\\n",
       "4097  Lisboa  2020                            Expresso | Lisboa   \n",
       "4098  Lisboa  2020  Expresso | Lisboa bate recorde em cruzeiros   \n",
       "4099  Lisboa  2020      Expresso | Fórmula 1 vai 'parar' Lisboa   \n",
       "4100  Lisboa  2020                Expresso | Que Lisboa é esta?   \n",
       "4101  Lisboa  2020     Expresso | 2017 – uma odisseia em Lisboa   \n",
       "\n",
       "                                                content  cluster  \\\n",
       "4097  Expresso | Lisboa Loja Siga-nos Facebook Twitt...        3   \n",
       "4098  Expresso | Lisboa bate recorde em cruzeiros Lo...        2   \n",
       "4099  Expresso | Fórmula 1 vai 'parar' Lisboa Loja S...        2   \n",
       "4100  Expresso | Que Lisboa é esta? Loja Siga-nos Fa...        5   \n",
       "4101  Expresso | 2017 – uma odisseia em Lisboa Loja ...        2   \n",
       "\n",
       "                                               keywords  concepts  \n",
       "4097  [(semanario atualidade recebe, 0.0377123788679...         3  \n",
       "4098  [(ganharia maioria absoluta., 0.03219179260590...         3  \n",
       "4099  [(atualidade apresentar cosmopolis., 0.0102441...         3  \n",
       "4100  [(atualidade arquivo manifestantes, 0.02921389...         2  \n",
       "4101  [(avenida naus reabriu., 0.03461371156732152),...         7  "
      ]
     },
     "execution_count": 39,
     "metadata": {},
     "output_type": "execute_result"
    }
   ],
   "source": [
    "res[(res.year==2020)].head()"
   ]
  },
  {
   "cell_type": "code",
   "execution_count": 44,
   "metadata": {},
   "outputs": [
    {
     "data": {
      "text/plain": [
       "city                                                   Lisboa\n",
       "year                                                     2020\n",
       "title                Expresso | 2017 – uma odisseia em Lisboa\n",
       "content     Expresso | 2017 – uma odisseia em Lisboa Loja ...\n",
       "cluster                                                     2\n",
       "keywords    [(avenida naus reabriu., 0.03461371156732152),...\n",
       "concepts                                                    7\n",
       "Name: 4101, dtype: object"
      ]
     },
     "execution_count": 44,
     "metadata": {},
     "output_type": "execute_result"
    }
   ],
   "source": [
    "i = 4\n",
    "res[(res.year==2020)].iloc[i]"
   ]
  },
  {
   "cell_type": "code",
   "execution_count": null,
   "metadata": {},
   "outputs": [],
   "source": [
    "res[(res.year==2020)].iloc[i].content"
   ]
  },
  {
   "cell_type": "code",
   "execution_count": null,
   "metadata": {},
   "outputs": [],
   "source": [
    "res[(res.year==2020)].iloc[i].keywords"
   ]
  },
  {
   "cell_type": "code",
   "execution_count": null,
   "metadata": {},
   "outputs": [],
   "source": [
    "list(zip(res[(res.cluster==1) & (res.year==2020)].title.to_list(), res[(res.cluster==1) & (res.year==2020)].keywords.to_list()))"
   ]
  },
  {
   "cell_type": "code",
   "execution_count": null,
   "metadata": {},
   "outputs": [],
   "source": [
    "res[(res.year==2019)]"
   ]
  },
  {
   "cell_type": "code",
   "execution_count": 3,
   "metadata": {},
   "outputs": [
    {
     "data": {
      "text/html": [
       "<div>\n",
       "<style scoped>\n",
       "    .dataframe tbody tr th:only-of-type {\n",
       "        vertical-align: middle;\n",
       "    }\n",
       "\n",
       "    .dataframe tbody tr th {\n",
       "        vertical-align: top;\n",
       "    }\n",
       "\n",
       "    .dataframe thead th {\n",
       "        text-align: right;\n",
       "    }\n",
       "</style>\n",
       "<table border=\"1\" class=\"dataframe\">\n",
       "  <thead>\n",
       "    <tr style=\"text-align: right;\">\n",
       "      <th></th>\n",
       "      <th>Unnamed: 0</th>\n",
       "      <th>city</th>\n",
       "      <th>title</th>\n",
       "      <th>content</th>\n",
       "      <th>year</th>\n",
       "      <th>tstamp</th>\n",
       "      <th>link</th>\n",
       "      <th>source</th>\n",
       "    </tr>\n",
       "  </thead>\n",
       "  <tbody>\n",
       "    <tr>\n",
       "      <th>2793</th>\n",
       "      <td>2793</td>\n",
       "      <td>Lisboa</td>\n",
       "      <td>Expresso | PSP de Lisboa detém falso polícia p...</td>\n",
       "      <td>Expresso | PSP de Lisboa detém falso polícia p...</td>\n",
       "      <td>2019</td>\n",
       "      <td>20191014194634</td>\n",
       "      <td>https://arquivo.pt/wayback/20191014194634/http...</td>\n",
       "      <td>expresso</td>\n",
       "    </tr>\n",
       "    <tr>\n",
       "      <th>2794</th>\n",
       "      <td>2794</td>\n",
       "      <td>Lisboa</td>\n",
       "      <td>Expresso | Lisboa</td>\n",
       "      <td>Expresso | Lisboa Assinar Loja Siga-nos Facebo...</td>\n",
       "      <td>2019</td>\n",
       "      <td>20190724011414</td>\n",
       "      <td>https://arquivo.pt/wayback/20190724011414/http...</td>\n",
       "      <td>expresso</td>\n",
       "    </tr>\n",
       "    <tr>\n",
       "      <th>2795</th>\n",
       "      <td>2795</td>\n",
       "      <td>Lisboa</td>\n",
       "      <td>Lisboa | Lisboa | PÚBLICO</td>\n",
       "      <td>Lisboa | Lisboa | PÚBLICO Ir para o conteúdo I...</td>\n",
       "      <td>2019</td>\n",
       "      <td>20190831124050</td>\n",
       "      <td>https://arquivo.pt/wayback/20190831124050/http...</td>\n",
       "      <td>publico</td>\n",
       "    </tr>\n",
       "    <tr>\n",
       "      <th>2796</th>\n",
       "      <td>2796</td>\n",
       "      <td>Lisboa</td>\n",
       "      <td>Expresso | PSD-Lisboa</td>\n",
       "      <td>Expresso | PSD-Lisboa Assinar Loja Siga-nos Fa...</td>\n",
       "      <td>2019</td>\n",
       "      <td>20190523013111</td>\n",
       "      <td>https://arquivo.pt/wayback/20190523013111/http...</td>\n",
       "      <td>expresso</td>\n",
       "    </tr>\n",
       "    <tr>\n",
       "      <th>2797</th>\n",
       "      <td>2797</td>\n",
       "      <td>Lisboa</td>\n",
       "      <td>Transportes | Lisboa | PÚBLICO</td>\n",
       "      <td>Transportes | Lisboa | PÚBLICO Ir para o conte...</td>\n",
       "      <td>2019</td>\n",
       "      <td>20190905221513</td>\n",
       "      <td>https://arquivo.pt/wayback/20190905221513/http...</td>\n",
       "      <td>publico</td>\n",
       "    </tr>\n",
       "    <tr>\n",
       "      <th>...</th>\n",
       "      <td>...</td>\n",
       "      <td>...</td>\n",
       "      <td>...</td>\n",
       "      <td>...</td>\n",
       "      <td>...</td>\n",
       "      <td>...</td>\n",
       "      <td>...</td>\n",
       "      <td>...</td>\n",
       "    </tr>\n",
       "    <tr>\n",
       "      <th>30597</th>\n",
       "      <td>30597</td>\n",
       "      <td>Portalegre</td>\n",
       "      <td>Expresso | #VazaJato</td>\n",
       "      <td>Expresso | #VazaJato Assinar Loja Siga-nos Fac...</td>\n",
       "      <td>2019</td>\n",
       "      <td>20190611182649</td>\n",
       "      <td>https://arquivo.pt/wayback/20190611182649/http...</td>\n",
       "      <td>expresso</td>\n",
       "    </tr>\n",
       "    <tr>\n",
       "      <th>30598</th>\n",
       "      <td>30598</td>\n",
       "      <td>Portalegre</td>\n",
       "      <td>Expresso | Liberdade para pensar</td>\n",
       "      <td>Expresso | Liberdade para pensar Assinar Loja ...</td>\n",
       "      <td>2019</td>\n",
       "      <td>20190829025053</td>\n",
       "      <td>https://arquivo.pt/wayback/20190829025053/http...</td>\n",
       "      <td>expresso</td>\n",
       "    </tr>\n",
       "    <tr>\n",
       "      <th>30599</th>\n",
       "      <td>30599</td>\n",
       "      <td>Portalegre</td>\n",
       "      <td>Expresso | A história secreta da geringonça</td>\n",
       "      <td>Expresso | A história secreta da geringonça As...</td>\n",
       "      <td>2019</td>\n",
       "      <td>20190522143846</td>\n",
       "      <td>https://arquivo.pt/wayback/20190522143846/http...</td>\n",
       "      <td>expresso</td>\n",
       "    </tr>\n",
       "    <tr>\n",
       "      <th>30600</th>\n",
       "      <td>30600</td>\n",
       "      <td>Portalegre</td>\n",
       "      <td>Uma autocaravana (e um drama) que percorre o i...</td>\n",
       "      <td>Uma autocaravana (e um drama) que percorre o i...</td>\n",
       "      <td>2019</td>\n",
       "      <td>20190905222158</td>\n",
       "      <td>https://arquivo.pt/wayback/20190905222158/http...</td>\n",
       "      <td>publico</td>\n",
       "    </tr>\n",
       "    <tr>\n",
       "      <th>30601</th>\n",
       "      <td>30601</td>\n",
       "      <td>Portalegre</td>\n",
       "      <td>Expresso | Conheça todas as medidas do acordo ...</td>\n",
       "      <td>Expresso | Conheça todas as medidas do acordo ...</td>\n",
       "      <td>2019</td>\n",
       "      <td>20190522141901</td>\n",
       "      <td>https://arquivo.pt/wayback/20190522141901/http...</td>\n",
       "      <td>expresso</td>\n",
       "    </tr>\n",
       "  </tbody>\n",
       "</table>\n",
       "<p>6233 rows × 8 columns</p>\n",
       "</div>"
      ],
      "text/plain": [
       "       Unnamed: 0        city  \\\n",
       "2793         2793      Lisboa   \n",
       "2794         2794      Lisboa   \n",
       "2795         2795      Lisboa   \n",
       "2796         2796      Lisboa   \n",
       "2797         2797      Lisboa   \n",
       "...           ...         ...   \n",
       "30597       30597  Portalegre   \n",
       "30598       30598  Portalegre   \n",
       "30599       30599  Portalegre   \n",
       "30600       30600  Portalegre   \n",
       "30601       30601  Portalegre   \n",
       "\n",
       "                                                   title  \\\n",
       "2793   Expresso | PSP de Lisboa detém falso polícia p...   \n",
       "2794                                   Expresso | Lisboa   \n",
       "2795                           Lisboa | Lisboa | PÚBLICO   \n",
       "2796                               Expresso | PSD-Lisboa   \n",
       "2797                      Transportes | Lisboa | PÚBLICO   \n",
       "...                                                  ...   \n",
       "30597                               Expresso | #VazaJato   \n",
       "30598                   Expresso | Liberdade para pensar   \n",
       "30599        Expresso | A história secreta da geringonça   \n",
       "30600  Uma autocaravana (e um drama) que percorre o i...   \n",
       "30601  Expresso | Conheça todas as medidas do acordo ...   \n",
       "\n",
       "                                                 content  year  \\\n",
       "2793   Expresso | PSP de Lisboa detém falso polícia p...  2019   \n",
       "2794   Expresso | Lisboa Assinar Loja Siga-nos Facebo...  2019   \n",
       "2795   Lisboa | Lisboa | PÚBLICO Ir para o conteúdo I...  2019   \n",
       "2796   Expresso | PSD-Lisboa Assinar Loja Siga-nos Fa...  2019   \n",
       "2797   Transportes | Lisboa | PÚBLICO Ir para o conte...  2019   \n",
       "...                                                  ...   ...   \n",
       "30597  Expresso | #VazaJato Assinar Loja Siga-nos Fac...  2019   \n",
       "30598  Expresso | Liberdade para pensar Assinar Loja ...  2019   \n",
       "30599  Expresso | A história secreta da geringonça As...  2019   \n",
       "30600  Uma autocaravana (e um drama) que percorre o i...  2019   \n",
       "30601  Expresso | Conheça todas as medidas do acordo ...  2019   \n",
       "\n",
       "               tstamp                                               link  \\\n",
       "2793   20191014194634  https://arquivo.pt/wayback/20191014194634/http...   \n",
       "2794   20190724011414  https://arquivo.pt/wayback/20190724011414/http...   \n",
       "2795   20190831124050  https://arquivo.pt/wayback/20190831124050/http...   \n",
       "2796   20190523013111  https://arquivo.pt/wayback/20190523013111/http...   \n",
       "2797   20190905221513  https://arquivo.pt/wayback/20190905221513/http...   \n",
       "...               ...                                                ...   \n",
       "30597  20190611182649  https://arquivo.pt/wayback/20190611182649/http...   \n",
       "30598  20190829025053  https://arquivo.pt/wayback/20190829025053/http...   \n",
       "30599  20190522143846  https://arquivo.pt/wayback/20190522143846/http...   \n",
       "30600  20190905222158  https://arquivo.pt/wayback/20190905222158/http...   \n",
       "30601  20190522141901  https://arquivo.pt/wayback/20190522141901/http...   \n",
       "\n",
       "         source  \n",
       "2793   expresso  \n",
       "2794   expresso  \n",
       "2795    publico  \n",
       "2796   expresso  \n",
       "2797    publico  \n",
       "...         ...  \n",
       "30597  expresso  \n",
       "30598  expresso  \n",
       "30599  expresso  \n",
       "30600   publico  \n",
       "30601  expresso  \n",
       "\n",
       "[6233 rows x 8 columns]"
      ]
     },
     "execution_count": 3,
     "metadata": {},
     "output_type": "execute_result"
    }
   ],
   "source": [
    "articles[(articles.year==2019)]"
   ]
  },
  {
   "cell_type": "code",
   "execution_count": 52,
   "metadata": {},
   "outputs": [
    {
     "data": {
      "text/plain": [
       "False"
      ]
     },
     "execution_count": 52,
     "metadata": {},
     "output_type": "execute_result"
    }
   ],
   "source": [
    "'portalegre' in articles.tail(50).content.iloc[10].lower().split(' ')"
   ]
  },
  {
   "cell_type": "code",
   "execution_count": 68,
   "metadata": {},
   "outputs": [
    {
     "data": {
      "text/plain": [
       "(30759, 7)"
      ]
     },
     "execution_count": 68,
     "metadata": {},
     "output_type": "execute_result"
    }
   ],
   "source": [
    "articles.shape"
   ]
  },
  {
   "cell_type": "code",
   "execution_count": 4,
   "metadata": {},
   "outputs": [],
   "source": [
    "articles.dropna(inplace=True)"
   ]
  },
  {
   "cell_type": "code",
   "execution_count": 5,
   "metadata": {},
   "outputs": [
    {
     "data": {
      "text/plain": [
       "(30712, 8)"
      ]
     },
     "execution_count": 5,
     "metadata": {},
     "output_type": "execute_result"
    }
   ],
   "source": [
    "articles.shape"
   ]
  },
  {
   "cell_type": "code",
   "execution_count": 6,
   "metadata": {},
   "outputs": [],
   "source": [
    "articles['check'] = articles.apply(lambda val: val['city'].lower() in val['content'].lower(), axis=1)"
   ]
  },
  {
   "cell_type": "code",
   "execution_count": 7,
   "metadata": {},
   "outputs": [
    {
     "data": {
      "text/plain": [
       "True     30270\n",
       "False      442\n",
       "Name: check, dtype: int64"
      ]
     },
     "execution_count": 7,
     "metadata": {},
     "output_type": "execute_result"
    }
   ],
   "source": [
    "articles['check'].value_counts()"
   ]
  },
  {
   "cell_type": "code",
   "execution_count": 8,
   "metadata": {},
   "outputs": [
    {
     "data": {
      "text/html": [
       "<div>\n",
       "<style scoped>\n",
       "    .dataframe tbody tr th:only-of-type {\n",
       "        vertical-align: middle;\n",
       "    }\n",
       "\n",
       "    .dataframe tbody tr th {\n",
       "        vertical-align: top;\n",
       "    }\n",
       "\n",
       "    .dataframe thead th {\n",
       "        text-align: right;\n",
       "    }\n",
       "</style>\n",
       "<table border=\"1\" class=\"dataframe\">\n",
       "  <thead>\n",
       "    <tr style=\"text-align: right;\">\n",
       "      <th></th>\n",
       "      <th>Unnamed: 0</th>\n",
       "      <th>city</th>\n",
       "      <th>title</th>\n",
       "      <th>content</th>\n",
       "      <th>year</th>\n",
       "      <th>tstamp</th>\n",
       "      <th>link</th>\n",
       "      <th>source</th>\n",
       "      <th>check</th>\n",
       "    </tr>\n",
       "  </thead>\n",
       "  <tbody>\n",
       "    <tr>\n",
       "      <th>0</th>\n",
       "      <td>0</td>\n",
       "      <td>Lisboa</td>\n",
       "      <td>POL | Local Lisboa</td>\n",
       "      <td>POL | Local Lisboa SECÇÕES 1ª Página Destaque ...</td>\n",
       "      <td>1999</td>\n",
       "      <td>19991111042737</td>\n",
       "      <td>https://arquivo.pt/wayback/19991111042737/http...</td>\n",
       "      <td>publico</td>\n",
       "      <td>True</td>\n",
       "    </tr>\n",
       "    <tr>\n",
       "      <th>1</th>\n",
       "      <td>1</td>\n",
       "      <td>Lisboa</td>\n",
       "      <td>JN Editorial - Text57</td>\n",
       "      <td>JN Editorial - Text57 26 milhões para dar casa...</td>\n",
       "      <td>1999</td>\n",
       "      <td>19990822002536</td>\n",
       "      <td>https://arquivo.pt/wayback/19990822002536/http...</td>\n",
       "      <td>jn</td>\n",
       "      <td>True</td>\n",
       "    </tr>\n",
       "    <tr>\n",
       "      <th>2</th>\n",
       "      <td>2</td>\n",
       "      <td>Lisboa</td>\n",
       "      <td>Outras Paginas</td>\n",
       "      <td>Outras Paginas 11 de Novembro de 1999 Igreja d...</td>\n",
       "      <td>1999</td>\n",
       "      <td>19991117215651</td>\n",
       "      <td>https://arquivo.pt/wayback/19991117215651/http...</td>\n",
       "      <td>jn</td>\n",
       "      <td>True</td>\n",
       "    </tr>\n",
       "    <tr>\n",
       "      <th>3</th>\n",
       "      <td>3</td>\n",
       "      <td>Lisboa</td>\n",
       "      <td>JN Editorial - Texult1</td>\n",
       "      <td>JN Editorial - Texult1 Macau: Rão Kyao é o aut...</td>\n",
       "      <td>1999</td>\n",
       "      <td>19991118004529</td>\n",
       "      <td>https://arquivo.pt/wayback/19991118004529/http...</td>\n",
       "      <td>jn</td>\n",
       "      <td>True</td>\n",
       "    </tr>\n",
       "    <tr>\n",
       "      <th>4</th>\n",
       "      <td>4</td>\n",
       "      <td>Lisboa</td>\n",
       "      <td>PÚBLICONLINE-Os Destaques da Primeira Página</td>\n",
       "      <td>PÚBLICONLINE-Os Destaques da Primeira Página S...</td>\n",
       "      <td>1999</td>\n",
       "      <td>19991012235908</td>\n",
       "      <td>https://arquivo.pt/wayback/19991012235908/http...</td>\n",
       "      <td>publico</td>\n",
       "      <td>True</td>\n",
       "    </tr>\n",
       "    <tr>\n",
       "      <th>...</th>\n",
       "      <td>...</td>\n",
       "      <td>...</td>\n",
       "      <td>...</td>\n",
       "      <td>...</td>\n",
       "      <td>...</td>\n",
       "      <td>...</td>\n",
       "      <td>...</td>\n",
       "      <td>...</td>\n",
       "      <td>...</td>\n",
       "    </tr>\n",
       "    <tr>\n",
       "      <th>30754</th>\n",
       "      <td>30754</td>\n",
       "      <td>Portalegre</td>\n",
       "      <td>Expresso | Aviso laranja em Viseu, Aveiro e Co...</td>\n",
       "      <td>Expresso | Aviso laranja em Viseu, Aveiro e Co...</td>\n",
       "      <td>2021</td>\n",
       "      <td>20201217220804</td>\n",
       "      <td>https://arquivo.pt/wayback/20201217220804/http...</td>\n",
       "      <td>expresso</td>\n",
       "      <td>True</td>\n",
       "    </tr>\n",
       "    <tr>\n",
       "      <th>30755</th>\n",
       "      <td>30755</td>\n",
       "      <td>Portalegre</td>\n",
       "      <td>Expresso | Presidenciais: Ventura e Le Pen jun...</td>\n",
       "      <td>Expresso | Presidenciais: Ventura e Le Pen jun...</td>\n",
       "      <td>2021</td>\n",
       "      <td>20201221183315</td>\n",
       "      <td>https://arquivo.pt/wayback/20201221183315/http...</td>\n",
       "      <td>expresso</td>\n",
       "      <td>True</td>\n",
       "    </tr>\n",
       "    <tr>\n",
       "      <th>30756</th>\n",
       "      <td>30756</td>\n",
       "      <td>Portalegre</td>\n",
       "      <td>Expresso | António Costa aponta porta de saída...</td>\n",
       "      <td>Expresso | António Costa aponta porta de saída...</td>\n",
       "      <td>2021</td>\n",
       "      <td>20201214221824</td>\n",
       "      <td>https://arquivo.pt/wayback/20201214221824/http...</td>\n",
       "      <td>expresso</td>\n",
       "      <td>True</td>\n",
       "    </tr>\n",
       "    <tr>\n",
       "      <th>30757</th>\n",
       "      <td>30757</td>\n",
       "      <td>Portalegre</td>\n",
       "      <td>Expresso | O que esperar da solidariedade em 2...</td>\n",
       "      <td>Expresso | O que esperar da solidariedade em 2...</td>\n",
       "      <td>2021</td>\n",
       "      <td>20201225190530</td>\n",
       "      <td>https://arquivo.pt/wayback/20201225190530/http...</td>\n",
       "      <td>expresso</td>\n",
       "      <td>True</td>\n",
       "    </tr>\n",
       "    <tr>\n",
       "      <th>30758</th>\n",
       "      <td>30758</td>\n",
       "      <td>Portalegre</td>\n",
       "      <td>Expresso | Covid. Esta é lista atualizada dos ...</td>\n",
       "      <td>Expresso | Covid. Esta é lista atualizada dos ...</td>\n",
       "      <td>2021</td>\n",
       "      <td>20201218202033</td>\n",
       "      <td>https://arquivo.pt/wayback/20201218202033/http...</td>\n",
       "      <td>expresso</td>\n",
       "      <td>True</td>\n",
       "    </tr>\n",
       "  </tbody>\n",
       "</table>\n",
       "<p>30270 rows × 9 columns</p>\n",
       "</div>"
      ],
      "text/plain": [
       "       Unnamed: 0        city  \\\n",
       "0               0      Lisboa   \n",
       "1               1      Lisboa   \n",
       "2               2      Lisboa   \n",
       "3               3      Lisboa   \n",
       "4               4      Lisboa   \n",
       "...           ...         ...   \n",
       "30754       30754  Portalegre   \n",
       "30755       30755  Portalegre   \n",
       "30756       30756  Portalegre   \n",
       "30757       30757  Portalegre   \n",
       "30758       30758  Portalegre   \n",
       "\n",
       "                                                   title  \\\n",
       "0                                     POL | Local Lisboa   \n",
       "1                                  JN Editorial - Text57   \n",
       "2                                         Outras Paginas   \n",
       "3                                 JN Editorial - Texult1   \n",
       "4           PÚBLICONLINE-Os Destaques da Primeira Página   \n",
       "...                                                  ...   \n",
       "30754  Expresso | Aviso laranja em Viseu, Aveiro e Co...   \n",
       "30755  Expresso | Presidenciais: Ventura e Le Pen jun...   \n",
       "30756  Expresso | António Costa aponta porta de saída...   \n",
       "30757  Expresso | O que esperar da solidariedade em 2...   \n",
       "30758  Expresso | Covid. Esta é lista atualizada dos ...   \n",
       "\n",
       "                                                 content  year  \\\n",
       "0      POL | Local Lisboa SECÇÕES 1ª Página Destaque ...  1999   \n",
       "1      JN Editorial - Text57 26 milhões para dar casa...  1999   \n",
       "2      Outras Paginas 11 de Novembro de 1999 Igreja d...  1999   \n",
       "3      JN Editorial - Texult1 Macau: Rão Kyao é o aut...  1999   \n",
       "4      PÚBLICONLINE-Os Destaques da Primeira Página S...  1999   \n",
       "...                                                  ...   ...   \n",
       "30754  Expresso | Aviso laranja em Viseu, Aveiro e Co...  2021   \n",
       "30755  Expresso | Presidenciais: Ventura e Le Pen jun...  2021   \n",
       "30756  Expresso | António Costa aponta porta de saída...  2021   \n",
       "30757  Expresso | O que esperar da solidariedade em 2...  2021   \n",
       "30758  Expresso | Covid. Esta é lista atualizada dos ...  2021   \n",
       "\n",
       "               tstamp                                               link  \\\n",
       "0      19991111042737  https://arquivo.pt/wayback/19991111042737/http...   \n",
       "1      19990822002536  https://arquivo.pt/wayback/19990822002536/http...   \n",
       "2      19991117215651  https://arquivo.pt/wayback/19991117215651/http...   \n",
       "3      19991118004529  https://arquivo.pt/wayback/19991118004529/http...   \n",
       "4      19991012235908  https://arquivo.pt/wayback/19991012235908/http...   \n",
       "...               ...                                                ...   \n",
       "30754  20201217220804  https://arquivo.pt/wayback/20201217220804/http...   \n",
       "30755  20201221183315  https://arquivo.pt/wayback/20201221183315/http...   \n",
       "30756  20201214221824  https://arquivo.pt/wayback/20201214221824/http...   \n",
       "30757  20201225190530  https://arquivo.pt/wayback/20201225190530/http...   \n",
       "30758  20201218202033  https://arquivo.pt/wayback/20201218202033/http...   \n",
       "\n",
       "         source  check  \n",
       "0       publico   True  \n",
       "1            jn   True  \n",
       "2            jn   True  \n",
       "3            jn   True  \n",
       "4       publico   True  \n",
       "...         ...    ...  \n",
       "30754  expresso   True  \n",
       "30755  expresso   True  \n",
       "30756  expresso   True  \n",
       "30757  expresso   True  \n",
       "30758  expresso   True  \n",
       "\n",
       "[30270 rows x 9 columns]"
      ]
     },
     "execution_count": 8,
     "metadata": {},
     "output_type": "execute_result"
    }
   ],
   "source": [
    "articles[articles['check']==True]"
   ]
  },
  {
   "cell_type": "code",
   "execution_count": 84,
   "metadata": {},
   "outputs": [
    {
     "data": {
      "text/html": [
       "<div>\n",
       "<style scoped>\n",
       "    .dataframe tbody tr th:only-of-type {\n",
       "        vertical-align: middle;\n",
       "    }\n",
       "\n",
       "    .dataframe tbody tr th {\n",
       "        vertical-align: top;\n",
       "    }\n",
       "\n",
       "    .dataframe thead th {\n",
       "        text-align: right;\n",
       "    }\n",
       "</style>\n",
       "<table border=\"1\" class=\"dataframe\">\n",
       "  <thead>\n",
       "    <tr style=\"text-align: right;\">\n",
       "      <th></th>\n",
       "      <th>Unnamed: 0</th>\n",
       "      <th>city</th>\n",
       "      <th>title</th>\n",
       "      <th>content</th>\n",
       "      <th>year</th>\n",
       "      <th>tstamp</th>\n",
       "      <th>link</th>\n",
       "      <th>check</th>\n",
       "    </tr>\n",
       "  </thead>\n",
       "  <tbody>\n",
       "    <tr>\n",
       "      <th>30755</th>\n",
       "      <td>30755</td>\n",
       "      <td>Portalegre</td>\n",
       "      <td>Expresso | Presidenciais: Ventura e Le Pen jun...</td>\n",
       "      <td>Expresso | Presidenciais: Ventura e Le Pen jun...</td>\n",
       "      <td>2021</td>\n",
       "      <td>20201221183315</td>\n",
       "      <td>https://arquivo.pt/wayback/20201221183315/http...</td>\n",
       "      <td>True</td>\n",
       "    </tr>\n",
       "  </tbody>\n",
       "</table>\n",
       "</div>"
      ],
      "text/plain": [
       "       Unnamed: 0        city  \\\n",
       "30755       30755  Portalegre   \n",
       "\n",
       "                                                   title  \\\n",
       "30755  Expresso | Presidenciais: Ventura e Le Pen jun...   \n",
       "\n",
       "                                                 content  year  \\\n",
       "30755  Expresso | Presidenciais: Ventura e Le Pen jun...  2021   \n",
       "\n",
       "               tstamp                                               link  \\\n",
       "30755  20201221183315  https://arquivo.pt/wayback/20201221183315/http...   \n",
       "\n",
       "       check  \n",
       "30755   True  "
      ]
     },
     "execution_count": 84,
     "metadata": {},
     "output_type": "execute_result"
    }
   ],
   "source": [
    "articles[articles.index.isin([30755])]"
   ]
  },
  {
   "cell_type": "code",
   "execution_count": null,
   "metadata": {},
   "outputs": [],
   "source": [
    "articles[articles.index.isin([30755])].content.to_list()"
   ]
  },
  {
   "cell_type": "code",
   "execution_count": 109,
   "metadata": {},
   "outputs": [
    {
     "data": {
      "text/plain": [
       "Expresso      12762\n",
       "50% DESCON      605\n",
       "40% DESCON      436\n",
       "30% DESCON      391\n",
       "45% DESCON      211\n",
       "              ...  \n",
       "Câmara do         1\n",
       "Associação        1\n",
       "Sporting |        1\n",
       "Estradas |        1\n",
       "António Vi        1\n",
       "Name: title, Length: 465, dtype: int64"
      ]
     },
     "execution_count": 109,
     "metadata": {},
     "output_type": "execute_result"
    }
   ],
   "source": [
    "articles['title'].apply(lambda val: re.findall(r'.*(?=\\|)', val)[0][0:10] if len(re.findall(r'.*(?=\\|)', val)) else None).value_counts()"
   ]
  },
  {
   "cell_type": "code",
   "execution_count": 9,
   "metadata": {},
   "outputs": [
    {
     "data": {
      "text/plain": [
       "2000    48\n",
       "2001    44\n",
       "1999    21\n",
       "2002    13\n",
       "Name: year, dtype: int64"
      ]
     },
     "execution_count": 9,
     "metadata": {},
     "output_type": "execute_result"
    }
   ],
   "source": [
    "articles[articles['title'].str.lower().str.startswith('jn')].year.value_counts()"
   ]
  },
  {
   "cell_type": "code",
   "execution_count": 10,
   "metadata": {},
   "outputs": [
    {
     "data": {
      "text/plain": [
       "expresso    12862\n",
       "publico     11380\n",
       "jn           6469\n",
       "dn              1\n",
       "Name: source, dtype: int64"
      ]
     },
     "execution_count": 10,
     "metadata": {},
     "output_type": "execute_result"
    }
   ],
   "source": [
    "articles['source'].value_counts()"
   ]
  },
  {
   "cell_type": "code",
   "execution_count": 11,
   "metadata": {},
   "outputs": [
    {
     "data": {
      "text/plain": [
       "source    year\n",
       "dn        2016       1\n",
       "expresso  2010       2\n",
       "          2012      11\n",
       "          2013       7\n",
       "          2014      38\n",
       "          2015      39\n",
       "          2016       1\n",
       "          2019    5553\n",
       "          2020    6278\n",
       "          2021     933\n",
       "jn        1999      37\n",
       "          2000     130\n",
       "          2001     294\n",
       "          2002     187\n",
       "          2003      22\n",
       "          2004      15\n",
       "          2005      15\n",
       "          2008      11\n",
       "          2013     133\n",
       "          2014    5613\n",
       "          2015      12\n",
       "publico   1999      73\n",
       "          2000      63\n",
       "          2001       2\n",
       "          2002       3\n",
       "          2003       7\n",
       "          2004      14\n",
       "          2005       3\n",
       "          2007      19\n",
       "          2008      15\n",
       "          2009       6\n",
       "          2010     826\n",
       "          2011    1210\n",
       "          2012     394\n",
       "          2013    3314\n",
       "          2014     980\n",
       "          2015    2120\n",
       "          2016    1651\n",
       "          2019     680\n",
       "dtype: int64"
      ]
     },
     "execution_count": 11,
     "metadata": {},
     "output_type": "execute_result"
    }
   ],
   "source": [
    "articles.groupby(['source','year']).size()"
   ]
  },
  {
   "cell_type": "code",
   "execution_count": 39,
   "metadata": {},
   "outputs": [
    {
     "data": {
      "text/html": [
       "<div>\n",
       "<style scoped>\n",
       "    .dataframe tbody tr th:only-of-type {\n",
       "        vertical-align: middle;\n",
       "    }\n",
       "\n",
       "    .dataframe tbody tr th {\n",
       "        vertical-align: top;\n",
       "    }\n",
       "\n",
       "    .dataframe thead th {\n",
       "        text-align: right;\n",
       "    }\n",
       "</style>\n",
       "<table border=\"1\" class=\"dataframe\">\n",
       "  <thead>\n",
       "    <tr style=\"text-align: right;\">\n",
       "      <th></th>\n",
       "      <th>source</th>\n",
       "      <th>year</th>\n",
       "      <th>city</th>\n",
       "      <th>count</th>\n",
       "    </tr>\n",
       "  </thead>\n",
       "  <tbody>\n",
       "    <tr>\n",
       "      <th>47</th>\n",
       "      <td>expresso</td>\n",
       "      <td>2019</td>\n",
       "      <td>Setúbal</td>\n",
       "      <td>281</td>\n",
       "    </tr>\n",
       "    <tr>\n",
       "      <th>65</th>\n",
       "      <td>expresso</td>\n",
       "      <td>2020</td>\n",
       "      <td>Setúbal</td>\n",
       "      <td>282</td>\n",
       "    </tr>\n",
       "    <tr>\n",
       "      <th>83</th>\n",
       "      <td>expresso</td>\n",
       "      <td>2021</td>\n",
       "      <td>Setúbal</td>\n",
       "      <td>47</td>\n",
       "    </tr>\n",
       "    <tr>\n",
       "      <th>100</th>\n",
       "      <td>jn</td>\n",
       "      <td>1999</td>\n",
       "      <td>Setúbal</td>\n",
       "      <td>2</td>\n",
       "    </tr>\n",
       "    <tr>\n",
       "      <th>118</th>\n",
       "      <td>jn</td>\n",
       "      <td>2000</td>\n",
       "      <td>Setúbal</td>\n",
       "      <td>7</td>\n",
       "    </tr>\n",
       "    <tr>\n",
       "      <th>136</th>\n",
       "      <td>jn</td>\n",
       "      <td>2001</td>\n",
       "      <td>Setúbal</td>\n",
       "      <td>19</td>\n",
       "    </tr>\n",
       "    <tr>\n",
       "      <th>154</th>\n",
       "      <td>jn</td>\n",
       "      <td>2002</td>\n",
       "      <td>Setúbal</td>\n",
       "      <td>7</td>\n",
       "    </tr>\n",
       "    <tr>\n",
       "      <th>184</th>\n",
       "      <td>jn</td>\n",
       "      <td>2004</td>\n",
       "      <td>Setúbal</td>\n",
       "      <td>1</td>\n",
       "    </tr>\n",
       "    <tr>\n",
       "      <th>199</th>\n",
       "      <td>jn</td>\n",
       "      <td>2005</td>\n",
       "      <td>Setúbal</td>\n",
       "      <td>1</td>\n",
       "    </tr>\n",
       "    <tr>\n",
       "      <th>226</th>\n",
       "      <td>jn</td>\n",
       "      <td>2013</td>\n",
       "      <td>Setúbal</td>\n",
       "      <td>8</td>\n",
       "    </tr>\n",
       "    <tr>\n",
       "      <th>243</th>\n",
       "      <td>jn</td>\n",
       "      <td>2014</td>\n",
       "      <td>Setúbal</td>\n",
       "      <td>332</td>\n",
       "    </tr>\n",
       "    <tr>\n",
       "      <th>256</th>\n",
       "      <td>jn</td>\n",
       "      <td>2015</td>\n",
       "      <td>Setúbal</td>\n",
       "      <td>1</td>\n",
       "    </tr>\n",
       "    <tr>\n",
       "      <th>273</th>\n",
       "      <td>publico</td>\n",
       "      <td>1999</td>\n",
       "      <td>Setúbal</td>\n",
       "      <td>2</td>\n",
       "    </tr>\n",
       "    <tr>\n",
       "      <th>291</th>\n",
       "      <td>publico</td>\n",
       "      <td>2000</td>\n",
       "      <td>Setúbal</td>\n",
       "      <td>1</td>\n",
       "    </tr>\n",
       "    <tr>\n",
       "      <th>300</th>\n",
       "      <td>publico</td>\n",
       "      <td>2002</td>\n",
       "      <td>Setúbal</td>\n",
       "      <td>1</td>\n",
       "    </tr>\n",
       "    <tr>\n",
       "      <th>307</th>\n",
       "      <td>publico</td>\n",
       "      <td>2003</td>\n",
       "      <td>Setúbal</td>\n",
       "      <td>1</td>\n",
       "    </tr>\n",
       "    <tr>\n",
       "      <th>319</th>\n",
       "      <td>publico</td>\n",
       "      <td>2004</td>\n",
       "      <td>Setúbal</td>\n",
       "      <td>1</td>\n",
       "    </tr>\n",
       "    <tr>\n",
       "      <th>334</th>\n",
       "      <td>publico</td>\n",
       "      <td>2007</td>\n",
       "      <td>Setúbal</td>\n",
       "      <td>1</td>\n",
       "    </tr>\n",
       "    <tr>\n",
       "      <th>348</th>\n",
       "      <td>publico</td>\n",
       "      <td>2008</td>\n",
       "      <td>Setúbal</td>\n",
       "      <td>1</td>\n",
       "    </tr>\n",
       "    <tr>\n",
       "      <th>357</th>\n",
       "      <td>publico</td>\n",
       "      <td>2009</td>\n",
       "      <td>Setúbal</td>\n",
       "      <td>1</td>\n",
       "    </tr>\n",
       "    <tr>\n",
       "      <th>372</th>\n",
       "      <td>publico</td>\n",
       "      <td>2010</td>\n",
       "      <td>Setúbal</td>\n",
       "      <td>67</td>\n",
       "    </tr>\n",
       "    <tr>\n",
       "      <th>390</th>\n",
       "      <td>publico</td>\n",
       "      <td>2011</td>\n",
       "      <td>Setúbal</td>\n",
       "      <td>339</td>\n",
       "    </tr>\n",
       "    <tr>\n",
       "      <th>408</th>\n",
       "      <td>publico</td>\n",
       "      <td>2012</td>\n",
       "      <td>Setúbal</td>\n",
       "      <td>9</td>\n",
       "    </tr>\n",
       "    <tr>\n",
       "      <th>426</th>\n",
       "      <td>publico</td>\n",
       "      <td>2013</td>\n",
       "      <td>Setúbal</td>\n",
       "      <td>85</td>\n",
       "    </tr>\n",
       "    <tr>\n",
       "      <th>444</th>\n",
       "      <td>publico</td>\n",
       "      <td>2014</td>\n",
       "      <td>Setúbal</td>\n",
       "      <td>41</td>\n",
       "    </tr>\n",
       "    <tr>\n",
       "      <th>462</th>\n",
       "      <td>publico</td>\n",
       "      <td>2015</td>\n",
       "      <td>Setúbal</td>\n",
       "      <td>99</td>\n",
       "    </tr>\n",
       "    <tr>\n",
       "      <th>480</th>\n",
       "      <td>publico</td>\n",
       "      <td>2016</td>\n",
       "      <td>Setúbal</td>\n",
       "      <td>120</td>\n",
       "    </tr>\n",
       "    <tr>\n",
       "      <th>498</th>\n",
       "      <td>publico</td>\n",
       "      <td>2019</td>\n",
       "      <td>Setúbal</td>\n",
       "      <td>32</td>\n",
       "    </tr>\n",
       "  </tbody>\n",
       "</table>\n",
       "</div>"
      ],
      "text/plain": [
       "       source  year     city  count\n",
       "47   expresso  2019  Setúbal    281\n",
       "65   expresso  2020  Setúbal    282\n",
       "83   expresso  2021  Setúbal     47\n",
       "100        jn  1999  Setúbal      2\n",
       "118        jn  2000  Setúbal      7\n",
       "136        jn  2001  Setúbal     19\n",
       "154        jn  2002  Setúbal      7\n",
       "184        jn  2004  Setúbal      1\n",
       "199        jn  2005  Setúbal      1\n",
       "226        jn  2013  Setúbal      8\n",
       "243        jn  2014  Setúbal    332\n",
       "256        jn  2015  Setúbal      1\n",
       "273   publico  1999  Setúbal      2\n",
       "291   publico  2000  Setúbal      1\n",
       "300   publico  2002  Setúbal      1\n",
       "307   publico  2003  Setúbal      1\n",
       "319   publico  2004  Setúbal      1\n",
       "334   publico  2007  Setúbal      1\n",
       "348   publico  2008  Setúbal      1\n",
       "357   publico  2009  Setúbal      1\n",
       "372   publico  2010  Setúbal     67\n",
       "390   publico  2011  Setúbal    339\n",
       "408   publico  2012  Setúbal      9\n",
       "426   publico  2013  Setúbal     85\n",
       "444   publico  2014  Setúbal     41\n",
       "462   publico  2015  Setúbal     99\n",
       "480   publico  2016  Setúbal    120\n",
       "498   publico  2019  Setúbal     32"
      ]
     },
     "execution_count": 39,
     "metadata": {},
     "output_type": "execute_result"
    }
   ],
   "source": [
    "df = articles.groupby(['source','year', 'city']).size().reset_index(name='count')\n",
    "df[df.city=='Setúbal']"
   ]
  },
  {
   "cell_type": "code",
   "execution_count": 12,
   "metadata": {},
   "outputs": [
    {
     "data": {
      "text/plain": [
       "2014    5273\n",
       "Name: year, dtype: int64"
      ]
     },
     "execution_count": 12,
     "metadata": {},
     "output_type": "execute_result"
    }
   ],
   "source": [
    "# Garbage JN articles\n",
    "articles[(articles['source'] == 'jn') & (articles['title'].str.contains('DESCONTO'))].year.value_counts()"
   ]
  },
  {
   "cell_type": "code",
   "execution_count": 25,
   "metadata": {},
   "outputs": [
    {
     "data": {
      "text/plain": [
       "2020    6278\n",
       "2019    5553\n",
       "2021     933\n",
       "2015      39\n",
       "2014      38\n",
       "2012      11\n",
       "2013       7\n",
       "2010       2\n",
       "2016       1\n",
       "Name: year, dtype: int64"
      ]
     },
     "execution_count": 25,
     "metadata": {},
     "output_type": "execute_result"
    }
   ],
   "source": [
    "articles[(articles['source'] == 'expresso')].year.value_counts()"
   ]
  },
  {
   "cell_type": "code",
   "execution_count": 26,
   "metadata": {},
   "outputs": [
    {
     "data": {
      "text/plain": [
       "2014    5613\n",
       "2001     294\n",
       "2002     187\n",
       "2013     133\n",
       "2000     130\n",
       "1999      37\n",
       "2003      22\n",
       "2004      15\n",
       "2005      15\n",
       "2015      12\n",
       "2008      11\n",
       "Name: year, dtype: int64"
      ]
     },
     "execution_count": 26,
     "metadata": {},
     "output_type": "execute_result"
    }
   ],
   "source": [
    "articles[(articles['source'] == 'jn')].year.value_counts()"
   ]
  },
  {
   "cell_type": "code",
   "execution_count": 27,
   "metadata": {},
   "outputs": [
    {
     "data": {
      "text/plain": [
       "2013    3314\n",
       "2015    2120\n",
       "2016    1651\n",
       "2011    1210\n",
       "2014     980\n",
       "2010     826\n",
       "2019     680\n",
       "2012     394\n",
       "1999      73\n",
       "2000      63\n",
       "2007      19\n",
       "2008      15\n",
       "2004      14\n",
       "2003       7\n",
       "2009       6\n",
       "2005       3\n",
       "2002       3\n",
       "2001       2\n",
       "Name: year, dtype: int64"
      ]
     },
     "execution_count": 27,
     "metadata": {},
     "output_type": "execute_result"
    }
   ],
   "source": [
    "articles[(articles['source'] == 'publico')].year.value_counts()"
   ]
  },
  {
   "cell_type": "code",
   "execution_count": null,
   "metadata": {},
   "outputs": [],
   "source": [
    "articles[(articles['source'] == 'publico')].iloc[-50].content"
   ]
  },
  {
   "cell_type": "code",
   "execution_count": 186,
   "metadata": {},
   "outputs": [
    {
     "data": {
      "text/plain": [
       "'António Saraiva - PÚBLICO'"
      ]
     },
     "execution_count": 186,
     "metadata": {},
     "output_type": "execute_result"
    }
   ],
   "source": [
    "articles[(articles['source'] == 'publico')].iloc[-50].title"
   ]
  },
  {
   "cell_type": "code",
   "execution_count": 187,
   "metadata": {},
   "outputs": [
    {
     "data": {
      "text/plain": [
       "'https://arquivo.pt/wayback/20150602191628/http://publico.pt/antonio-saraiva'"
      ]
     },
     "execution_count": 187,
     "metadata": {},
     "output_type": "execute_result"
    }
   ],
   "source": [
    "articles[(articles['source'] == 'publico')].iloc[-50].link"
   ]
  },
  {
   "cell_type": "code",
   "execution_count": null,
   "metadata": {},
   "outputs": [],
   "source": [
    "list(zip(articles[(articles['source'] == 'publico')].link.to_list(), articles[(articles['source'] == 'publico')].year.to_list()))[-20:]"
   ]
  },
  {
   "cell_type": "code",
   "execution_count": null,
   "metadata": {},
   "outputs": [],
   "source": [
    "list(zip(articles[(articles['source'] == 'jn')].link.to_list(), articles[(articles['source'] == 'jn')].year.to_list()))[-200:]"
   ]
  },
  {
   "cell_type": "code",
   "execution_count": null,
   "metadata": {},
   "outputs": [],
   "source": []
  }
 ],
 "metadata": {
  "interpreter": {
   "hash": "57e5980710ed742cfe72a4be488a9d6f7ea4c6a6f4082a5d701045bcd350c891"
  },
  "kernelspec": {
   "display_name": "Python 3.9.7 ('smart_archive-LyPfE8oW-py3.9')",
   "language": "python",
   "name": "python3"
  },
  "language_info": {
   "codemirror_mode": {
    "name": "ipython",
    "version": 3
   },
   "file_extension": ".py",
   "mimetype": "text/x-python",
   "name": "python",
   "nbconvert_exporter": "python",
   "pygments_lexer": "ipython3",
   "version": "3.9.7"
  },
  "orig_nbformat": 4
 },
 "nbformat": 4,
 "nbformat_minor": 2
}
